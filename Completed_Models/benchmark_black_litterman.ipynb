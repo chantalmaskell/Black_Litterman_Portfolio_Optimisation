{
 "cells": [
  {
   "cell_type": "markdown",
   "metadata": {},
   "source": [
    "## Benchmark Black Litterman"
   ]
  },
  {
   "cell_type": "code",
   "execution_count": 69,
   "metadata": {},
   "outputs": [],
   "source": [
    "import numpy as np\n",
    "import pandas as pd\n",
    "import yfinance as yf\n",
    "import pypfopt \n",
    "import matplotlib.pyplot as plt\n",
    "\n",
    "from pypfopt import black_litterman, plotting\n",
    "from pypfopt import BlackLittermanModel\n",
    "from pypfopt.efficient_frontier import EfficientFrontier\n",
    "from pypfopt.discrete_allocation import DiscreteAllocation, get_latest_prices"
   ]
  },
  {
   "cell_type": "markdown",
   "metadata": {},
   "source": [
    "### Data Collection"
   ]
  },
  {
   "cell_type": "markdown",
   "metadata": {},
   "source": [
    "Stock data for each ticker is first retrieved for the 10-year date range. This is downloaded via Yahoo Finance (Python library: yfinance).\n",
    "\n",
    "Tickers (also known as 'symbols') are used as an identifier for a given stock. A breakdown of ticker and it's respective stock is as follows:\n",
    "\n",
    "<li>'TSLA' == Tesla\n",
    "<li>'NVDA' == Nvdia\n",
    "<li>'AMZN' == Amazon\n",
    "<li>'META' == Meta\n",
    "<li>'RIVN' == Rivian Automotive Inc??\n",
    "<li>'INTC' == Intel Corp\n",
    "<li>'AMD' == Advanced Micro-Devices<br>\n",
    "\n",
    "Closing prices ('Adj Close') and logarithmic returns are then calculated. The 10 most recent closing prices for each ticker are printed using tail(10)."
   ]
  },
  {
   "cell_type": "code",
   "execution_count": 50,
   "metadata": {},
   "outputs": [
    {
     "name": "stderr",
     "output_type": "stream",
     "text": [
      "[*********************100%***********************]  7 of 7 completed\n"
     ]
    },
    {
     "data": {
      "text/html": [
       "<div>\n",
       "<style scoped>\n",
       "    .dataframe tbody tr th:only-of-type {\n",
       "        vertical-align: middle;\n",
       "    }\n",
       "\n",
       "    .dataframe tbody tr th {\n",
       "        vertical-align: top;\n",
       "    }\n",
       "\n",
       "    .dataframe thead th {\n",
       "        text-align: right;\n",
       "    }\n",
       "</style>\n",
       "<table border=\"1\" class=\"dataframe\">\n",
       "  <thead>\n",
       "    <tr style=\"text-align: right;\">\n",
       "      <th>Ticker</th>\n",
       "      <th>AMD</th>\n",
       "      <th>AMZN</th>\n",
       "      <th>INTC</th>\n",
       "      <th>META</th>\n",
       "      <th>NVDA</th>\n",
       "      <th>RIVN</th>\n",
       "      <th>TSLA</th>\n",
       "    </tr>\n",
       "    <tr>\n",
       "      <th>Date</th>\n",
       "      <th></th>\n",
       "      <th></th>\n",
       "      <th></th>\n",
       "      <th></th>\n",
       "      <th></th>\n",
       "      <th></th>\n",
       "      <th></th>\n",
       "    </tr>\n",
       "  </thead>\n",
       "  <tbody>\n",
       "    <tr>\n",
       "      <th>2023-12-15 00:00:00+00:00</th>\n",
       "      <td>139.149994</td>\n",
       "      <td>149.970001</td>\n",
       "      <td>45.549953</td>\n",
       "      <td>333.645508</td>\n",
       "      <td>48.876141</td>\n",
       "      <td>22.830000</td>\n",
       "      <td>253.500000</td>\n",
       "    </tr>\n",
       "    <tr>\n",
       "      <th>2023-12-18 00:00:00+00:00</th>\n",
       "      <td>138.899994</td>\n",
       "      <td>154.070007</td>\n",
       "      <td>45.086166</td>\n",
       "      <td>343.308594</td>\n",
       "      <td>50.062805</td>\n",
       "      <td>23.799999</td>\n",
       "      <td>252.080002</td>\n",
       "    </tr>\n",
       "    <tr>\n",
       "      <th>2023-12-19 00:00:00+00:00</th>\n",
       "      <td>140.149994</td>\n",
       "      <td>153.789993</td>\n",
       "      <td>46.043346</td>\n",
       "      <td>349.026733</td>\n",
       "      <td>49.589939</td>\n",
       "      <td>24.350000</td>\n",
       "      <td>257.220001</td>\n",
       "    </tr>\n",
       "    <tr>\n",
       "      <th>2023-12-20 00:00:00+00:00</th>\n",
       "      <td>135.470001</td>\n",
       "      <td>152.119995</td>\n",
       "      <td>45.155243</td>\n",
       "      <td>347.950836</td>\n",
       "      <td>48.097359</td>\n",
       "      <td>23.180000</td>\n",
       "      <td>247.139999</td>\n",
       "    </tr>\n",
       "    <tr>\n",
       "      <th>2023-12-21 00:00:00+00:00</th>\n",
       "      <td>139.910004</td>\n",
       "      <td>153.839996</td>\n",
       "      <td>46.457798</td>\n",
       "      <td>352.742523</td>\n",
       "      <td>48.976116</td>\n",
       "      <td>23.580000</td>\n",
       "      <td>254.500000</td>\n",
       "    </tr>\n",
       "    <tr>\n",
       "      <th>2023-12-22 00:00:00+00:00</th>\n",
       "      <td>139.600006</td>\n",
       "      <td>153.419998</td>\n",
       "      <td>47.365639</td>\n",
       "      <td>352.045227</td>\n",
       "      <td>48.816162</td>\n",
       "      <td>23.209999</td>\n",
       "      <td>252.539993</td>\n",
       "    </tr>\n",
       "    <tr>\n",
       "      <th>2023-12-26 00:00:00+00:00</th>\n",
       "      <td>143.410004</td>\n",
       "      <td>153.410004</td>\n",
       "      <td>49.832600</td>\n",
       "      <td>353.479736</td>\n",
       "      <td>49.265030</td>\n",
       "      <td>23.590000</td>\n",
       "      <td>256.609985</td>\n",
       "    </tr>\n",
       "    <tr>\n",
       "      <th>2023-12-27 00:00:00+00:00</th>\n",
       "      <td>146.070007</td>\n",
       "      <td>153.339996</td>\n",
       "      <td>50.089161</td>\n",
       "      <td>356.468323</td>\n",
       "      <td>49.402988</td>\n",
       "      <td>23.730000</td>\n",
       "      <td>261.440002</td>\n",
       "    </tr>\n",
       "    <tr>\n",
       "      <th>2023-12-28 00:00:00+00:00</th>\n",
       "      <td>148.759995</td>\n",
       "      <td>153.380005</td>\n",
       "      <td>49.724056</td>\n",
       "      <td>356.956451</td>\n",
       "      <td>49.507965</td>\n",
       "      <td>23.540001</td>\n",
       "      <td>253.179993</td>\n",
       "    </tr>\n",
       "    <tr>\n",
       "      <th>2023-12-29 00:00:00+00:00</th>\n",
       "      <td>147.410004</td>\n",
       "      <td>151.940002</td>\n",
       "      <td>49.585903</td>\n",
       "      <td>352.613037</td>\n",
       "      <td>49.507965</td>\n",
       "      <td>23.459999</td>\n",
       "      <td>248.479996</td>\n",
       "    </tr>\n",
       "  </tbody>\n",
       "</table>\n",
       "</div>"
      ],
      "text/plain": [
       "Ticker                            AMD        AMZN       INTC        META  \\\n",
       "Date                                                                       \n",
       "2023-12-15 00:00:00+00:00  139.149994  149.970001  45.549953  333.645508   \n",
       "2023-12-18 00:00:00+00:00  138.899994  154.070007  45.086166  343.308594   \n",
       "2023-12-19 00:00:00+00:00  140.149994  153.789993  46.043346  349.026733   \n",
       "2023-12-20 00:00:00+00:00  135.470001  152.119995  45.155243  347.950836   \n",
       "2023-12-21 00:00:00+00:00  139.910004  153.839996  46.457798  352.742523   \n",
       "2023-12-22 00:00:00+00:00  139.600006  153.419998  47.365639  352.045227   \n",
       "2023-12-26 00:00:00+00:00  143.410004  153.410004  49.832600  353.479736   \n",
       "2023-12-27 00:00:00+00:00  146.070007  153.339996  50.089161  356.468323   \n",
       "2023-12-28 00:00:00+00:00  148.759995  153.380005  49.724056  356.956451   \n",
       "2023-12-29 00:00:00+00:00  147.410004  151.940002  49.585903  352.613037   \n",
       "\n",
       "Ticker                          NVDA       RIVN        TSLA  \n",
       "Date                                                         \n",
       "2023-12-15 00:00:00+00:00  48.876141  22.830000  253.500000  \n",
       "2023-12-18 00:00:00+00:00  50.062805  23.799999  252.080002  \n",
       "2023-12-19 00:00:00+00:00  49.589939  24.350000  257.220001  \n",
       "2023-12-20 00:00:00+00:00  48.097359  23.180000  247.139999  \n",
       "2023-12-21 00:00:00+00:00  48.976116  23.580000  254.500000  \n",
       "2023-12-22 00:00:00+00:00  48.816162  23.209999  252.539993  \n",
       "2023-12-26 00:00:00+00:00  49.265030  23.590000  256.609985  \n",
       "2023-12-27 00:00:00+00:00  49.402988  23.730000  261.440002  \n",
       "2023-12-28 00:00:00+00:00  49.507965  23.540001  253.179993  \n",
       "2023-12-29 00:00:00+00:00  49.507965  23.459999  248.479996  "
      ]
     },
     "execution_count": 50,
     "metadata": {},
     "output_type": "execute_result"
    }
   ],
   "source": [
    "tickers = [\"TSLA\", \"NVDA\", \"AMZN\", \"META\", \"RIVN\", \"INTC\", \"AMD\"]\n",
    "\n",
    "start_date = '2014-01-01'\n",
    "end_date = '2024-01-01'\n",
    "\n",
    "data = yf.download(tickers, start=start_date, end=end_date)\n",
    "\n",
    "closing_prices = data[\"Adj Close\"]\n",
    "returns = np.log(closing_prices / closing_prices.shift(1).dropna())\n",
    "\n",
    "def get_market_prices_and_caps(tickers, start_date, end_date):\n",
    "    \"\"\"\n",
    "    Retrieves market prices and market capitalisations for a list of stock tickers. \n",
    "    Market prices are retrieved from the Vanguard S&P 500 index (VOO) based on the \n",
    "    Adjusted Close column, and market capitalisations are retrieved for each stock.\n",
    "\n",
    "    Parameters:\n",
    "\n",
    "    tickers: list of str\n",
    "        List of stock tickers to retrieve market caps for.\n",
    "    start_date: str in date format\n",
    "        Start date for period to retrieve market prices.\n",
    "    end_date: str in date format\n",
    "        End date for period to retrieve market prices.\n",
    "\n",
    "    market_prices: pd.Series\n",
    "        Pandas Series of market prices for the VOO index.\n",
    "    market_caps: dict\n",
    "        Dictionary of tickers (keys) and market capitalisation (values). If a market cap \n",
    "        cannot be retrieved, set the value to 'None'.\n",
    "    \"\"\"\n",
    "    market_prices = yf.download(\"VOO\", start=start_date, end=end_date)[\"Adj Close\"]\n",
    "\n",
    "    market_caps = {}\n",
    "    for ticker in tickers:\n",
    "        stock = yf.Ticker(ticker)\n",
    "        market_caps[ticker] = stock.info.get(\"marketCap\", None)\n",
    "\n",
    "    return market_prices, market_caps\n",
    "\n",
    "closing_prices.tail(10)"
   ]
  },
  {
   "cell_type": "markdown",
   "metadata": {},
   "source": [
    "The covariance matrix of asset returns is calculated, from which the covariance and correlation plots are displayed. Both plots are derived from the same data, however the latter provides better visualisation of asset covariances."
   ]
  },
  {
   "cell_type": "code",
   "execution_count": 51,
   "metadata": {},
   "outputs": [
    {
     "data": {
      "image/png": "[encoded data removed]",
      "text/plain": [
       "<Figure size 640x480 with 2 Axes>"
      ]
     },
     "metadata": {},
     "output_type": "display_data"
    },
    {
     "data": {
      "image/png": "[encoded data removed]",
      "text/plain": [
       "<Figure size 640x480 with 2 Axes>"
      ]
     },
     "metadata": {},
     "output_type": "display_data"
    }
   ],
   "source": [
    "covariance_matrix = returns.cov()\n",
    "\n",
    "covariance_plot = plotting.plot_covariance(covariance_matrix, plot_correlation=False)\n",
    "correlation_plot = plotting.plot_covariance(covariance_matrix, plot_correlation=True)"
   ]
  },
  {
   "cell_type": "markdown",
   "metadata": {},
   "source": [
    "The dataframe for the above covariance matrices can be seen below for further clarity of how returns correlate between assets."
   ]
  },
  {
   "cell_type": "code",
   "execution_count": 52,
   "metadata": {},
   "outputs": [
    {
     "data": {
      "text/html": [
       "<div>\n",
       "<style scoped>\n",
       "    .dataframe tbody tr th:only-of-type {\n",
       "        vertical-align: middle;\n",
       "    }\n",
       "\n",
       "    .dataframe tbody tr th {\n",
       "        vertical-align: top;\n",
       "    }\n",
       "\n",
       "    .dataframe thead th {\n",
       "        text-align: right;\n",
       "    }\n",
       "</style>\n",
       "<table border=\"1\" class=\"dataframe\">\n",
       "  <thead>\n",
       "    <tr style=\"text-align: right;\">\n",
       "      <th>Ticker</th>\n",
       "      <th>AMD</th>\n",
       "      <th>AMZN</th>\n",
       "      <th>INTC</th>\n",
       "      <th>META</th>\n",
       "      <th>NVDA</th>\n",
       "      <th>RIVN</th>\n",
       "      <th>TSLA</th>\n",
       "    </tr>\n",
       "    <tr>\n",
       "      <th>Ticker</th>\n",
       "      <th></th>\n",
       "      <th></th>\n",
       "      <th></th>\n",
       "      <th></th>\n",
       "      <th></th>\n",
       "      <th></th>\n",
       "      <th></th>\n",
       "    </tr>\n",
       "  </thead>\n",
       "  <tbody>\n",
       "    <tr>\n",
       "      <th>AMD</th>\n",
       "      <td>0.001181</td>\n",
       "      <td>0.000547</td>\n",
       "      <td>0.000489</td>\n",
       "      <td>0.000602</td>\n",
       "      <td>0.000990</td>\n",
       "      <td>0.000892</td>\n",
       "      <td>0.000709</td>\n",
       "    </tr>\n",
       "    <tr>\n",
       "      <th>AMZN</th>\n",
       "      <td>0.000547</td>\n",
       "      <td>0.000687</td>\n",
       "      <td>0.000286</td>\n",
       "      <td>0.000529</td>\n",
       "      <td>0.000567</td>\n",
       "      <td>0.000604</td>\n",
       "      <td>0.000501</td>\n",
       "    </tr>\n",
       "    <tr>\n",
       "      <th>INTC</th>\n",
       "      <td>0.000489</td>\n",
       "      <td>0.000286</td>\n",
       "      <td>0.000563</td>\n",
       "      <td>0.000376</td>\n",
       "      <td>0.000436</td>\n",
       "      <td>0.000425</td>\n",
       "      <td>0.000348</td>\n",
       "    </tr>\n",
       "    <tr>\n",
       "      <th>META</th>\n",
       "      <td>0.000602</td>\n",
       "      <td>0.000529</td>\n",
       "      <td>0.000376</td>\n",
       "      <td>0.001150</td>\n",
       "      <td>0.000633</td>\n",
       "      <td>0.000644</td>\n",
       "      <td>0.000476</td>\n",
       "    </tr>\n",
       "    <tr>\n",
       "      <th>NVDA</th>\n",
       "      <td>0.000990</td>\n",
       "      <td>0.000567</td>\n",
       "      <td>0.000436</td>\n",
       "      <td>0.000633</td>\n",
       "      <td>0.001252</td>\n",
       "      <td>0.000897</td>\n",
       "      <td>0.000791</td>\n",
       "    </tr>\n",
       "    <tr>\n",
       "      <th>RIVN</th>\n",
       "      <td>0.000892</td>\n",
       "      <td>0.000604</td>\n",
       "      <td>0.000425</td>\n",
       "      <td>0.000644</td>\n",
       "      <td>0.000897</td>\n",
       "      <td>0.002920</td>\n",
       "      <td>0.001124</td>\n",
       "    </tr>\n",
       "    <tr>\n",
       "      <th>TSLA</th>\n",
       "      <td>0.000709</td>\n",
       "      <td>0.000501</td>\n",
       "      <td>0.000348</td>\n",
       "      <td>0.000476</td>\n",
       "      <td>0.000791</td>\n",
       "      <td>0.001124</td>\n",
       "      <td>0.001462</td>\n",
       "    </tr>\n",
       "  </tbody>\n",
       "</table>\n",
       "</div>"
      ],
      "text/plain": [
       "Ticker       AMD      AMZN      INTC      META      NVDA      RIVN      TSLA\n",
       "Ticker                                                                      \n",
       "AMD     0.001181  0.000547  0.000489  0.000602  0.000990  0.000892  0.000709\n",
       "AMZN    0.000547  0.000687  0.000286  0.000529  0.000567  0.000604  0.000501\n",
       "INTC    0.000489  0.000286  0.000563  0.000376  0.000436  0.000425  0.000348\n",
       "META    0.000602  0.000529  0.000376  0.001150  0.000633  0.000644  0.000476\n",
       "NVDA    0.000990  0.000567  0.000436  0.000633  0.001252  0.000897  0.000791\n",
       "RIVN    0.000892  0.000604  0.000425  0.000644  0.000897  0.002920  0.001124\n",
       "TSLA    0.000709  0.000501  0.000348  0.000476  0.000791  0.001124  0.001462"
      ]
     },
     "execution_count": 52,
     "metadata": {},
     "output_type": "execute_result"
    }
   ],
   "source": [
    "covariance_matrix"
   ]
  },
  {
   "cell_type": "markdown",
   "metadata": {},
   "source": [
    "### Get Prior and Delta"
   ]
  },
  {
   "cell_type": "markdown",
   "metadata": {},
   "source": [
    "Using the previously defined function, market prices from the Vanguard S&P 500 index and market capitalisations for each ticker can be retrieved. These are used to calculate the 'Prior' and 'Delta'.\n",
    "\n",
    "<li>Delta represents the risk-aversion co-efficient, and is used to scale the equilibrium returns. This determines the risk aversion of the investor.\n",
    "<li>Prior is used to calculate the equilibrium returns based on the market portfolio (VOO). This is the benchmark portfolio which will be skewed once investor views are provided in the following section."
   ]
  },
  {
   "cell_type": "code",
   "execution_count": 53,
   "metadata": {},
   "outputs": [
    {
     "name": "stderr",
     "output_type": "stream",
     "text": [
      "[*********************100%***********************]  1 of 1 completed\n"
     ]
    },
    {
     "data": {
      "text/plain": [
       "Ticker\n",
       "AMD     0.022677\n",
       "AMZN    0.022028\n",
       "INTC    0.021316\n",
       "META    0.022344\n",
       "NVDA    0.023093\n",
       "RIVN    0.022817\n",
       "TSLA    0.022615\n",
       "dtype: float64"
      ]
     },
     "execution_count": 53,
     "metadata": {},
     "output_type": "execute_result"
    }
   ],
   "source": [
    "market_prices, market_caps = get_market_prices_and_caps(tickers, start_date, end_date)\n",
    "\n",
    "delta = black_litterman.market_implied_risk_aversion(market_prices)\n",
    "prior = black_litterman.market_implied_prior_returns(market_caps, delta, covariance_matrix)\n",
    "\n",
    "prior"
   ]
  },
  {
   "cell_type": "markdown",
   "metadata": {},
   "source": [
    "### Define Investor Views"
   ]
  },
  {
   "cell_type": "markdown",
   "metadata": {},
   "source": [
    "This is the section that inherently defines the Black Litterman model, and separates it from other allocation techniques. The investor has the chance to define 'views' about the expected returns of an asset. This is typically an arbitrary value, which is addressed in subsequent model variants. The views defined here are relative, which warrants a picking matrix to map each view to the ticker and its outperforming/underperforming counterpart.\n",
    "\n",
    "The picking matrix has four rows (each representing a single view), and seven columns (representing the ticker's position in the ticker list). A '1' represents the outperforming ticker, whereas a '-1' represents the underperforming ticker. Each row much subsequently sum to 0 (required for relative views). Based on this matrix, the following views can be extracted:\n",
    "\n",
    "<ol>\n",
    "<li>TSLA will outperform AMZN by 20%\n",
    "<li>NVDA will outperform META by 15%\n",
    "<li>META will outperform AMD by 10%\n",
    "<li>INTC will underperform against AMD by -0.7%\n",
    "</ol>\n",
    "\n",
    "View confidences are then defined as a list, with each confidence corresponding to a given view. These are set as equal values, to allow room for a more nuanced method to be implemented in subsequent model variants."
   ]
  },
  {
   "cell_type": "code",
   "execution_count": 54,
   "metadata": {},
   "outputs": [],
   "source": [
    "relative_views = np.array([0.20, 0.15, 0.10, -0.07]).reshape(-1, 1)\n",
    "\n",
    "confidences = [0.2, 0.2, 0.2, 0.2]\n",
    "\n",
    "picking_matrix = np.array([\n",
    "    [1, 0, -1, 0, 0, 0, 0],  # TSLA > AMZN\n",
    "    [0, 1, 0, -1, 0, 0, 0],  # NVDA > META\n",
    "    [0, 0, 0, 1, 0, 0, -1],  # META > AMD\n",
    "    [0, 0, 0, 0, 0, -1, 1]   # INTC < AMD\n",
    "])"
   ]
  },
  {
   "cell_type": "markdown",
   "metadata": {},
   "source": [
    "### Run Black Litterman Model"
   ]
  },
  {
   "cell_type": "markdown",
   "metadata": {},
   "source": [
    "The Black Litterman model is then called with all previous values, including the covariance matrix, prior, relative views, picking matrix, omega, view confidences, tau, and delta.\n",
    "\n",
    "To show that absolute views have not been used for the model, this has been explicitly set to 'None'. For the omega, Idzorek's method is employed (this is what requires the picking matrix to be defined). In the case that the number of views matches the number of tickers, a picking matrix wouldn't be necessary, as this would have an implicit mapping."
   ]
  },
  {
   "cell_type": "code",
   "execution_count": 72,
   "metadata": {},
   "outputs": [],
   "source": [
    "bl = BlackLittermanModel(\n",
    "    cov_matrix=covariance_matrix, \n",
    "    pi=prior, \n",
    "    absolute_views=None, \n",
    "    Q=relative_views, \n",
    "    P=picking_matrix, \n",
    "    omega=\"idzorek\", \n",
    "    view_confidences=confidences, \n",
    "    tau=0.025, \n",
    "    risk_aversion=delta\n",
    ")"
   ]
  },
  {
   "cell_type": "code",
   "execution_count": null,
   "metadata": {},
   "outputs": [
    {
     "data": {
      "image/png": "[encoded data removed]",
      "text/plain": [
       "<Figure size 500x500 with 1 Axes>"
      ]
     },
     "metadata": {},
     "output_type": "display_data"
    }
   ],
   "source": [
    "def plot_omega():\n",
    "    \"\"\"\n",
    "    Plots the Black Litterman omega value (view uncertainties)\n",
    "    for all tickers where a view has been defined.\n",
    "    \"\"\"\n",
    "    tickers_with_views = [\"TSLA\", \"NVDA\", \"META\", \"AMD\"]\n",
    "\n",
    "    fig, ax = plt.subplots(figsize=(5,5))\n",
    "    im = ax.imshow(bl.omega)\n",
    "\n",
    "    ax.set_xticks(np.arange(len(tickers_with_views)))\n",
    "    ax.set_yticks(np.arange(len(tickers_with_views)))\n",
    "\n",
    "    ax.set_xticklabels(tickers_with_views)\n",
    "    ax.set_yticklabels(tickers_with_views)\n",
    "    plt.show()\n",
    "\n",
    "    np.diag(bl.omega)\n",
    "\n",
    "plot_omega()"
   ]
  },
  {
   "cell_type": "markdown",
   "metadata": {},
   "source": [
    "### Calculate Posterior Returns"
   ]
  },
  {
   "cell_type": "code",
   "execution_count": 57,
   "metadata": {},
   "outputs": [
    {
     "data": {
      "text/plain": [
       "Ticker\n",
       "AMD     0.055705\n",
       "AMZN    0.043051\n",
       "INTC    0.014699\n",
       "META    0.020277\n",
       "NVDA    0.047182\n",
       "RIVN    0.047772\n",
       "TSLA    0.024964\n",
       "dtype: float64"
      ]
     },
     "execution_count": 57,
     "metadata": {},
     "output_type": "execute_result"
    }
   ],
   "source": [
    "bl_returns = bl.bl_returns()\n",
    "bl_returns"
   ]
  },
  {
   "cell_type": "code",
   "execution_count": 58,
   "metadata": {},
   "outputs": [
    {
     "data": {
      "text/html": [
       "<div>\n",
       "<style scoped>\n",
       "    .dataframe tbody tr th:only-of-type {\n",
       "        vertical-align: middle;\n",
       "    }\n",
       "\n",
       "    .dataframe tbody tr th {\n",
       "        vertical-align: top;\n",
       "    }\n",
       "\n",
       "    .dataframe thead th {\n",
       "        text-align: right;\n",
       "    }\n",
       "</style>\n",
       "<table border=\"1\" class=\"dataframe\">\n",
       "  <thead>\n",
       "    <tr style=\"text-align: right;\">\n",
       "      <th></th>\n",
       "      <th>Prior</th>\n",
       "      <th>Posterior</th>\n",
       "      <th>Views</th>\n",
       "    </tr>\n",
       "  </thead>\n",
       "  <tbody>\n",
       "    <tr>\n",
       "      <th>AMD</th>\n",
       "      <td>0.022677</td>\n",
       "      <td>0.055705</td>\n",
       "      <td>NaN</td>\n",
       "    </tr>\n",
       "    <tr>\n",
       "      <th>AMZN</th>\n",
       "      <td>0.022028</td>\n",
       "      <td>0.043051</td>\n",
       "      <td>0.10</td>\n",
       "    </tr>\n",
       "    <tr>\n",
       "      <th>INTC</th>\n",
       "      <td>0.021316</td>\n",
       "      <td>0.014699</td>\n",
       "      <td>NaN</td>\n",
       "    </tr>\n",
       "    <tr>\n",
       "      <th>META</th>\n",
       "      <td>0.022344</td>\n",
       "      <td>0.020277</td>\n",
       "      <td>-0.07</td>\n",
       "    </tr>\n",
       "    <tr>\n",
       "      <th>NVDA</th>\n",
       "      <td>0.023093</td>\n",
       "      <td>0.047182</td>\n",
       "      <td>0.15</td>\n",
       "    </tr>\n",
       "    <tr>\n",
       "      <th>RIVN</th>\n",
       "      <td>0.022817</td>\n",
       "      <td>0.047772</td>\n",
       "      <td>NaN</td>\n",
       "    </tr>\n",
       "    <tr>\n",
       "      <th>TSLA</th>\n",
       "      <td>0.022615</td>\n",
       "      <td>0.024964</td>\n",
       "      <td>0.20</td>\n",
       "    </tr>\n",
       "  </tbody>\n",
       "</table>\n",
       "</div>"
      ],
      "text/plain": [
       "         Prior  Posterior  Views\n",
       "AMD   0.022677   0.055705    NaN\n",
       "AMZN  0.022028   0.043051   0.10\n",
       "INTC  0.021316   0.014699    NaN\n",
       "META  0.022344   0.020277  -0.07\n",
       "NVDA  0.023093   0.047182   0.15\n",
       "RIVN  0.022817   0.047772    NaN\n",
       "TSLA  0.022615   0.024964   0.20"
      ]
     },
     "execution_count": 58,
     "metadata": {},
     "output_type": "execute_result"
    }
   ],
   "source": [
    "relative_views_series = pd.Series(np.nan, index=tickers)\n",
    "relative_views_series[:len(relative_views)] = relative_views.flatten()\n",
    "\n",
    "returns_df = pd.DataFrame([prior, bl_returns, relative_views_series], index=[\"Prior\", \"Posterior\", \"Views\"]).T\n",
    "returns_df"
   ]
  },
  {
   "cell_type": "code",
   "execution_count": 68,
   "metadata": {},
   "outputs": [
    {
     "data": {
      "text/plain": [
       "<Axes: >"
      ]
     },
     "execution_count": 68,
     "metadata": {},
     "output_type": "execute_result"
    },
    {
     "data": {
      "image/png": "[encoded data removed]",
      "text/plain": [
       "<Figure size 640x480 with 1 Axes>"
      ]
     },
     "metadata": {},
     "output_type": "display_data"
    }
   ],
   "source": [
    "# visualisation of above\n",
    "returns_df.plot.bar()"
   ]
  },
  {
   "cell_type": "code",
   "execution_count": null,
   "metadata": {},
   "outputs": [
    {
     "data": {
      "text/plain": [
       "<Axes: >"
      ]
     },
     "execution_count": 60,
     "metadata": {},
     "output_type": "execute_result"
    },
    {
     "data": {
      "image/png": "[encoded data removed]",
      "text/plain": [
       "<Figure size 640x480 with 2 Axes>"
      ]
     },
     "metadata": {},
     "output_type": "display_data"
    },
    {
     "data": {
      "image/png": "[encoded data removed]",
      "text/plain": [
       "<Figure size 640x480 with 2 Axes>"
      ]
     },
     "metadata": {},
     "output_type": "display_data"
    }
   ],
   "source": [
    "posterior_cov = bl.bl_cov()\n",
    "\n",
    "plotting.plot_covariance(posterior_cov, plot_correlation=True)\n",
    "plotting.plot_covariance(posterior_cov, plot_correlation=False)"
   ]
  },
  {
   "cell_type": "markdown",
   "metadata": {},
   "source": [
    "### Efficient Frontier Weights"
   ]
  },
  {
   "cell_type": "markdown",
   "metadata": {},
   "source": [
    "#### Minimum Volatility"
   ]
  },
  {
   "cell_type": "code",
   "execution_count": 61,
   "metadata": {},
   "outputs": [
    {
     "data": {
      "text/plain": [
       "OrderedDict([('AMD', 0.0),\n",
       "             ('AMZN', 0.37602),\n",
       "             ('INTC', 0.57276),\n",
       "             ('META', 0.01452),\n",
       "             ('NVDA', 0.0),\n",
       "             ('RIVN', 0.0),\n",
       "             ('TSLA', 0.03669)])"
      ]
     },
     "execution_count": 61,
     "metadata": {},
     "output_type": "execute_result"
    }
   ],
   "source": [
    "ef_1 = EfficientFrontier(bl_returns, posterior_cov)\n",
    "min_vol_weights = ef_1.min_volatility()\n",
    "cleaned_weights_min_vol = ef_1.clean_weights()\n",
    "\n",
    "cleaned_weights_min_vol"
   ]
  },
  {
   "cell_type": "markdown",
   "metadata": {},
   "source": [
    "#### Max Sharpe"
   ]
  },
  {
   "cell_type": "code",
   "execution_count": 62,
   "metadata": {},
   "outputs": [
    {
     "data": {
      "text/plain": [
       "OrderedDict([('AMD', 0.60891),\n",
       "             ('AMZN', 0.39109),\n",
       "             ('INTC', 0.0),\n",
       "             ('META', 0.0),\n",
       "             ('NVDA', 0.0),\n",
       "             ('RIVN', 0.0),\n",
       "             ('TSLA', 0.0)])"
      ]
     },
     "execution_count": 62,
     "metadata": {},
     "output_type": "execute_result"
    }
   ],
   "source": [
    "ef_2 = EfficientFrontier(bl_returns, posterior_cov)\n",
    "max_sharpe_weights = ef_2.max_sharpe()\n",
    "cleaned_weights_max_sharpe = ef_2.clean_weights()\n",
    "\n",
    "cleaned_weights_max_sharpe"
   ]
  },
  {
   "cell_type": "markdown",
   "metadata": {},
   "source": [
    "### Plot Asset Allocation Pies"
   ]
  },
  {
   "cell_type": "code",
   "execution_count": 63,
   "metadata": {},
   "outputs": [
    {
     "data": {
      "image/png": "[encoded data removed]",
      "text/plain": [
       "<Figure size 1200x600 with 2 Axes>"
      ]
     },
     "metadata": {},
     "output_type": "display_data"
    }
   ],
   "source": [
    "fig, axes = plt.subplots(1, 2, figsize=(12, 6))\n",
    "\n",
    "# Plot Minimum Volaility\n",
    "pd.Series(cleaned_weights_min_vol).plot.pie(\n",
    "    ax=axes[0], \n",
    "    autopct='%1.1f%%', \n",
    "    startangle=90, \n",
    "    title=\"Miniumum Volatility Allocation\"\n",
    ")\n",
    "\n",
    "# Plot Max Sharpe\n",
    "pd.Series(cleaned_weights_max_sharpe).plot.pie(\n",
    "    ax=axes[1], \n",
    "    autopct='%1.1f%%', \n",
    "    startangle=90, \n",
    "    title=\"Max Sharpe Allocation\"\n",
    ")\n",
    "\n",
    "plt.tight_layout()\n",
    "plt.show()"
   ]
  },
  {
   "cell_type": "markdown",
   "metadata": {},
   "source": [
    "### Portfolio Performance"
   ]
  },
  {
   "cell_type": "markdown",
   "metadata": {},
   "source": [
    "#### Minimum Volatility Performance"
   ]
  },
  {
   "cell_type": "code",
   "execution_count": 64,
   "metadata": {},
   "outputs": [
    {
     "name": "stdout",
     "output_type": "stream",
     "text": [
      "Expected annual return: 2.6%\n",
      "Annual volatility: 2.1%\n",
      "Sharpe Ratio: 0.27\n"
     ]
    },
    {
     "data": {
      "text/plain": [
       "(0.025817984576983373, 0.021429727803627202, 0.27149129612363154)"
      ]
     },
     "execution_count": 64,
     "metadata": {},
     "output_type": "execute_result"
    }
   ],
   "source": [
    "ef_1.portfolio_performance(verbose=True)"
   ]
  },
  {
   "cell_type": "markdown",
   "metadata": {},
   "source": [
    "#### Max Sharpe Performance"
   ]
  },
  {
   "cell_type": "code",
   "execution_count": 65,
   "metadata": {},
   "outputs": [
    {
     "name": "stdout",
     "output_type": "stream",
     "text": [
      "Expected annual return: 5.1%\n",
      "Annual volatility: 2.9%\n",
      "Sharpe Ratio: 1.07\n"
     ]
    },
    {
     "data": {
      "text/plain": [
       "(0.05075633393670505, 0.028669409499464428, 1.0727927248477025)"
      ]
     },
     "execution_count": 65,
     "metadata": {},
     "output_type": "execute_result"
    }
   ],
   "source": [
    "ef_2.portfolio_performance(verbose=True)"
   ]
  },
  {
   "cell_type": "markdown",
   "metadata": {},
   "source": [
    "### Get Discrete Allocation (DA)"
   ]
  },
  {
   "cell_type": "markdown",
   "metadata": {},
   "source": [
    "#### Minimum Volatility DA"
   ]
  },
  {
   "cell_type": "code",
   "execution_count": 66,
   "metadata": {},
   "outputs": [
    {
     "name": "stdout",
     "output_type": "stream",
     "text": [
      "Funds remaining: 2.16\n",
      "AMD: allocated 0.000, desired 0.000\n",
      "AMZN: allocated 0.380, desired 0.376\n",
      "INTC: allocated 0.570, desired 0.573\n",
      "META: allocated 0.000, desired 0.015\n",
      "NVDA: allocated 0.000, desired 0.000\n",
      "RIVN: allocated 0.000, desired 0.000\n",
      "TSLA: allocated 0.050, desired 0.037\n",
      "Allocation has RMSE: 0.008\n",
      "{'AMZN': 25, 'INTC': 115, 'TSLA': 2}\n"
     ]
    }
   ],
   "source": [
    "latest_prices = get_latest_prices(closing_prices)\n",
    "da_min_vol = DiscreteAllocation(cleaned_weights_min_vol, latest_prices, total_portfolio_value=10000)\n",
    "allocation, leftover = da_min_vol.lp_portfolio(verbose=True)\n",
    "\n",
    "#  quantities of shares that should be bought to have a 10,000£ portfolio\n",
    "print(allocation)"
   ]
  },
  {
   "cell_type": "markdown",
   "metadata": {},
   "source": [
    "#### Max Sharpe DA"
   ]
  },
  {
   "cell_type": "code",
   "execution_count": 67,
   "metadata": {},
   "outputs": [
    {
     "name": "stdout",
     "output_type": "stream",
     "text": [
      "Funds remaining: 5.75\n",
      "AMD: allocated 0.605, desired 0.609\n",
      "AMZN: allocated 0.395, desired 0.391\n",
      "INTC: allocated 0.000, desired 0.000\n",
      "META: allocated 0.000, desired 0.000\n",
      "NVDA: allocated 0.000, desired 0.000\n",
      "RIVN: allocated 0.000, desired 0.000\n",
      "TSLA: allocated 0.000, desired 0.000\n",
      "Allocation has RMSE: 0.002\n",
      "{'AMD': 41, 'AMZN': 26}\n"
     ]
    }
   ],
   "source": [
    "latest_prices = get_latest_prices(closing_prices)\n",
    "da_max_sharpe = DiscreteAllocation(cleaned_weights_max_sharpe, latest_prices, total_portfolio_value=10000)\n",
    "allocation, leftover = da_max_sharpe.lp_portfolio(verbose=True)\n",
    "\n",
    "#  quantities of shares that should be bought to have a 10,000£ portfolio\n",
    "print(allocation)"
   ]
  }
 ],
 "metadata": {
  "kernelspec": {
   "display_name": ".venv",
   "language": "python",
   "name": "python3"
  },
  "language_info": {
   "codemirror_mode": {
    "name": "ipython",
    "version": 3
   },
   "file_extension": ".py",
   "mimetype": "text/x-python",
   "name": "python",
   "nbconvert_exporter": "python",
   "pygments_lexer": "ipython3",
   "version": "3.10.6"
  }
 },
 "nbformat": 4,
 "nbformat_minor": 2
}
