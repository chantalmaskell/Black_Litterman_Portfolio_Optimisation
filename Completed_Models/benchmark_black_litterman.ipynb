{
 "cells": [
  {
   "cell_type": "markdown",
   "metadata": {},
   "source": [
    "## Benchmark Black Litterman"
   ]
  },
  {
   "cell_type": "code",
   "execution_count": 30,
   "metadata": {},
   "outputs": [],
   "source": [
    "import numpy as np\n",
    "import pandas as pd\n",
    "import yfinance as yf\n",
    "import pypfopt \n",
    "import matplotlib.pyplot as plt\n",
    "\n",
    "from pypfopt import black_litterman, plotting\n",
    "from pypfopt import BlackLittermanModel\n",
    "from pypfopt.efficient_frontier import EfficientFrontier\n",
    "from pypfopt.discrete_allocation import DiscreteAllocation, get_latest_prices"
   ]
  },
  {
   "cell_type": "markdown",
   "metadata": {},
   "source": [
    "### Data Collection"
   ]
  },
  {
   "cell_type": "markdown",
   "metadata": {},
   "source": [
    "Stock data for each ticker is first retrieved for the 10-year date range. This is downloaded via Yahoo Finance (Python library: yfinance).\n",
    "\n",
    "Tickers (also known as 'symbols') are used as an identifier for a given stock. A breakdown of ticker and it's respective stock is as follows:\n",
    "\n",
    "<li>'TSLA' == Tesla\n",
    "<li>'NVDA' == Nvdia\n",
    "<li>'AMZN' == Amazon\n",
    "<li>'META' == Meta\n",
    "<li>'RIVN' == Rivian Automotive Inc??\n",
    "<li>'INTC' == Intel Corp\n",
    "<li>'AMD' == Advanced Micro-Devices<br>\n",
    "\n",
    "Closing prices ('Adj Close') and logarithmic returns are then calculated. The 10 most recent closing prices for each ticker are printed using tail(10)."
   ]
  },
  {
   "cell_type": "code",
   "execution_count": 45,
   "metadata": {},
   "outputs": [
    {
     "name": "stderr",
     "output_type": "stream",
     "text": [
      "[*********************100%***********************]  7 of 7 completed\n"
     ]
    },
    {
     "data": {
      "text/html": [
       "<div>\n",
       "<style scoped>\n",
       "    .dataframe tbody tr th:only-of-type {\n",
       "        vertical-align: middle;\n",
       "    }\n",
       "\n",
       "    .dataframe tbody tr th {\n",
       "        vertical-align: top;\n",
       "    }\n",
       "\n",
       "    .dataframe thead th {\n",
       "        text-align: right;\n",
       "    }\n",
       "</style>\n",
       "<table border=\"1\" class=\"dataframe\">\n",
       "  <thead>\n",
       "    <tr style=\"text-align: right;\">\n",
       "      <th>Ticker</th>\n",
       "      <th>AMD</th>\n",
       "      <th>AMZN</th>\n",
       "      <th>INTC</th>\n",
       "      <th>META</th>\n",
       "      <th>NVDA</th>\n",
       "      <th>RIVN</th>\n",
       "      <th>TSLA</th>\n",
       "    </tr>\n",
       "    <tr>\n",
       "      <th>Date</th>\n",
       "      <th></th>\n",
       "      <th></th>\n",
       "      <th></th>\n",
       "      <th></th>\n",
       "      <th></th>\n",
       "      <th></th>\n",
       "      <th></th>\n",
       "    </tr>\n",
       "  </thead>\n",
       "  <tbody>\n",
       "    <tr>\n",
       "      <th>2023-12-15</th>\n",
       "      <td>139.149994</td>\n",
       "      <td>149.970001</td>\n",
       "      <td>45.549957</td>\n",
       "      <td>333.645508</td>\n",
       "      <td>48.876141</td>\n",
       "      <td>22.830000</td>\n",
       "      <td>253.500000</td>\n",
       "    </tr>\n",
       "    <tr>\n",
       "      <th>2023-12-18</th>\n",
       "      <td>138.899994</td>\n",
       "      <td>154.070007</td>\n",
       "      <td>45.086163</td>\n",
       "      <td>343.308563</td>\n",
       "      <td>50.062805</td>\n",
       "      <td>23.799999</td>\n",
       "      <td>252.080002</td>\n",
       "    </tr>\n",
       "    <tr>\n",
       "      <th>2023-12-19</th>\n",
       "      <td>140.149994</td>\n",
       "      <td>153.789993</td>\n",
       "      <td>46.043350</td>\n",
       "      <td>349.026733</td>\n",
       "      <td>49.589939</td>\n",
       "      <td>24.350000</td>\n",
       "      <td>257.220001</td>\n",
       "    </tr>\n",
       "    <tr>\n",
       "      <th>2023-12-20</th>\n",
       "      <td>135.470001</td>\n",
       "      <td>152.119995</td>\n",
       "      <td>45.155243</td>\n",
       "      <td>347.950867</td>\n",
       "      <td>48.097363</td>\n",
       "      <td>23.180000</td>\n",
       "      <td>247.139999</td>\n",
       "    </tr>\n",
       "    <tr>\n",
       "      <th>2023-12-21</th>\n",
       "      <td>139.910004</td>\n",
       "      <td>153.839996</td>\n",
       "      <td>46.457802</td>\n",
       "      <td>352.742554</td>\n",
       "      <td>48.976116</td>\n",
       "      <td>23.580000</td>\n",
       "      <td>254.500000</td>\n",
       "    </tr>\n",
       "    <tr>\n",
       "      <th>2023-12-22</th>\n",
       "      <td>139.600006</td>\n",
       "      <td>153.419998</td>\n",
       "      <td>47.365639</td>\n",
       "      <td>352.045197</td>\n",
       "      <td>48.816162</td>\n",
       "      <td>23.209999</td>\n",
       "      <td>252.539993</td>\n",
       "    </tr>\n",
       "    <tr>\n",
       "      <th>2023-12-26</th>\n",
       "      <td>143.410004</td>\n",
       "      <td>153.410004</td>\n",
       "      <td>49.832600</td>\n",
       "      <td>353.479706</td>\n",
       "      <td>49.265030</td>\n",
       "      <td>23.590000</td>\n",
       "      <td>256.609985</td>\n",
       "    </tr>\n",
       "    <tr>\n",
       "      <th>2023-12-27</th>\n",
       "      <td>146.070007</td>\n",
       "      <td>153.339996</td>\n",
       "      <td>50.089161</td>\n",
       "      <td>356.468323</td>\n",
       "      <td>49.402992</td>\n",
       "      <td>23.730000</td>\n",
       "      <td>261.440002</td>\n",
       "    </tr>\n",
       "    <tr>\n",
       "      <th>2023-12-28</th>\n",
       "      <td>148.759995</td>\n",
       "      <td>153.380005</td>\n",
       "      <td>49.724056</td>\n",
       "      <td>356.956451</td>\n",
       "      <td>49.507965</td>\n",
       "      <td>23.540001</td>\n",
       "      <td>253.179993</td>\n",
       "    </tr>\n",
       "    <tr>\n",
       "      <th>2023-12-29</th>\n",
       "      <td>147.410004</td>\n",
       "      <td>151.940002</td>\n",
       "      <td>49.585903</td>\n",
       "      <td>352.613037</td>\n",
       "      <td>49.507965</td>\n",
       "      <td>23.459999</td>\n",
       "      <td>248.479996</td>\n",
       "    </tr>\n",
       "  </tbody>\n",
       "</table>\n",
       "</div>"
      ],
      "text/plain": [
       "Ticker             AMD        AMZN       INTC        META       NVDA  \\\n",
       "Date                                                                   \n",
       "2023-12-15  139.149994  149.970001  45.549957  333.645508  48.876141   \n",
       "2023-12-18  138.899994  154.070007  45.086163  343.308563  50.062805   \n",
       "2023-12-19  140.149994  153.789993  46.043350  349.026733  49.589939   \n",
       "2023-12-20  135.470001  152.119995  45.155243  347.950867  48.097363   \n",
       "2023-12-21  139.910004  153.839996  46.457802  352.742554  48.976116   \n",
       "2023-12-22  139.600006  153.419998  47.365639  352.045197  48.816162   \n",
       "2023-12-26  143.410004  153.410004  49.832600  353.479706  49.265030   \n",
       "2023-12-27  146.070007  153.339996  50.089161  356.468323  49.402992   \n",
       "2023-12-28  148.759995  153.380005  49.724056  356.956451  49.507965   \n",
       "2023-12-29  147.410004  151.940002  49.585903  352.613037  49.507965   \n",
       "\n",
       "Ticker           RIVN        TSLA  \n",
       "Date                               \n",
       "2023-12-15  22.830000  253.500000  \n",
       "2023-12-18  23.799999  252.080002  \n",
       "2023-12-19  24.350000  257.220001  \n",
       "2023-12-20  23.180000  247.139999  \n",
       "2023-12-21  23.580000  254.500000  \n",
       "2023-12-22  23.209999  252.539993  \n",
       "2023-12-26  23.590000  256.609985  \n",
       "2023-12-27  23.730000  261.440002  \n",
       "2023-12-28  23.540001  253.179993  \n",
       "2023-12-29  23.459999  248.479996  "
      ]
     },
     "execution_count": 45,
     "metadata": {},
     "output_type": "execute_result"
    }
   ],
   "source": [
    "tickers = [\"TSLA\", \"NVDA\", \"AMZN\", \"META\", \"RIVN\", \"INTC\", \"AMD\"]\n",
    "\n",
    "start_date = '2014-01-01'\n",
    "end_date = '2024-01-01'\n",
    "\n",
    "data = yf.download(tickers, start=start_date, end=end_date, auto_adjust=True)\n",
    "\n",
    "closing_prices = data[\"Close\"]\n",
    "returns = np.log(closing_prices / closing_prices.shift(1).dropna())\n",
    "\n",
    "def get_market_prices_and_caps(tickers, start_date, end_date):\n",
    "    \"\"\"\n",
    "    Retrieves market prices and market capitalisations for a list of stock tickers. \n",
    "    Market prices are retrieved from the Vanguard S&P 500 index (VOO) based on the \n",
    "    Adjusted Close column, and market capitalisations are retrieved for each stock.\n",
    "\n",
    "    Parameters:\n",
    "\n",
    "    tickers: list of str\n",
    "        List of stock tickers to retrieve market caps for.\n",
    "    start_date: str in date format\n",
    "        Start date for period to retrieve market prices.\n",
    "    end_date: str in date format\n",
    "        End date for period to retrieve market prices.\n",
    "\n",
    "    market_prices: pd.Series\n",
    "        Pandas Series of market prices for the VOO index.\n",
    "    market_caps: dict\n",
    "        Dictionary of tickers (keys) and market capitalisation (values). If a market cap \n",
    "        cannot be retrieved, set the value to 'None'.\n",
    "    \"\"\"\n",
    "    market_prices = yf.download(tickers, start=start_date, end=end_date, auto_adjust=True)\n",
    "\n",
    "    # Due to yFinance version 0.2.54, the data returns a Dataframe of Dataframes, instead of a Dataframe of Series\n",
    "    # Hence, the 'close' column is extracted from the inner Dataframe now\n",
    "    market_prices = market_prices[\"Close\"]\n",
    "\n",
    "    market_caps = {}\n",
    "    for ticker in tickers:\n",
    "        stock = yf.Ticker(ticker)\n",
    "        market_caps[ticker] = stock.info.get(\"marketCap\", None)\n",
    "\n",
    "    return market_prices, market_caps\n",
    "\n",
    "closing_prices.tail(10)"
   ]
  },
  {
   "cell_type": "markdown",
   "metadata": {},
   "source": [
    "The covariance matrix of asset returns is calculated, from which the covariance and correlation plots are displayed. Both plots are derived from the same data, however the latter provides better visualisation of asset covariances."
   ]
  },
  {
   "cell_type": "code",
   "execution_count": 46,
   "metadata": {},
   "outputs": [
    {
     "data": {
      "image/png": "[encoded data removed]",
      "text/plain": [
       "<Figure size 640x480 with 2 Axes>"
      ]
     },
     "metadata": {},
     "output_type": "display_data"
    },
    {
     "data": {
      "image/png": "[encoded data removed]",
      "text/plain": [
       "<Figure size 640x480 with 2 Axes>"
      ]
     },
     "metadata": {},
     "output_type": "display_data"
    }
   ],
   "source": [
    "covariance_matrix = returns.cov()\n",
    "\n",
    "covariance_plot = plotting.plot_covariance(covariance_matrix, plot_correlation=False)\n",
    "correlation_plot = plotting.plot_covariance(covariance_matrix, plot_correlation=True)"
   ]
  },
  {
   "cell_type": "markdown",
   "metadata": {},
   "source": [
    "The dataframe for the above covariance matrices can be seen below for further clarity of how returns correlate between assets."
   ]
  },
  {
   "cell_type": "code",
   "execution_count": 47,
   "metadata": {},
   "outputs": [
    {
     "data": {
      "text/html": [
       "<div>\n",
       "<style scoped>\n",
       "    .dataframe tbody tr th:only-of-type {\n",
       "        vertical-align: middle;\n",
       "    }\n",
       "\n",
       "    .dataframe tbody tr th {\n",
       "        vertical-align: top;\n",
       "    }\n",
       "\n",
       "    .dataframe thead th {\n",
       "        text-align: right;\n",
       "    }\n",
       "</style>\n",
       "<table border=\"1\" class=\"dataframe\">\n",
       "  <thead>\n",
       "    <tr style=\"text-align: right;\">\n",
       "      <th>Ticker</th>\n",
       "      <th>AMD</th>\n",
       "      <th>AMZN</th>\n",
       "      <th>INTC</th>\n",
       "      <th>META</th>\n",
       "      <th>NVDA</th>\n",
       "      <th>RIVN</th>\n",
       "      <th>TSLA</th>\n",
       "    </tr>\n",
       "    <tr>\n",
       "      <th>Ticker</th>\n",
       "      <th></th>\n",
       "      <th></th>\n",
       "      <th></th>\n",
       "      <th></th>\n",
       "      <th></th>\n",
       "      <th></th>\n",
       "      <th></th>\n",
       "    </tr>\n",
       "  </thead>\n",
       "  <tbody>\n",
       "    <tr>\n",
       "      <th>AMD</th>\n",
       "      <td>0.001181</td>\n",
       "      <td>0.000547</td>\n",
       "      <td>0.000489</td>\n",
       "      <td>0.000602</td>\n",
       "      <td>0.000990</td>\n",
       "      <td>0.000892</td>\n",
       "      <td>0.000709</td>\n",
       "    </tr>\n",
       "    <tr>\n",
       "      <th>AMZN</th>\n",
       "      <td>0.000547</td>\n",
       "      <td>0.000687</td>\n",
       "      <td>0.000286</td>\n",
       "      <td>0.000529</td>\n",
       "      <td>0.000567</td>\n",
       "      <td>0.000604</td>\n",
       "      <td>0.000501</td>\n",
       "    </tr>\n",
       "    <tr>\n",
       "      <th>INTC</th>\n",
       "      <td>0.000489</td>\n",
       "      <td>0.000286</td>\n",
       "      <td>0.000563</td>\n",
       "      <td>0.000376</td>\n",
       "      <td>0.000436</td>\n",
       "      <td>0.000425</td>\n",
       "      <td>0.000348</td>\n",
       "    </tr>\n",
       "    <tr>\n",
       "      <th>META</th>\n",
       "      <td>0.000602</td>\n",
       "      <td>0.000529</td>\n",
       "      <td>0.000376</td>\n",
       "      <td>0.001150</td>\n",
       "      <td>0.000633</td>\n",
       "      <td>0.000644</td>\n",
       "      <td>0.000476</td>\n",
       "    </tr>\n",
       "    <tr>\n",
       "      <th>NVDA</th>\n",
       "      <td>0.000990</td>\n",
       "      <td>0.000567</td>\n",
       "      <td>0.000436</td>\n",
       "      <td>0.000633</td>\n",
       "      <td>0.001252</td>\n",
       "      <td>0.000897</td>\n",
       "      <td>0.000791</td>\n",
       "    </tr>\n",
       "    <tr>\n",
       "      <th>RIVN</th>\n",
       "      <td>0.000892</td>\n",
       "      <td>0.000604</td>\n",
       "      <td>0.000425</td>\n",
       "      <td>0.000644</td>\n",
       "      <td>0.000897</td>\n",
       "      <td>0.002920</td>\n",
       "      <td>0.001124</td>\n",
       "    </tr>\n",
       "    <tr>\n",
       "      <th>TSLA</th>\n",
       "      <td>0.000709</td>\n",
       "      <td>0.000501</td>\n",
       "      <td>0.000348</td>\n",
       "      <td>0.000476</td>\n",
       "      <td>0.000791</td>\n",
       "      <td>0.001124</td>\n",
       "      <td>0.001462</td>\n",
       "    </tr>\n",
       "  </tbody>\n",
       "</table>\n",
       "</div>"
      ],
      "text/plain": [
       "Ticker       AMD      AMZN      INTC      META      NVDA      RIVN      TSLA\n",
       "Ticker                                                                      \n",
       "AMD     0.001181  0.000547  0.000489  0.000602  0.000990  0.000892  0.000709\n",
       "AMZN    0.000547  0.000687  0.000286  0.000529  0.000567  0.000604  0.000501\n",
       "INTC    0.000489  0.000286  0.000563  0.000376  0.000436  0.000425  0.000348\n",
       "META    0.000602  0.000529  0.000376  0.001150  0.000633  0.000644  0.000476\n",
       "NVDA    0.000990  0.000567  0.000436  0.000633  0.001252  0.000897  0.000791\n",
       "RIVN    0.000892  0.000604  0.000425  0.000644  0.000897  0.002920  0.001124\n",
       "TSLA    0.000709  0.000501  0.000348  0.000476  0.000791  0.001124  0.001462"
      ]
     },
     "execution_count": 47,
     "metadata": {},
     "output_type": "execute_result"
    }
   ],
   "source": [
    "covariance_matrix"
   ]
  },
  {
   "cell_type": "markdown",
   "metadata": {},
   "source": [
    "### Get Prior and Delta"
   ]
  },
  {
   "cell_type": "markdown",
   "metadata": {},
   "source": [
    "Using the previously defined function, market prices from the Vanguard S&P 500 index and market capitalisations for each ticker can be retrieved. These are used to calculate the 'Prior' and 'Delta'.\n",
    "\n",
    "<li>Delta represents the risk-aversion co-efficient, and is used to scale the equilibrium returns. This determines the risk aversion of the investor.\n",
    "<li>Prior is used to calculate the equilibrium returns based on the market portfolio (VOO). This is the benchmark portfolio which will be skewed once investor views are provided in the following section."
   ]
  },
  {
   "cell_type": "code",
   "execution_count": 53,
   "metadata": {},
   "outputs": [
    {
     "name": "stderr",
     "output_type": "stream",
     "text": [
      "[*********************100%***********************]  7 of 7 completed\n"
     ]
    },
    {
     "data": {
      "text/plain": [
       "Ticker\n",
       "AMD     0.020389\n",
       "AMZN    0.020008\n",
       "INTC    0.020199\n",
       "META    0.020392\n",
       "NVDA    0.021036\n",
       "RIVN    0.019633\n",
       "TSLA    0.019989\n",
       "dtype: float64"
      ]
     },
     "execution_count": 53,
     "metadata": {},
     "output_type": "execute_result"
    }
   ],
   "source": [
    "market_prices, market_caps = get_market_prices_and_caps(tickers, start_date, end_date)\n",
    "\n",
    "delta = black_litterman.market_implied_risk_aversion(market_prices)\n",
    "delta.iloc[0]  # Extract first value\n",
    "\n",
    "prior = black_litterman.market_implied_prior_returns(market_caps, delta, covariance_matrix)\n",
    "\n",
    "prior"
   ]
  },
  {
   "cell_type": "markdown",
   "metadata": {},
   "source": [
    "### Define Investor Views"
   ]
  },
  {
   "cell_type": "markdown",
   "metadata": {},
   "source": [
    "This is the section that inherently defines the Black Litterman model, and separates it from other allocation techniques. The investor has the chance to define 'views' about the expected returns of an asset. This is typically an arbitrary value, which is addressed in subsequent model variants. The views defined here are relative, which warrants a picking matrix to map each view to the ticker and its outperforming/underperforming counterpart.\n",
    "\n",
    "The picking matrix has four rows (each representing a single view), and seven columns (representing the ticker's position in the ticker list). A '1' represents the outperforming ticker, whereas a '-1' represents the underperforming ticker. Each row much subsequently sum to 0 (required for relative views). Based on this matrix, the following views can be extracted:\n",
    "\n",
    "<ol>\n",
    "<li>TSLA will outperform AMZN by 20%\n",
    "<li>NVDA will outperform META by 15%\n",
    "<li>META will outperform AMD by 10%\n",
    "<li>INTC will underperform against AMD by -0.7%\n",
    "</ol>\n",
    "\n",
    "View confidences are then defined as a list, with each confidence corresponding to a given view. These are set as equal values, to allow room for a more nuanced method to be implemented in subsequent model variants."
   ]
  },
  {
   "cell_type": "code",
   "execution_count": 49,
   "metadata": {},
   "outputs": [],
   "source": [
    "relative_views = np.array([0.20, 0.15, 0.10, -0.07]).reshape(-1, 1)\n",
    "\n",
    "confidences = [0.2, 0.2, 0.2, 0.2]\n",
    "\n",
    "picking_matrix = np.array([\n",
    "    [1, 0, -1, 0, 0, 0, 0],  # TSLA > AMZN\n",
    "    [0, 1, 0, -1, 0, 0, 0],  # NVDA > META\n",
    "    [0, 0, 0, 1, 0, 0, -1],  # META > AMD\n",
    "    [0, 0, 0, 0, 0, -1, 1]   # INTC < AMD\n",
    "])"
   ]
  },
  {
   "cell_type": "markdown",
   "metadata": {},
   "source": [
    "### Run Black Litterman Model"
   ]
  },
  {
   "cell_type": "markdown",
   "metadata": {},
   "source": [
    "The Black Litterman model is then called with all previous values, including the covariance matrix, prior, relative views, picking matrix, omega, view confidences, tau, and delta.\n",
    "\n",
    "To show that absolute views have not been used for the model, this has been explicitly set to 'None'. For the omega, Idzorek's method is employed (this is what requires the picking matrix to be defined). In the case that the number of views matches the number of tickers, a picking matrix wouldn't be necessary, as this would have an implicit mapping."
   ]
  },
  {
   "cell_type": "code",
   "execution_count": 55,
   "metadata": {},
   "outputs": [
    {
     "name": "stderr",
     "output_type": "stream",
     "text": [
      "C:\\Users\\chana\\AppData\\Local\\Temp\\ipykernel_7468\\4034790704.py:10: FutureWarning: Series.__getitem__ treating keys as positions is deprecated. In a future version, integer keys will always be treated as labels (consistent with DataFrame behavior). To access a value by position, use `ser.iloc[pos]`\n",
      "  risk_aversion=delta[0]\n"
     ]
    }
   ],
   "source": [
    "bl = BlackLittermanModel(\n",
    "    cov_matrix=covariance_matrix, \n",
    "    pi=prior, \n",
    "    absolute_views=None, \n",
    "    Q=relative_views, \n",
    "    P=picking_matrix, \n",
    "    omega=\"idzorek\", \n",
    "    view_confidences=confidences, \n",
    "    tau=0.025, \n",
    "    risk_aversion=delta[0]\n",
    ")"
   ]
  },
  {
   "cell_type": "code",
   "execution_count": 56,
   "metadata": {},
   "outputs": [
    {
     "data": {
      "image/png": "[encoded data removed]",
      "text/plain": [
       "<Figure size 500x500 with 1 Axes>"
      ]
     },
     "metadata": {},
     "output_type": "display_data"
    }
   ],
   "source": [
    "def plot_omega():\n",
    "    \"\"\"\n",
    "    Plots the Black Litterman omega value (view uncertainties)\n",
    "    for all tickers where a view has been defined.\n",
    "    \"\"\"\n",
    "    \n",
    "    # Only plot for tickers where views have been defined\n",
    "    tickers_with_views = [\"TSLA\", \"NVDA\", \"META\", \"AMD\"]\n",
    "\n",
    "    fig, ax = plt.subplots(figsize=(5,5))\n",
    "    im = ax.imshow(bl.omega)\n",
    "\n",
    "    ax.set_xticks(np.arange(len(tickers_with_views)))\n",
    "    ax.set_yticks(np.arange(len(tickers_with_views)))\n",
    "\n",
    "    ax.set_xticklabels(tickers_with_views)\n",
    "    ax.set_yticklabels(tickers_with_views)\n",
    "    plt.show()\n",
    "\n",
    "    np.diag(bl.omega)\n",
    "\n",
    "plot_omega()"
   ]
  },
  {
   "cell_type": "markdown",
   "metadata": {},
   "source": [
    "### Calculate Posterior Returns"
   ]
  },
  {
   "cell_type": "markdown",
   "metadata": {},
   "source": [
    "Posterior returns are then calculated based on the Black Litterman model which produces a posterior estimate of the returns vector."
   ]
  },
  {
   "cell_type": "code",
   "execution_count": 57,
   "metadata": {},
   "outputs": [
    {
     "data": {
      "text/plain": [
       "Ticker\n",
       "AMD     0.053644\n",
       "AMZN    0.041113\n",
       "INTC    0.013562\n",
       "META    0.018347\n",
       "NVDA    0.045310\n",
       "RIVN    0.044862\n",
       "TSLA    0.022508\n",
       "dtype: float64"
      ]
     },
     "execution_count": 57,
     "metadata": {},
     "output_type": "execute_result"
    }
   ],
   "source": [
    "bl_returns = bl.bl_returns()\n",
    "bl_returns"
   ]
  },
  {
   "cell_type": "markdown",
   "metadata": {},
   "source": [
    "The returns are difficult to visualise on their own, so these are added to a Pandas series alongside the Prior (market implied) and the views determined by the investor so the correlation between the values can be understood."
   ]
  },
  {
   "cell_type": "code",
   "execution_count": 58,
   "metadata": {},
   "outputs": [
    {
     "data": {
      "text/html": [
       "<div>\n",
       "<style scoped>\n",
       "    .dataframe tbody tr th:only-of-type {\n",
       "        vertical-align: middle;\n",
       "    }\n",
       "\n",
       "    .dataframe tbody tr th {\n",
       "        vertical-align: top;\n",
       "    }\n",
       "\n",
       "    .dataframe thead th {\n",
       "        text-align: right;\n",
       "    }\n",
       "</style>\n",
       "<table border=\"1\" class=\"dataframe\">\n",
       "  <thead>\n",
       "    <tr style=\"text-align: right;\">\n",
       "      <th></th>\n",
       "      <th>Prior</th>\n",
       "      <th>Posterior</th>\n",
       "      <th>Views</th>\n",
       "    </tr>\n",
       "  </thead>\n",
       "  <tbody>\n",
       "    <tr>\n",
       "      <th>AMD</th>\n",
       "      <td>0.020389</td>\n",
       "      <td>0.053644</td>\n",
       "      <td>NaN</td>\n",
       "    </tr>\n",
       "    <tr>\n",
       "      <th>AMZN</th>\n",
       "      <td>0.020008</td>\n",
       "      <td>0.041113</td>\n",
       "      <td>0.10</td>\n",
       "    </tr>\n",
       "    <tr>\n",
       "      <th>INTC</th>\n",
       "      <td>0.020199</td>\n",
       "      <td>0.013562</td>\n",
       "      <td>NaN</td>\n",
       "    </tr>\n",
       "    <tr>\n",
       "      <th>META</th>\n",
       "      <td>0.020392</td>\n",
       "      <td>0.018347</td>\n",
       "      <td>-0.07</td>\n",
       "    </tr>\n",
       "    <tr>\n",
       "      <th>NVDA</th>\n",
       "      <td>0.021036</td>\n",
       "      <td>0.045310</td>\n",
       "      <td>0.15</td>\n",
       "    </tr>\n",
       "    <tr>\n",
       "      <th>RIVN</th>\n",
       "      <td>0.019633</td>\n",
       "      <td>0.044862</td>\n",
       "      <td>NaN</td>\n",
       "    </tr>\n",
       "    <tr>\n",
       "      <th>TSLA</th>\n",
       "      <td>0.019989</td>\n",
       "      <td>0.022508</td>\n",
       "      <td>0.20</td>\n",
       "    </tr>\n",
       "  </tbody>\n",
       "</table>\n",
       "</div>"
      ],
      "text/plain": [
       "         Prior  Posterior  Views\n",
       "AMD   0.020389   0.053644    NaN\n",
       "AMZN  0.020008   0.041113   0.10\n",
       "INTC  0.020199   0.013562    NaN\n",
       "META  0.020392   0.018347  -0.07\n",
       "NVDA  0.021036   0.045310   0.15\n",
       "RIVN  0.019633   0.044862    NaN\n",
       "TSLA  0.019989   0.022508   0.20"
      ]
     },
     "execution_count": 58,
     "metadata": {},
     "output_type": "execute_result"
    }
   ],
   "source": [
    "relative_views_series = pd.Series(np.nan, index=tickers)\n",
    "relative_views_series[:len(relative_views)] = relative_views.flatten()\n",
    "\n",
    "returns_df = pd.DataFrame([prior, bl_returns, relative_views_series], index=[\"Prior\", \"Posterior\", \"Views\"]).T\n",
    "returns_df"
   ]
  },
  {
   "cell_type": "code",
   "execution_count": 59,
   "metadata": {},
   "outputs": [
    {
     "data": {
      "text/plain": [
       "<Axes: >"
      ]
     },
     "execution_count": 59,
     "metadata": {},
     "output_type": "execute_result"
    },
    {
     "data": {
      "image/png": "[encoded data removed]",
      "text/plain": [
       "<Figure size 640x480 with 1 Axes>"
      ]
     },
     "metadata": {},
     "output_type": "display_data"
    }
   ],
   "source": [
    "# For better understanding of the above series\n",
    "# the correlation between the three values are plotted on a bar graph\n",
    "returns_df.plot.bar()"
   ]
  },
  {
   "cell_type": "code",
   "execution_count": 60,
   "metadata": {},
   "outputs": [
    {
     "data": {
      "text/plain": [
       "<Axes: >"
      ]
     },
     "execution_count": 60,
     "metadata": {},
     "output_type": "execute_result"
    },
    {
     "data": {
      "image/png": "[encoded data removed]",
      "text/plain": [
       "<Figure size 640x480 with 2 Axes>"
      ]
     },
     "metadata": {},
     "output_type": "display_data"
    },
    {
     "data": {
      "image/png": "[encoded data removed]",
      "text/plain": [
       "<Figure size 640x480 with 2 Axes>"
      ]
     },
     "metadata": {},
     "output_type": "display_data"
    }
   ],
   "source": [
    "# Calculation of the new posterior covariance matrix\n",
    "posterior_cov = bl.bl_cov()\n",
    "\n",
    "# Alongside the plotted matrices\n",
    "# for the correlation and covariance visualisations\n",
    "plotting.plot_covariance(posterior_cov, plot_correlation=True)\n",
    "plotting.plot_covariance(posterior_cov, plot_correlation=False)"
   ]
  },
  {
   "cell_type": "markdown",
   "metadata": {},
   "source": [
    "### Efficient Frontier Weights"
   ]
  },
  {
   "cell_type": "markdown",
   "metadata": {},
   "source": [
    "The following section is used to generate the allocation weights based on the Black Litterman returns and posterior covariance matrix. The weights are optimised for both Minimum Variance and Max Sharpe portfolios, which can be used as per the investor's risk tolerance and personal strategy.\n",
    "\n",
    "The allocations per optimised weights are visualised further down to give a better understanding of how each strategy allocates the given assets."
   ]
  },
  {
   "cell_type": "markdown",
   "metadata": {},
   "source": [
    "#### Minimum Volatility"
   ]
  },
  {
   "cell_type": "code",
   "execution_count": 61,
   "metadata": {},
   "outputs": [
    {
     "data": {
      "text/plain": [
       "OrderedDict([('AMD', np.float64(0.0)),\n",
       "             ('AMZN', np.float64(0.37603)),\n",
       "             ('INTC', np.float64(0.57276)),\n",
       "             ('META', np.float64(0.01452)),\n",
       "             ('NVDA', np.float64(0.0)),\n",
       "             ('RIVN', np.float64(0.0)),\n",
       "             ('TSLA', np.float64(0.03669))])"
      ]
     },
     "execution_count": 61,
     "metadata": {},
     "output_type": "execute_result"
    }
   ],
   "source": [
    "# Initialises the Efficient Frontier \n",
    "# using the posterior returns and covariance matrix\n",
    "ef_1 = EfficientFrontier(bl_returns, posterior_cov)\n",
    "\n",
    "# Retrieve the Minimum Volatilty portfolio weights\n",
    "min_vol_weights = ef_1.min_volatility()\n",
    "\n",
    "# Cleaned weights to ensure they are rounded and sum to 1\n",
    "cleaned_weights_min_vol = ef_1.clean_weights()\n",
    "\n",
    "cleaned_weights_min_vol"
   ]
  },
  {
   "cell_type": "markdown",
   "metadata": {},
   "source": [
    "#### Max Sharpe"
   ]
  },
  {
   "cell_type": "code",
   "execution_count": 62,
   "metadata": {},
   "outputs": [
    {
     "data": {
      "text/plain": [
       "OrderedDict([('AMD', np.float64(0.6402)),\n",
       "             ('AMZN', np.float64(0.3598)),\n",
       "             ('INTC', np.float64(0.0)),\n",
       "             ('META', np.float64(0.0)),\n",
       "             ('NVDA', np.float64(0.0)),\n",
       "             ('RIVN', np.float64(0.0)),\n",
       "             ('TSLA', np.float64(0.0))])"
      ]
     },
     "execution_count": 62,
     "metadata": {},
     "output_type": "execute_result"
    }
   ],
   "source": [
    "# Initialises the Efficient Frontier \n",
    "# using the posterior returns and covariance matrix\n",
    "ef_2 = EfficientFrontier(bl_returns, posterior_cov)\n",
    "\n",
    "# Retrieve the Max Sharpe portfolio weights\n",
    "max_sharpe_weights = ef_2.max_sharpe()\n",
    "\n",
    "# Clean the weights to ensure they are rounded and sum to 1\n",
    "cleaned_weights_max_sharpe = ef_2.clean_weights()\n",
    "\n",
    "cleaned_weights_max_sharpe"
   ]
  },
  {
   "cell_type": "markdown",
   "metadata": {},
   "source": [
    "### Plot Asset Allocation Pies"
   ]
  },
  {
   "cell_type": "code",
   "execution_count": 63,
   "metadata": {},
   "outputs": [
    {
     "data": {
      "image/png": "[encoded data removed]",
      "text/plain": [
       "<Figure size 1200x600 with 2 Axes>"
      ]
     },
     "metadata": {},
     "output_type": "display_data"
    }
   ],
   "source": [
    "# Set the subplots for both pie charts\n",
    "fig, axes = plt.subplots(1, 2, figsize=(12, 6))\n",
    "\n",
    "# Plot Minimum Volaility allocation\n",
    "pd.Series(cleaned_weights_min_vol).plot.pie(\n",
    "    ax=axes[0], \n",
    "    autopct='%1.1f%%', \n",
    "    startangle=90, \n",
    "    title=\"Miniumum Volatility Allocation\"\n",
    ")\n",
    "\n",
    "# Plot Max Sharpe allocation\n",
    "pd.Series(cleaned_weights_max_sharpe).plot.pie(\n",
    "    ax=axes[1], \n",
    "    autopct='%1.1f%%', \n",
    "    startangle=90, \n",
    "    title=\"Max Sharpe Allocation\"\n",
    ")\n",
    "\n",
    "plt.tight_layout()\n",
    "plt.show()"
   ]
  },
  {
   "cell_type": "markdown",
   "metadata": {},
   "source": [
    "### Portfolio Performance"
   ]
  },
  {
   "cell_type": "markdown",
   "metadata": {},
   "source": [
    "The above allocations are effectively meaningless without an understanding of the annualised performance and risk-adjusted performance. The following section follows the same pattern of optimising for both Min Volatility portfolio and a Max Sharpe portfolio, and utilises the PyPortfolioOpt 'portfolio_performance' function to gauge the portfolio performance for each optimisation.\n",
    "\n",
    "To breakdown the performance metrics:\n",
    "- Expected annual return: The expected returns based on the given allocation\n",
    "- Annual volatility: Used to gauge how risky the allocation is. A more diverse allocation can typically expect to have a lower volatility since the risk is distributed. For the default assets used in this notebook, since they are all in the tech sector, they are more likely to have a higher volatility.\n",
    "- Sharpe ratio: Used to measure the returns per unit of risk. A higher ratio is better, where anything above 3 is typically considered very good."
   ]
  },
  {
   "cell_type": "markdown",
   "metadata": {},
   "source": [
    "#### Minimum Volatility Performance"
   ]
  },
  {
   "cell_type": "code",
   "execution_count": 64,
   "metadata": {},
   "outputs": [
    {
     "name": "stdout",
     "output_type": "stream",
     "text": [
      "Expected annual return: 2.4%\n",
      "Annual volatility: 2.1%\n",
      "Sharpe Ratio: 0.20\n"
     ]
    },
    {
     "data": {
      "text/plain": [
       "(np.float64(0.024319565905913994),\n",
       " np.float64(0.021429732138418683),\n",
       " np.float64(0.2015688240064366))"
      ]
     },
     "execution_count": 64,
     "metadata": {},
     "output_type": "execute_result"
    }
   ],
   "source": [
    "ef_1.portfolio_performance(verbose=True)"
   ]
  },
  {
   "cell_type": "markdown",
   "metadata": {},
   "source": [
    "#### Max Sharpe Performance"
   ]
  },
  {
   "cell_type": "code",
   "execution_count": 65,
   "metadata": {},
   "outputs": [
    {
     "name": "stdout",
     "output_type": "stream",
     "text": [
      "Expected annual return: 4.9%\n",
      "Annual volatility: 2.9%\n",
      "Sharpe Ratio: 1.00\n"
     ]
    },
    {
     "data": {
      "text/plain": [
       "(np.float64(0.049135527990864264),\n",
       " np.float64(0.02904946171022186),\n",
       " np.float64(1.0029627495855498))"
      ]
     },
     "execution_count": 65,
     "metadata": {},
     "output_type": "execute_result"
    }
   ],
   "source": [
    "ef_2.portfolio_performance(verbose=True)"
   ]
  },
  {
   "cell_type": "markdown",
   "metadata": {},
   "source": [
    "### Get Discrete Allocation (DA)"
   ]
  },
  {
   "cell_type": "markdown",
   "metadata": {},
   "source": [
    "The discrete allocation is retrieved for both the Min Volatility and Max Sharpe portfolios based on a £10,000 portfolio. This allows you to determine the number of shares to buy for each stock, which is helpful to use for a loose translation for a real world portfolio. This is not to be confused with a continuous allocation, which instead allows the investor to purchase fractional (partial) shares."
   ]
  },
  {
   "cell_type": "markdown",
   "metadata": {},
   "source": [
    "#### Minimum Volatility DA"
   ]
  },
  {
   "cell_type": "code",
   "execution_count": 66,
   "metadata": {},
   "outputs": [
    {
     "name": "stdout",
     "output_type": "stream",
     "text": [
      "Funds remaining: 2.16\n",
      "AMD: allocated 0.000, desired 0.000\n",
      "AMZN: allocated 0.380, desired 0.376\n",
      "INTC: allocated 0.570, desired 0.573\n",
      "META: allocated 0.000, desired 0.015\n",
      "NVDA: allocated 0.000, desired 0.000\n",
      "RIVN: allocated 0.000, desired 0.000\n",
      "TSLA: allocated 0.050, desired 0.037\n",
      "Allocation has RMSE: 0.008\n",
      "{'AMZN': np.int64(25), 'INTC': np.int64(115), 'TSLA': np.int64(2)}\n"
     ]
    }
   ],
   "source": [
    "latest_prices = get_latest_prices(closing_prices)\n",
    "da_min_vol = DiscreteAllocation(cleaned_weights_min_vol, latest_prices, total_portfolio_value=10000)\n",
    "allocation, leftover = da_min_vol.lp_portfolio(verbose=True)\n",
    "\n",
    "# Quantities of shares that should be bought \n",
    "# to have a 10,000£ portfolio\n",
    "print(allocation)"
   ]
  },
  {
   "cell_type": "markdown",
   "metadata": {},
   "source": [
    "#### Max Sharpe DA"
   ]
  },
  {
   "cell_type": "code",
   "execution_count": 67,
   "metadata": {},
   "outputs": [
    {
     "name": "stdout",
     "output_type": "stream",
     "text": [
      "Funds remaining: 14.81\n",
      "AMD: allocated 0.635, desired 0.640\n",
      "AMZN: allocated 0.365, desired 0.360\n",
      "INTC: allocated 0.000, desired 0.000\n",
      "META: allocated 0.000, desired 0.000\n",
      "NVDA: allocated 0.000, desired 0.000\n",
      "RIVN: allocated 0.000, desired 0.000\n",
      "TSLA: allocated 0.000, desired 0.000\n",
      "Allocation has RMSE: 0.003\n",
      "{'AMD': np.int64(43), 'AMZN': np.int64(24)}\n"
     ]
    }
   ],
   "source": [
    "latest_prices = get_latest_prices(closing_prices)\n",
    "da_max_sharpe = DiscreteAllocation(cleaned_weights_max_sharpe, latest_prices, total_portfolio_value=10000)\n",
    "allocation, leftover = da_max_sharpe.lp_portfolio(verbose=True)\n",
    "\n",
    "# Quantities of shares that should be bought \n",
    "# to have a 10,000£ portfolio\n",
    "print(allocation)"
   ]
  }
 ],
 "metadata": {
  "kernelspec": {
   "display_name": "env",
   "language": "python",
   "name": "python3"
  },
  "language_info": {
   "codemirror_mode": {
    "name": "ipython",
    "version": 3
   },
   "file_extension": ".py",
   "mimetype": "text/x-python",
   "name": "python",
   "nbconvert_exporter": "python",
   "pygments_lexer": "ipython3",
   "version": "3.10.11"
  }
 },
 "nbformat": 4,
 "nbformat_minor": 2
}
