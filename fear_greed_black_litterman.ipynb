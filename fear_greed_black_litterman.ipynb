{
 "cells": [
  {
   "cell_type": "code",
   "execution_count": 61,
   "metadata": {},
   "outputs": [],
   "source": [
    "import numpy as np\n",
    "import pandas as pd\n",
    "import scipy as sp\n",
    "import yfinance as yf\n",
    "import pypfopt \n",
    "import matplotlib.pyplot as plt\n",
    "\n",
    "from pypfopt import black_litterman, plotting, objective_functions, risk_models\n",
    "from pypfopt import BlackLittermanModel\n",
    "from pypfopt.efficient_frontier import EfficientFrontier"
   ]
  },
  {
   "cell_type": "code",
   "execution_count": 109,
   "metadata": {},
   "outputs": [],
   "source": [
    "tickers = [\"TSLA\", \"NVDA\", \"AMZN\", \"META\", \"RIVN\", \"INTC\", \"AMD\"] # Initial asset universe\n",
    "start_date = '2013-01-01'\n",
    "end_date = '2024-01-01'"
   ]
  },
  {
   "cell_type": "code",
   "execution_count": 110,
   "metadata": {},
   "outputs": [
    {
     "name": "stderr",
     "output_type": "stream",
     "text": [
      "[*********************100%***********************]  7 of 7 completed\n"
     ]
    },
    {
     "data": {
      "text/html": [
       "<div>\n",
       "<style scoped>\n",
       "    .dataframe tbody tr th:only-of-type {\n",
       "        vertical-align: middle;\n",
       "    }\n",
       "\n",
       "    .dataframe tbody tr th {\n",
       "        vertical-align: top;\n",
       "    }\n",
       "\n",
       "    .dataframe thead th {\n",
       "        text-align: right;\n",
       "    }\n",
       "</style>\n",
       "<table border=\"1\" class=\"dataframe\">\n",
       "  <thead>\n",
       "    <tr style=\"text-align: right;\">\n",
       "      <th>Ticker</th>\n",
       "      <th>AMD</th>\n",
       "      <th>AMZN</th>\n",
       "      <th>INTC</th>\n",
       "      <th>META</th>\n",
       "      <th>NVDA</th>\n",
       "      <th>RIVN</th>\n",
       "      <th>TSLA</th>\n",
       "    </tr>\n",
       "    <tr>\n",
       "      <th>Date</th>\n",
       "      <th></th>\n",
       "      <th></th>\n",
       "      <th></th>\n",
       "      <th></th>\n",
       "      <th></th>\n",
       "      <th></th>\n",
       "      <th></th>\n",
       "    </tr>\n",
       "  </thead>\n",
       "  <tbody>\n",
       "    <tr>\n",
       "      <th>2023-12-22 00:00:00+00:00</th>\n",
       "      <td>139.600006</td>\n",
       "      <td>153.419998</td>\n",
       "      <td>47.365639</td>\n",
       "      <td>352.329193</td>\n",
       "      <td>48.819527</td>\n",
       "      <td>23.209999</td>\n",
       "      <td>252.539993</td>\n",
       "    </tr>\n",
       "    <tr>\n",
       "      <th>2023-12-26 00:00:00+00:00</th>\n",
       "      <td>143.410004</td>\n",
       "      <td>153.410004</td>\n",
       "      <td>49.832600</td>\n",
       "      <td>353.764832</td>\n",
       "      <td>49.268425</td>\n",
       "      <td>23.590000</td>\n",
       "      <td>256.609985</td>\n",
       "    </tr>\n",
       "    <tr>\n",
       "      <th>2023-12-27 00:00:00+00:00</th>\n",
       "      <td>146.070007</td>\n",
       "      <td>153.339996</td>\n",
       "      <td>50.089161</td>\n",
       "      <td>356.755859</td>\n",
       "      <td>49.406395</td>\n",
       "      <td>23.730000</td>\n",
       "      <td>261.440002</td>\n",
       "    </tr>\n",
       "    <tr>\n",
       "      <th>2023-12-28 00:00:00+00:00</th>\n",
       "      <td>148.759995</td>\n",
       "      <td>153.380005</td>\n",
       "      <td>49.724056</td>\n",
       "      <td>357.244385</td>\n",
       "      <td>49.511375</td>\n",
       "      <td>23.540001</td>\n",
       "      <td>253.179993</td>\n",
       "    </tr>\n",
       "    <tr>\n",
       "      <th>2023-12-29 00:00:00+00:00</th>\n",
       "      <td>147.410004</td>\n",
       "      <td>151.940002</td>\n",
       "      <td>49.585903</td>\n",
       "      <td>352.897461</td>\n",
       "      <td>49.511375</td>\n",
       "      <td>23.459999</td>\n",
       "      <td>248.479996</td>\n",
       "    </tr>\n",
       "  </tbody>\n",
       "</table>\n",
       "</div>"
      ],
      "text/plain": [
       "Ticker                            AMD        AMZN       INTC        META  \\\n",
       "Date                                                                       \n",
       "2023-12-22 00:00:00+00:00  139.600006  153.419998  47.365639  352.329193   \n",
       "2023-12-26 00:00:00+00:00  143.410004  153.410004  49.832600  353.764832   \n",
       "2023-12-27 00:00:00+00:00  146.070007  153.339996  50.089161  356.755859   \n",
       "2023-12-28 00:00:00+00:00  148.759995  153.380005  49.724056  357.244385   \n",
       "2023-12-29 00:00:00+00:00  147.410004  151.940002  49.585903  352.897461   \n",
       "\n",
       "Ticker                          NVDA       RIVN        TSLA  \n",
       "Date                                                         \n",
       "2023-12-22 00:00:00+00:00  48.819527  23.209999  252.539993  \n",
       "2023-12-26 00:00:00+00:00  49.268425  23.590000  256.609985  \n",
       "2023-12-27 00:00:00+00:00  49.406395  23.730000  261.440002  \n",
       "2023-12-28 00:00:00+00:00  49.511375  23.540001  253.179993  \n",
       "2023-12-29 00:00:00+00:00  49.511375  23.459999  248.479996  "
      ]
     },
     "execution_count": 110,
     "metadata": {},
     "output_type": "execute_result"
    }
   ],
   "source": [
    "data = yf.download(tickers, start=start_date, end=end_date)\n",
    "data.to_csv(\"./Data/historical_data.csv\")\n",
    "\n",
    "closing_prices = data[\"Adj Close\"]\n",
    "\n",
    "returns = np.log(closing_prices / closing_prices.shift(1).dropna())\n",
    "\n",
    "def get_market_prices_and_caps(tickers, start_date, end_date):\n",
    "    # VOO is Vanguard S&P 500 ETF\n",
    "    market_prices = yf.download(\"VOO\", start=start_date, end=end_date)[\"Adj Close\"]\n",
    "    # market_returns = np.log(market_prices / market_prices.shift(1)).dropna() \n",
    "\n",
    "    market_caps = {}\n",
    "    for ticker in tickers:\n",
    "        stock = yf.Ticker(ticker)\n",
    "        market_caps[ticker] = stock.info.get(\"marketCap\", None)  # Get market cap, with None if missing\n",
    "\n",
    "    return market_prices, market_caps\n",
    "\n",
    "closing_prices.tail()"
   ]
  },
  {
   "cell_type": "code",
   "execution_count": 98,
   "metadata": {},
   "outputs": [
    {
     "data": {
      "text/plain": [
       "<Axes: >"
      ]
     },
     "execution_count": 98,
     "metadata": {},
     "output_type": "execute_result"
    },
    {
     "data": {
      "image/png": "[encoded data removed]",
      "text/plain": [
       "<Figure size 640x480 with 2 Axes>"
      ]
     },
     "metadata": {},
     "output_type": "display_data"
    }
   ],
   "source": [
    "fg_covariance_matrix = returns.cov()\n",
    "plotting.plot_covariance(fg_covariance_matrix, plot_correlation=True)"
   ]
  },
  {
   "cell_type": "code",
   "execution_count": 99,
   "metadata": {},
   "outputs": [
    {
     "name": "stderr",
     "output_type": "stream",
     "text": [
      "[*********************100%***********************]  1 of 1 completed\n"
     ]
    },
    {
     "data": {
      "text/plain": [
       "<Axes: ylabel='Ticker'>"
      ]
     },
     "execution_count": 99,
     "metadata": {},
     "output_type": "execute_result"
    },
    {
     "data": {
      "image/png": "[encoded data removed]",
      "text/plain": [
       "<Figure size 800x400 with 1 Axes>"
      ]
     },
     "metadata": {},
     "output_type": "display_data"
    }
   ],
   "source": [
    "market_prices, market_caps = get_market_prices_and_caps(tickers, start_date, end_date)\n",
    "delta = black_litterman.market_implied_risk_aversion(market_prices)\n",
    "prior = black_litterman.market_implied_prior_returns(market_caps, delta, covariance_matrix)\n",
    "\n",
    "market_caps\n",
    "market_prices\n",
    "prior.plot.barh(figsize=(8,4))"
   ]
  },
  {
   "cell_type": "markdown",
   "metadata": {},
   "source": [
    "### Get Individual Fear-Greed Score"
   ]
  },
  {
   "cell_type": "code",
   "execution_count": null,
   "metadata": {},
   "outputs": [
    {
     "name": "stderr",
     "output_type": "stream",
     "text": [
      "[*********************100%***********************]  1 of 1 completed\n",
      "[*********************100%***********************]  1 of 1 completed\n",
      "[*********************100%***********************]  1 of 1 completed\n",
      "[*********************100%***********************]  1 of 1 completed\n",
      "[*********************100%***********************]  1 of 1 completed\n",
      "[*********************100%***********************]  1 of 1 completed\n",
      "[*********************100%***********************]  1 of 1 completed\n",
      "[*********************100%***********************]  1 of 1 completed\n",
      "[*********************100%***********************]  1 of 1 completed\n",
      "[*********************100%***********************]  1 of 1 completed\n",
      "[*********************100%***********************]  1 of 1 completed\n",
      "[*********************100%***********************]  1 of 1 completed\n",
      "[*********************100%***********************]  1 of 1 completed\n",
      "[*********************100%***********************]  1 of 1 completed\n",
      "[*********************100%***********************]  1 of 1 completed\n",
      "[*********************100%***********************]  1 of 1 completed\n",
      "[*********************100%***********************]  1 of 1 completed\n",
      "[*********************100%***********************]  1 of 1 completed\n",
      "[*********************100%***********************]  1 of 1 completed\n",
      "[*********************100%***********************]  1 of 1 completed\n",
      "[*********************100%***********************]  1 of 1 completed\n"
     ]
    },
    {
     "name": "stdout",
     "output_type": "stream",
     "text": [
      "{'TSLA': 0.5706244639682003, 'NVDA': 0.5858397012469041, 'AMZN': 0.5183134419105367, 'META': 0.5809659318660183, 'MSFT': 0.45855889401202726, 'AAPL': 0.528069165650992, 'AMD': 0.45847050985646576}\n"
     ]
    }
   ],
   "source": [
    "def get_fear_greed(tickers, start_date='2023-01-01', end_date='2024-01-01'):\n",
    "    fear_greed_scores_dict = {}\n",
    "\n",
    "    for ticker in tickers:\n",
    "        try:\n",
    "            # calculate each indicator for the stock\n",
    "            rsi = calculate_stock_rsi([ticker], start_date=start_date, end_date=end_date)[ticker].iloc[-1]['RSI']\n",
    "            price_strength, high, low, current_price = calculate_stock_price_strength([ticker])\n",
    "            breadth_data = calculate_stock_price_breadth([ticker], start=start_date, end=end_date)\n",
    "            volatility = calculate_market_volatility([ticker], start_date=start_date, end_date=end_date)[ticker]\n",
    "            put_call_ratio = calculate_put_call_ratio([ticker])[ticker]\n",
    "\n",
    "            # normalise each indicator (as rsi is from 0-100 etc)\n",
    "            normalised_rsi = rsi / 100\n",
    "            normalised_price_strength = price_strength\n",
    "            latest_breadth_ratio = breadth_data['breadth_ratio'].iloc[-1]\n",
    "            normalised_breadth = min(max(latest_breadth_ratio / 2, 0), 1)\n",
    "            normalised_volatility = min(max(volatility / 100, 0), 1)\n",
    "            normalised_put_call_ratio = min(max(put_call_ratio, 0), 1) if put_call_ratio is not None else 0.5\n",
    "\n",
    "            # weights for each indicator\n",
    "            rsi_weight = 0.3\n",
    "            price_strength_weight = 0.2\n",
    "            breadth_weight = 0.2\n",
    "            volatility_weight = 0.2\n",
    "            put_call_ratio_weight = 0.1\n",
    "\n",
    "            # calculate the FG score\n",
    "            fear_greed_score = (\n",
    "                normalised_rsi * rsi_weight +\n",
    "                normalised_price_strength * price_strength_weight +\n",
    "                normalised_breadth * breadth_weight +\n",
    "                normalised_volatility * volatility_weight +\n",
    "                normalised_put_call_ratio * put_call_ratio_weight\n",
    "            )\n",
    "\n",
    "            fear_greed_scores_dict[ticker] = fear_greed_score\n",
    "\n",
    "        except Exception as error:\n",
    "            print(f\"An error has occurred for {ticker}: {error}\")\n",
    "            fear_greed_scores_dict[ticker] = None\n",
    "\n",
    "    return fear_greed_scores_dict\n",
    "\n",
    "def calculate_stock_rsi(tickers, period=14, start_date=\"2023-01-01\", end_date=\"2024-01-01\"):\n",
    "    rsi_dict = {}\n",
    "    \n",
    "    for ticker in tickers:\n",
    "        stock_data = yf.download(ticker, start=start_date, end=end_date)\n",
    "        stock_data['Change'] = stock_data['Close'].diff()\n",
    "        stock_data['Gain'] = np.where(stock_data['Change'] > 0, stock_data['Change'], 0)\n",
    "        stock_data['Loss'] = np.where(stock_data['Change'] < 0, -stock_data['Change'], 0)\n",
    "\n",
    "        stock_data['Avg_Gain'] = stock_data['Gain'].rolling(window=period, min_periods=1).mean()\n",
    "        stock_data['Avg_Loss'] = stock_data['Loss'].rolling(window=period, min_periods=1).mean()\n",
    "\n",
    "        stock_data['RS'] = stock_data['Avg_Gain'] / stock_data['Avg_Loss']\n",
    "        stock_data['RSI'] = 100 - (100 / (1 + stock_data['RS']))\n",
    "\n",
    "        rsi_dict[ticker] = stock_data[['Close', 'RSI']].dropna()\n",
    "    \n",
    "    return rsi_dict\n",
    "\n",
    "def calculate_stock_price_strength(tickers):\n",
    "    for ticker in tickers:\n",
    "        stock_data = yf.Ticker(ticker)\n",
    "        stock_history = stock_data.history(period=\"1y\")\n",
    "\n",
    "        high = stock_history['Close'].max()\n",
    "        low = stock_history['Close'].min()\n",
    "        current_price = stock_history['Close'].iloc[-1]\n",
    "\n",
    "        proximity_to_high = (current_price - low) / (high - low)\n",
    "        \n",
    "    return proximity_to_high, high, low, current_price\n",
    "\n",
    "def calculate_stock_price_breadth(tickers, start, end):\n",
    "    all_results = pd.DataFrame()\n",
    "\n",
    "    for ticker in tickers:\n",
    "        data = yf.download(ticker, start=start, end=end)\n",
    "        close_data = data['Close']\n",
    "        volume_data = data['Volume']\n",
    "\n",
    "        price_change = close_data.pct_change().fillna(0)\n",
    "        results = pd.DataFrame(index=close_data.index)\n",
    "\n",
    "        results['rising_volume'] = np.where(price_change > 0, volume_data, 0)\n",
    "        results['declining_volume'] = np.where(price_change < 0, volume_data, 0)\n",
    "\n",
    "        results['breadth_ratio'] = results['rising_volume'].sum() / results['declining_volume'].sum()\n",
    "        results['ticker'] = ticker\n",
    "\n",
    "        all_results = pd.concat([all_results, results])\n",
    "\n",
    "    return all_results\n",
    "\n",
    "def calculate_market_volatility(tickers, start_date='2023-01-01', end_date='2024-01-01'):\n",
    "    volatility_dict = {}\n",
    "    \n",
    "    for ticker in tickers:\n",
    "        stock_data = yf.download(ticker, start=start_date, end=end_date)\n",
    "        stock_data['Returns'] = stock_data['Close'].pct_change()\n",
    "        stock_data['Volatility'] = stock_data['Returns'].rolling(window=50).std() * np.sqrt(252)\n",
    "        \n",
    "        latest_volatility = stock_data['Volatility'].iloc[-1]\n",
    "        volatility_dict[ticker] = latest_volatility\n",
    "    \n",
    "    return volatility_dict\n",
    "\n",
    "def calculate_put_call_ratio(tickers):\n",
    "    put_call_ratios = {}\n",
    "    \n",
    "    for ticker in tickers:\n",
    "        try:\n",
    "            options = yf.Ticker(ticker).option_chain()\n",
    "            puts = options.puts\n",
    "            calls = options.calls\n",
    "            \n",
    "            total_put_volume = puts['volume'].sum()\n",
    "            total_call_volume = calls['volume'].sum()\n",
    "            put_call_ratio = total_put_volume / total_call_volume if total_call_volume != 0 else None\n",
    "            put_call_ratios[ticker] = put_call_ratio\n",
    "            \n",
    "        except Exception as error:\n",
    "            print(f\"An error occurred for {ticker}: {error}\")\n",
    "            put_call_ratios[ticker] = None\n",
    "    \n",
    "    return put_call_ratios\n",
    "\n",
    "fear_greed_scores = get_fear_greed(tickers, start_date='2023-01-01', end_date='2024-01-01')\n",
    "print(fear_greed_scores) # 0-1, higher score is greedier"
   ]
  },
  {
   "cell_type": "code",
   "execution_count": 89,
   "metadata": {},
   "outputs": [],
   "source": [
    "def plot_stock_rsi(ticker: str, start_date: str = \"2023-01-01\", end_date: str = \"2024-01-01\"):\n",
    "    fig, axes = plt.subplots(nrows=7, ncols=1, figsize=(14, 20), sharex=True)\n",
    "    fig.suptitle('Relative Strength Index (RSI)')\n",
    "\n",
    "    for ax, ticker in zip(axes, tickers):\n",
    "        ax.plot(rsi[ticker].index, rsi[ticker]['RSI'], label=ticker)\n",
    "        ax.axhline(70, color='red', linestyle='--', label='Overbought (70)')\n",
    "        ax.axhline(30, color='green', linestyle='--', label='Oversold (30)')\n",
    "        ax.set_title(ticker)\n",
    "        ax.set_ylabel('RSI')\n",
    "        ax.legend(loc='upper left')\n",
    "        ax.grid(True)\n",
    "\n",
    "    axes[-1].set_xlabel('Date')\n",
    "    plt.tight_layout(rect=[0, 0, 1, 0.96])\n",
    "    plt.show()\n",
    "\n",
    "def plot_stock_price_strength(tickers: list):\n",
    "    fig, axes = plt.subplots(nrows=len(tickers), ncols=1, figsize=(14, 20), sharex=True)\n",
    "    fig.suptitle('Stock Price Strength')\n",
    "\n",
    "    for ax, ticker in zip(axes, tickers):\n",
    "        proximity_to_high, high, low, current_price = calculate_stock_price_strength(ticker)\n",
    "\n",
    "        stock_data = yf.Ticker(ticker)\n",
    "        stock_history = stock_data.history(period=\"1y\")\n",
    "\n",
    "        ax.plot(stock_history.index, stock_history['Close'], label='Close price', color='blue')\n",
    "        ax.axhline(high, color='red', linestyle='--', label='52 week high')\n",
    "        ax.axhline(low, color='green', linestyle='--', label='52 week low')\n",
    "        ax.scatter(stock_history.index[-1], current_price, color='purple', label=f'Current Price (Proximity: {proximity_to_high:.2f})')\n",
    "\n",
    "        ax.set_title(ticker)\n",
    "        ax.set_ylabel('Price')\n",
    "        ax.legend(loc='upper left')\n",
    "        ax.grid(True)\n",
    "\n",
    "    axes[-1].set_xlabel('Date')\n",
    "    plt.tight_layout(rect=[0, 0, 1, 0.96])\n",
    "    plt.show()\n",
    "\n",
    "def plot_stock_price_breadth(tickers: list):\n",
    "    fig, axes = plt.subplots(nrows=len(tickers), ncols=1, figsize=(14, 20), sharex=True)\n",
    "    fig.suptitle('Stock Price Breadth')\n",
    "\n",
    "    for ax, ticker in zip(axes, tickers):\n",
    "        breadth_data = calculate_stock_price_breadth(ticker, start=start_date, end=end_date)\n",
    "        ax.plot(breadth_data.index, breadth_data['breadth_ratio'], label=ticker)\n",
    "        ax.axhline(1, color='red', linestyle='--', label='Neutral (1)')\n",
    "        ax.set_title(ticker)\n",
    "        ax.set_ylabel('Breadth Ratio')\n",
    "        ax.legend(loc='upper left')\n",
    "        ax.grid(True)\n",
    "\n",
    "    axes[-1].set_xlabel('Date')\n",
    "    plt.tight_layout(rect=[0, 0, 1, 0.96])\n",
    "    plt.show()\n",
    "\n",
    "def plot_market_volatility(tickers, start_date='2023-01-01', end_date='2024-01-01'):\n",
    "    volatility_data = calculate_market_volatility(tickers, start_date, end_date)\n",
    "    \n",
    "    plt.figure(figsize=(10, 6))\n",
    "    for ticker in tickers:\n",
    "        plt.plot(volatility_data[ticker], label=ticker)\n",
    "    \n",
    "    plt.title('Market Volatility')\n",
    "    plt.xlabel('Date')\n",
    "    plt.ylabel('Volatility')\n",
    "    plt.legend()\n",
    "    plt.show()\n",
    "\n",
    "def plot_put_call_ratio(tickers: list):\n",
    "    fig, axes = plt.subplots(nrows=len(tickers), ncols=1, figsize=(14, 20), sharex=True)\n",
    "    fig.suptitle('Put Call Ratio')\n",
    "\n",
    "    for ax, ticker in zip(axes, tickers):\n",
    "        put_call_data = calculate_put_call_ratio([ticker])\n",
    "        ax.plot(put_call_data[ticker].index, put_call_data[ticker], label=ticker)\n",
    "        ax.axhline(1, color='red', linestyle='--', label='Neutral (1)')\n",
    "        ax.set_title(ticker)\n",
    "        ax.set_ylabel('Put Call Ratio')\n",
    "        ax.legend(loc='upper left')\n",
    "        ax.grid(True)\n",
    "\n",
    "    axes[-1].set_xlabel('Date')\n",
    "    plt.tight_layout(rect=[0, 0, 1, 0.96])\n",
    "    plt.show()\n",
    "\n",
    "# plot_stock_rsi(tickers) # working\n",
    "# plot_stock_price_strength(tickers) # not working\n",
    "# plot_stock_price_breadth(tickers) # not plotting correctly\n",
    "# plot_market_volatility(tickers, start_date='2023-01-01', end_date='2024-01-01') # no data\n",
    "# plot_put_call_ratio(tickers) # not working"
   ]
  },
  {
   "cell_type": "code",
   "execution_count": 100,
   "metadata": {},
   "outputs": [
    {
     "name": "stdout",
     "output_type": "stream",
     "text": [
      "{'TSLA': 0.5706244639682003, 'NVDA': 0.5858397012469041, 'AMZN': 0.5183134419105367, 'META': 0.5809659318660183, 'MSFT': 0.45855889401202726, 'AAPL': 0.528069165650992, 'AMD': 0.45847050985646576}\n"
     ]
    }
   ],
   "source": [
    "views = {ticker: score for ticker, score in fear_greed_scores.items()}\n",
    "print(views)"
   ]
  },
  {
   "cell_type": "markdown",
   "metadata": {},
   "source": [
    "### Convert to Views"
   ]
  },
  {
   "cell_type": "code",
   "execution_count": 101,
   "metadata": {},
   "outputs": [
    {
     "name": "stdout",
     "output_type": "stream",
     "text": [
      "views: {'TSLA': 0.0, 'NVDA': 0.0, 'AMZN': 0.0, 'META': 0.0, 'MSFT': 0.0, 'AAPL': 0.0, 'AMD': 0.0}\n",
      "confidences: {'TSLA': 0.14124892793640065, 'NVDA': 0.1716794024938082, 'AMZN': 0.036626883821073486, 'META': 0.1619318637320366, 'MSFT': 0.08288221197594547, 'AAPL': 0.05613833130198409, 'AMD': 0.08305898028706848}\n"
     ]
    }
   ],
   "source": [
    "bullish_threshold = 0.7\n",
    "bearish_threshold = 0.3\n",
    "\n",
    "fg_based_views = {}\n",
    "fg_based_confidences = {}\n",
    "\n",
    "for ticker, score in fear_greed_scores.items():\n",
    "    if score > bullish_threshold:\n",
    "        view_returns = 0.02 + (score - bullish_threshold) * 0.0001\n",
    "    elif score < bearish_threshold:\n",
    "        view_returns = -0.02 + (bearish_threshold - score) * 0.0001\n",
    "    else:\n",
    "        view_returns = 0.0  # neutral score if not bullish or bearish\n",
    "\n",
    "    fg_based_views[ticker] = view_returns\n",
    "    confidence = abs(score - 0.5) / 0.5\n",
    "    fg_based_confidences[ticker] = confidence\n",
    "\n",
    "print(f\"views: {fg_based_views}\")\n",
    "print(f\"confidences: {fg_based_confidences}\")"
   ]
  },
  {
   "cell_type": "code",
   "execution_count": 102,
   "metadata": {},
   "outputs": [
    {
     "data": {
      "text/plain": [
       "Ticker\n",
       "AAPL    0.005970\n",
       "AMD     0.002036\n",
       "AMZN    0.004874\n",
       "META    0.003943\n",
       "MSFT    0.006062\n",
       "NVDA    0.001777\n",
       "TSLA    0.002765\n",
       "dtype: float64"
      ]
     },
     "execution_count": 102,
     "metadata": {},
     "output_type": "execute_result"
    }
   ],
   "source": [
    "fear_greed_bl = BlackLittermanModel(\n",
    "    fg_covariance_matrix, \n",
    "    pi=prior, \n",
    "    absolute_views=fg_based_views, \n",
    "    view_confidences=fg_based_confidences\n",
    ")\n",
    "\n",
    "fear_greed_returns = fear_greed_bl.bl_returns()\n",
    "fear_greed_returns"
   ]
  },
  {
   "cell_type": "code",
   "execution_count": 104,
   "metadata": {},
   "outputs": [
    {
     "data": {
      "text/plain": [
       "<Axes: >"
      ]
     },
     "execution_count": 104,
     "metadata": {},
     "output_type": "execute_result"
    },
    {
     "data": {
      "image/png": "[encoded data removed]",
      "text/plain": [
       "<Figure size 640x480 with 2 Axes>"
      ]
     },
     "metadata": {},
     "output_type": "display_data"
    }
   ],
   "source": [
    "fg_posterior_cov = fear_greed_bl.bl_cov()\n",
    "plotting.plot_covariance(fg_posterior_cov)"
   ]
  },
  {
   "cell_type": "code",
   "execution_count": null,
   "metadata": {},
   "outputs": [
    {
     "data": {
      "text/plain": [
       "OrderedDict([('AAPL', 0.3542),\n",
       "             ('AMD', 0.0),\n",
       "             ('AMZN', 0.16226),\n",
       "             ('META', 0.04388),\n",
       "             ('MSFT', 0.43967),\n",
       "             ('NVDA', 0.0),\n",
       "             ('TSLA', 0.0)])"
      ]
     },
     "execution_count": 107,
     "metadata": {},
     "output_type": "execute_result"
    }
   ],
   "source": [
    "# Standard efficient frontier and cleaned weights\n",
    "fg_ef = EfficientFrontier(fear_greed_returns, fg_posterior_cov)\n",
    "# min_vol_weights = ef.min_volatility() # max_sharpe not working. look into this\n",
    "fg_weights = fg_ef.min_volatility()\n",
    "\n",
    "cleaned_weights = fg_ef.clean_weights()\n",
    "cleaned_weights"
   ]
  },
  {
   "cell_type": "code",
   "execution_count": 108,
   "metadata": {},
   "outputs": [
    {
     "name": "stdout",
     "output_type": "stream",
     "text": [
      "Expected annual return: 0.6%\n",
      "Annual volatility: 1.5%\n",
      "Sharpe Ratio: -0.92\n"
     ]
    },
    {
     "data": {
      "text/plain": [
       "(0.005743600860980714, 0.015448148302337096, -0.9228548859064541)"
      ]
     },
     "execution_count": 108,
     "metadata": {},
     "output_type": "execute_result"
    }
   ],
   "source": [
    "fg_ef.portfolio_performance(verbose=True)"
   ]
  }
 ],
 "metadata": {
  "kernelspec": {
   "display_name": "env",
   "language": "python",
   "name": "python3"
  },
  "language_info": {
   "codemirror_mode": {
    "name": "ipython",
    "version": 3
   },
   "file_extension": ".py",
   "mimetype": "text/x-python",
   "name": "python",
   "nbconvert_exporter": "python",
   "pygments_lexer": "ipython3",
   "version": "3.10.11"
  }
 },
 "nbformat": 4,
 "nbformat_minor": 2
}
