{
 "cells": [
  {
   "cell_type": "code",
   "execution_count": 1,
   "metadata": {},
   "outputs": [],
   "source": [
    "import numpy as np\n",
    "import pandas as pd\n",
    "import scipy as sp\n",
    "import yfinance as yf\n",
    "import pypfopt \n",
    "import matplotlib.pyplot as plt\n",
    "\n",
    "from pypfopt import black_litterman, plotting, objective_functions, risk_models\n",
    "from pypfopt import BlackLittermanModel\n",
    "from pypfopt.efficient_frontier import EfficientFrontier"
   ]
  },
  {
   "cell_type": "code",
   "execution_count": 2,
   "metadata": {},
   "outputs": [
    {
     "name": "stderr",
     "output_type": "stream",
     "text": [
      "[*********************100%***********************]  7 of 7 completed\n"
     ]
    },
    {
     "data": {
      "text/html": [
       "<div>\n",
       "<style scoped>\n",
       "    .dataframe tbody tr th:only-of-type {\n",
       "        vertical-align: middle;\n",
       "    }\n",
       "\n",
       "    .dataframe tbody tr th {\n",
       "        vertical-align: top;\n",
       "    }\n",
       "\n",
       "    .dataframe thead th {\n",
       "        text-align: right;\n",
       "    }\n",
       "</style>\n",
       "<table border=\"1\" class=\"dataframe\">\n",
       "  <thead>\n",
       "    <tr style=\"text-align: right;\">\n",
       "      <th>Ticker</th>\n",
       "      <th>AAPL</th>\n",
       "      <th>AMD</th>\n",
       "      <th>AMZN</th>\n",
       "      <th>META</th>\n",
       "      <th>MSFT</th>\n",
       "      <th>NVDA</th>\n",
       "      <th>TSLA</th>\n",
       "    </tr>\n",
       "    <tr>\n",
       "      <th>Date</th>\n",
       "      <th></th>\n",
       "      <th></th>\n",
       "      <th></th>\n",
       "      <th></th>\n",
       "      <th></th>\n",
       "      <th></th>\n",
       "      <th></th>\n",
       "    </tr>\n",
       "  </thead>\n",
       "  <tbody>\n",
       "    <tr>\n",
       "      <th>2023-12-22 00:00:00+00:00</th>\n",
       "      <td>192.656174</td>\n",
       "      <td>139.600006</td>\n",
       "      <td>153.419998</td>\n",
       "      <td>352.329193</td>\n",
       "      <td>371.799713</td>\n",
       "      <td>48.819527</td>\n",
       "      <td>252.539993</td>\n",
       "    </tr>\n",
       "    <tr>\n",
       "      <th>2023-12-26 00:00:00+00:00</th>\n",
       "      <td>192.108871</td>\n",
       "      <td>143.410004</td>\n",
       "      <td>153.410004</td>\n",
       "      <td>353.764832</td>\n",
       "      <td>371.879150</td>\n",
       "      <td>49.268425</td>\n",
       "      <td>256.609985</td>\n",
       "    </tr>\n",
       "    <tr>\n",
       "      <th>2023-12-27 00:00:00+00:00</th>\n",
       "      <td>192.208359</td>\n",
       "      <td>146.070007</td>\n",
       "      <td>153.339996</td>\n",
       "      <td>356.755859</td>\n",
       "      <td>371.293518</td>\n",
       "      <td>49.406395</td>\n",
       "      <td>261.440002</td>\n",
       "    </tr>\n",
       "    <tr>\n",
       "      <th>2023-12-28 00:00:00+00:00</th>\n",
       "      <td>192.636276</td>\n",
       "      <td>148.759995</td>\n",
       "      <td>153.380005</td>\n",
       "      <td>357.244385</td>\n",
       "      <td>372.494507</td>\n",
       "      <td>49.511375</td>\n",
       "      <td>253.179993</td>\n",
       "    </tr>\n",
       "    <tr>\n",
       "      <th>2023-12-29 00:00:00+00:00</th>\n",
       "      <td>191.591385</td>\n",
       "      <td>147.410004</td>\n",
       "      <td>151.940002</td>\n",
       "      <td>352.897461</td>\n",
       "      <td>373.248871</td>\n",
       "      <td>49.511375</td>\n",
       "      <td>248.479996</td>\n",
       "    </tr>\n",
       "  </tbody>\n",
       "</table>\n",
       "</div>"
      ],
      "text/plain": [
       "Ticker                           AAPL         AMD        AMZN        META  \\\n",
       "Date                                                                        \n",
       "2023-12-22 00:00:00+00:00  192.656174  139.600006  153.419998  352.329193   \n",
       "2023-12-26 00:00:00+00:00  192.108871  143.410004  153.410004  353.764832   \n",
       "2023-12-27 00:00:00+00:00  192.208359  146.070007  153.339996  356.755859   \n",
       "2023-12-28 00:00:00+00:00  192.636276  148.759995  153.380005  357.244385   \n",
       "2023-12-29 00:00:00+00:00  191.591385  147.410004  151.940002  352.897461   \n",
       "\n",
       "Ticker                           MSFT       NVDA        TSLA  \n",
       "Date                                                          \n",
       "2023-12-22 00:00:00+00:00  371.799713  48.819527  252.539993  \n",
       "2023-12-26 00:00:00+00:00  371.879150  49.268425  256.609985  \n",
       "2023-12-27 00:00:00+00:00  371.293518  49.406395  261.440002  \n",
       "2023-12-28 00:00:00+00:00  372.494507  49.511375  253.179993  \n",
       "2023-12-29 00:00:00+00:00  373.248871  49.511375  248.479996  "
      ]
     },
     "execution_count": 2,
     "metadata": {},
     "output_type": "execute_result"
    }
   ],
   "source": [
    "tickers = [\"TSLA\", \"NVDA\", \"AMZN\", \"META\", \"MSFT\", \"AAPL\", \"AMD\"] # Initial asset universe\n",
    "start_date = '2013-01-01'\n",
    "end_date = '2024-01-01'\n",
    "\n",
    "data = yf.download(tickers, start=start_date, end=end_date)\n",
    "data.to_csv(\"./Data/historical_data.csv\")\n",
    "\n",
    "closing_prices = data[\"Adj Close\"]\n",
    "\n",
    "returns = np.log(closing_prices / closing_prices.shift(1).dropna())\n",
    "\n",
    "def get_market_prices_and_caps(tickers, start_date, end_date):\n",
    "    # VOO is Vanguard S&P 500 ETF\n",
    "    market_prices = yf.download(\"VOO\", start=start_date, end=end_date)[\"Adj Close\"]\n",
    "    # market_returns = np.log(market_prices / market_prices.shift(1)).dropna() \n",
    "\n",
    "    market_caps = {}\n",
    "    for ticker in tickers:\n",
    "        stock = yf.Ticker(ticker)\n",
    "        market_caps[ticker] = stock.info.get(\"marketCap\", None)  # Get market cap, with None if missing\n",
    "\n",
    "    return market_prices, market_caps\n",
    "\n",
    "closing_prices.tail()"
   ]
  },
  {
   "cell_type": "code",
   "execution_count": 5,
   "metadata": {},
   "outputs": [
    {
     "data": {
      "text/plain": [
       "<Axes: >"
      ]
     },
     "execution_count": 5,
     "metadata": {},
     "output_type": "execute_result"
    },
    {
     "data": {
      "image/png": "[encoded data removed]",
      "text/plain": [
       "<Figure size 640x480 with 2 Axes>"
      ]
     },
     "metadata": {},
     "output_type": "display_data"
    }
   ],
   "source": [
    "covariance_matrix = returns.cov()\n",
    "plotting.plot_covariance(covariance_matrix, plot_correlation=True)"
   ]
  },
  {
   "cell_type": "code",
   "execution_count": 7,
   "metadata": {},
   "outputs": [
    {
     "name": "stderr",
     "output_type": "stream",
     "text": [
      "[*********************100%***********************]  1 of 1 completed\n"
     ]
    },
    {
     "data": {
      "text/plain": [
       "<Axes: ylabel='Ticker'>"
      ]
     },
     "execution_count": 7,
     "metadata": {},
     "output_type": "execute_result"
    },
    {
     "data": {
      "image/png": "[encoded data removed]",
      "text/plain": [
       "<Figure size 800x400 with 1 Axes>"
      ]
     },
     "metadata": {},
     "output_type": "display_data"
    }
   ],
   "source": [
    "market_prices, market_caps = get_market_prices_and_caps(tickers, start_date, end_date)\n",
    "delta = black_litterman.market_implied_risk_aversion(market_prices)\n",
    "prior = black_litterman.market_implied_prior_returns(market_caps, delta, covariance_matrix)\n",
    "\n",
    "prior.plot.barh(figsize=(8,4))"
   ]
  },
  {
   "cell_type": "markdown",
   "metadata": {},
   "source": [
    "### Get Fear-Greed Score"
   ]
  },
  {
   "cell_type": "code",
   "execution_count": null,
   "metadata": {},
   "outputs": [],
   "source": [
    "# indicators to define:\n",
    "# done - Stock Price Momentum: A measure of the S&P 500 versus its 125-day moving average (MA)\n",
    "# done - Stock Price Strength: The number of stocks hitting 52-week highs versus those hitting 52-week lows on the New York Stock Exchange (NYSE).\n",
    "# done - Stock Price Breadth: Analyzing the trading volumes in rising stocks against declining stocks.\n",
    "\n",
    "# todo: Put and Call Options: The extent to which put options lag behind call options, signifying greed, or surpasses them, indicating fear.\n",
    "# todo: Junk Bond Demand: Measures the spread between yields on investment-grade bonds and junk bonds.\n",
    "# todo: Market Volatility: The CBOE's Volatility Index (VIX) based on a 50-day MA.\n",
    "# todo: Safe Haven Demand: The difference in returns for stocks versus treasuries.\n",
    "\n",
    "def get_fear_greed(tickers, start_date='2023-01-01', end_date='2024-01-01'):\n",
    "    fear_greed_scores_dict = {}\n",
    "\n",
    "    for ticker in tickers:\n",
    "        try:\n",
    "            # calculate each indicator for the stock\n",
    "            rsi = calculate_stock_rsi(ticker, start_date=start_date, end_date=end_date).iloc[-1]['RSI']\n",
    "            price_strength, high, low, current_price = calculate_stock_price_strength(ticker)\n",
    "            breadth_data = calculate_stock_price_breadth(ticker, start=start_date, end=end_date)\n",
    "\n",
    "            # normalise each indicator (as rsi is from 0-100 etc)\n",
    "            normalised_rsi = rsi / 100\n",
    "            normalised_price_strength = price_strength\n",
    "            latest_breadth_ratio = breadth_data['breadth_ratio'].iloc[-1]\n",
    "            normalised_breadth = min(max(latest_breadth_ratio / 2, 0), 1)\n",
    "\n",
    "            # weights for each indicator\n",
    "            rsi_weight = 0.4\n",
    "            price_strength_weight = 0.3\n",
    "            breadth_weight = 0.3\n",
    "\n",
    "            # calculate the FG score\n",
    "            fear_greed_score = (\n",
    "                normalised_rsi * rsi_weight +\n",
    "                normalised_price_strength * price_strength_weight +\n",
    "                normalised_breadth * breadth_weight\n",
    "            )\n",
    "\n",
    "            fear_greed_scores_dict[ticker] = fear_greed_score\n",
    "\n",
    "        except Exception as error:\n",
    "            print(f\"An error has occured for {ticker}: {error}\")\n",
    "            fear_greed_scores_dict[ticker] = None\n",
    "\n",
    "    return fear_greed_scores_dict\n",
    "\n",
    "# Relative Strength Index (RSI)\n",
    "def calculate_stock_rsi(tickers, period=14, start_date=\"2023-01-01\", end_date=\"2024-01-01\"):\n",
    "    rsi_dict = {}\n",
    "    \n",
    "    for ticker in tickers:\n",
    "        stock_data = yf.download(ticker, start=start_date, end=end_date)\n",
    "        stock_data['Change'] = stock_data['Close'].diff()\n",
    "        stock_data['Gain'] = np.where(stock_data['Change'] > 0, stock_data['Change'], 0)\n",
    "        stock_data['Loss'] = np.where(stock_data['Change'] < 0, -stock_data['Change'], 0)\n",
    "\n",
    "        stock_data['Avg_Gain'] = stock_data['Gain'].rolling(window=period, min_periods=1).mean()\n",
    "        stock_data['Avg_Loss'] = stock_data['Loss'].rolling(window=period, min_periods=1).mean()\n",
    "\n",
    "        stock_data['RS'] = stock_data['Avg_Gain'] / stock_data['Avg_Loss']\n",
    "        stock_data['RSI'] = 100 - (100 / (1 + stock_data['RS']))\n",
    "\n",
    "        rsi_dict[ticker] = stock_data[['Close', 'RSI']].dropna()\n",
    "    \n",
    "    return rsi_dict\n",
    "\n",
    "def calculate_stock_price_strength(ticker):\n",
    "    stock_data = yf.Ticker(ticker)\n",
    "    stock_history = stock_data.history(period=\"1y\")\n",
    "\n",
    "    high = stock_history['Close'].max()\n",
    "    low = stock_history['Close'].min()\n",
    "    current_price = stock_history['Close'].iloc[-1]\n",
    "\n",
    "    proximity_to_high = (current_price - low) / (high - low)\n",
    "    return proximity_to_high, high, low, current_price\n",
    "\n",
    "def calculate_stock_price_breadth(ticker, start, end):\n",
    "    close_data = data['Close']\n",
    "    volume_data = yf.download(ticker, start=start, end=end)['Volume']\n",
    "\n",
    "    price_change = data.pct_change().fillna(0)\n",
    "    results = pd.DataFrame(index=data.index)\n",
    "\n",
    "    results['rising_volume'] = np.where(price_change > 0, volume_data, 0)\n",
    "    results['declining_volume'] = np.where(price_change < 0, volume_data, 0)\n",
    "\n",
    "    results['breadth_ratio'] = results['rising_volume'].sum() / results['declining_volume'].sum()\n",
    "    return results\n",
    "\n",
    "    # Example usage:\n",
    "    # fear_greed_scores = get_fear_greed(all_tickers, start_date='2023-01-01', end_date='2024-01-01')\n",
    "    # plot_fear_greed_scores(fear_greed_scores)\n",
    "\n",
    "# fear_greed_scores = get_fear_greed(tickers, start_date='2023-01-01', end_date='2024-01-01')\n",
    "# print(fear_greed_scores) # 0-1, higher score is greedier\n",
    "\n",
    "# def calculate_put_call_ratio():\n",
    "# High Put-Call Ratio is Bearish\n",
    "# Low Put-Cal Ratio is Bullish"
   ]
  },
  {
   "cell_type": "code",
   "execution_count": null,
   "metadata": {},
   "outputs": [
    {
     "ename": "TypeError",
     "evalue": "'Axes' object is not iterable",
     "output_type": "error",
     "traceback": [
      "\u001b[1;31m---------------------------------------------------------------------------\u001b[0m",
      "\u001b[1;31mTypeError\u001b[0m                                 Traceback (most recent call last)",
      "Cell \u001b[1;32mIn[50], line 61\u001b[0m\n\u001b[0;32m     57\u001b[0m     plt\u001b[38;5;241m.\u001b[39mshow()\n\u001b[0;32m     59\u001b[0m \u001b[38;5;66;03m# plot_stock_rsi(tickers)\u001b[39;00m\n\u001b[0;32m     60\u001b[0m \u001b[38;5;66;03m# plot_stock_price_strength(tickers)\u001b[39;00m\n\u001b[1;32m---> 61\u001b[0m \u001b[43mplot_stock_price_breadth\u001b[49m\u001b[43m(\u001b[49m\u001b[43mtickers\u001b[49m\u001b[43m)\u001b[49m\n",
      "Cell \u001b[1;32mIn[50], line 46\u001b[0m, in \u001b[0;36mplot_stock_price_breadth\u001b[1;34m(tickers)\u001b[0m\n\u001b[0;32m     43\u001b[0m fig, axes \u001b[38;5;241m=\u001b[39m plt\u001b[38;5;241m.\u001b[39msubplots(nrows\u001b[38;5;241m=\u001b[39m\u001b[38;5;28mlen\u001b[39m(tickers), ncols\u001b[38;5;241m=\u001b[39m\u001b[38;5;241m1\u001b[39m, figsize\u001b[38;5;241m=\u001b[39m(\u001b[38;5;241m14\u001b[39m, \u001b[38;5;241m20\u001b[39m), sharex\u001b[38;5;241m=\u001b[39m\u001b[38;5;28;01mTrue\u001b[39;00m)\n\u001b[0;32m     44\u001b[0m fig\u001b[38;5;241m.\u001b[39msuptitle(\u001b[38;5;124m'\u001b[39m\u001b[38;5;124mStock Price Breadth for All Tickers\u001b[39m\u001b[38;5;124m'\u001b[39m, fontsize\u001b[38;5;241m=\u001b[39m\u001b[38;5;241m16\u001b[39m)\n\u001b[1;32m---> 46\u001b[0m \u001b[38;5;28;01mfor\u001b[39;00m ax, ticker \u001b[38;5;129;01min\u001b[39;00m \u001b[38;5;28;43mzip\u001b[39;49m\u001b[43m(\u001b[49m\u001b[43maxes\u001b[49m\u001b[43m,\u001b[49m\u001b[43m \u001b[49m\u001b[43mtickers\u001b[49m\u001b[43m)\u001b[49m:\n\u001b[0;32m     47\u001b[0m     breadth_data \u001b[38;5;241m=\u001b[39m calculate_stock_price_breadth(ticker, start\u001b[38;5;241m=\u001b[39mstart_date, end\u001b[38;5;241m=\u001b[39mend_date)\n\u001b[0;32m     48\u001b[0m     ax\u001b[38;5;241m.\u001b[39mplot(breadth_data\u001b[38;5;241m.\u001b[39mindex, breadth_data[\u001b[38;5;124m'\u001b[39m\u001b[38;5;124mbreadth_ratio\u001b[39m\u001b[38;5;124m'\u001b[39m], label\u001b[38;5;241m=\u001b[39mticker)\n",
      "\u001b[1;31mTypeError\u001b[0m: 'Axes' object is not iterable"
     ]
    },
    {
     "data": {
      "image/png": "[encoded data removed]",
      "text/plain": [
       "<Figure size 1400x2000 with 1 Axes>"
      ]
     },
     "metadata": {},
     "output_type": "display_data"
    }
   ],
   "source": [
    "def plot_stock_rsi(ticker: str, start_date: str = \"2023-01-01\", end_date: str = \"2024-01-01\"):\n",
    "    fig, axes = plt.subplots(nrows=7, ncols=1, figsize=(14, 20), sharex=True)\n",
    "    fig.suptitle('Relative Strength Index (RSI)')\n",
    "\n",
    "    for ax, ticker in zip(axes, tickers):\n",
    "        ax.plot(rsi[ticker].index, rsi[ticker]['RSI'], label=ticker)\n",
    "        ax.axhline(70, color='red', linestyle='--', label='Overbought (70)')\n",
    "        ax.axhline(30, color='green', linestyle='--', label='Oversold (30)')\n",
    "        ax.set_title(ticker)\n",
    "        ax.set_ylabel('RSI')\n",
    "        ax.legend(loc='upper left')\n",
    "        ax.grid(True)\n",
    "\n",
    "    axes[-1].set_xlabel('Date')\n",
    "    plt.tight_layout(rect=[0, 0, 1, 0.96])\n",
    "    plt.show()\n",
    "\n",
    "def plot_stock_price_strength(tickers: list):\n",
    "    fig, axes = plt.subplots(nrows=len(tickers), ncols=1, figsize=(14, 20), sharex=True)\n",
    "    fig.suptitle('Stock Price Strength')\n",
    "\n",
    "    for ax, ticker in zip(axes, tickers):\n",
    "        proximity_to_high, high, low, current_price = calculate_stock_price_strength(ticker)\n",
    "\n",
    "        stock_data = yf.Ticker(ticker)\n",
    "        stock_history = stock_data.history(period=\"1y\")\n",
    "\n",
    "        ax.plot(stock_history.index, stock_history['Close'], label='Close price', color='blue')\n",
    "        ax.axhline(high, color='red', linestyle='--', label='52 week high')\n",
    "        ax.axhline(low, color='green', linestyle='--', label='52 week low')\n",
    "        ax.scatter(stock_history.index[-1], current_price, color='purple', label=f'Current Price (Proximity: {proximity_to_high:.2f})')\n",
    "\n",
    "        ax.set_title(ticker)\n",
    "        ax.set_ylabel('Price')\n",
    "        ax.legend(loc='upper left')\n",
    "        ax.grid(True)\n",
    "\n",
    "    axes[-1].set_xlabel('Date')\n",
    "    plt.tight_layout(rect=[0, 0, 1, 0.96])\n",
    "    plt.show()\n",
    "\n",
    "def plot_stock_price_breadth(tickers: list):\n",
    "    fig, axes = plt.subplots(nrows=len(tickers), ncols=1, figsize=(14, 20), sharex=True)\n",
    "    fig.suptitle('Stock Price Breadth')\n",
    "\n",
    "    for ax, ticker in zip(axes, tickers):\n",
    "        breadth_data = calculate_stock_price_breadth(ticker, start=start_date, end=end_date)\n",
    "        ax.plot(breadth_data.index, breadth_data['breadth_ratio'], label=ticker)\n",
    "        ax.axhline(1, color='red', linestyle='--', label='Neutral (1)')\n",
    "        ax.set_title(ticker)\n",
    "        ax.set_ylabel('Breadth Ratio')\n",
    "        ax.legend(loc='upper left')\n",
    "        ax.grid(True)\n",
    "\n",
    "    axes[-1].set_xlabel('Date')\n",
    "    plt.tight_layout(rect=[0, 0, 1, 0.96])\n",
    "    plt.show()\n",
    "\n",
    "# plot_stock_rsi(tickers)\n",
    "# plot_stock_price_strength(tickers)\n",
    "plot_stock_price_breadth(tickers)"
   ]
  },
  {
   "cell_type": "markdown",
   "metadata": {},
   "source": [
    "### Convert to Views"
   ]
  },
  {
   "cell_type": "code",
   "execution_count": null,
   "metadata": {},
   "outputs": [],
   "source": [
    "# convert FG score into views\n",
    "bullish_threshold = 70\n",
    "bearish_threshold = 30\n",
    "\n",
    "fg_based_views = []\n",
    "fg_based_confidences = []\n",
    "\n",
    "for i, stock in enumerate(tickers):\n",
    "    stock_score = get_fear_greed(tickers)\n",
    "\n",
    "    if stock_score > bullish_threshold:\n",
    "        view_returns = 0.02 + (stock_score - bullish_threshold) * 0.0001\n",
    "    elif stock_score < bearish_threshold:\n",
    "        view_returns = -0.02 + (bearish_threshold - stock_score) * 0.0001\n",
    "    else:\n",
    "        view_returns = 0.0 # neutral score if not bullish or bearish\n",
    "\n",
    "    fg_based_views.append(view_returns)\n",
    "\n",
    "    confidence = abs(stock_score - 50) / 100\n",
    "    fg_based_confidences.append(confidence)\n",
    "\n",
    "    views = np.array(fg_based_views)\n",
    "    confidences = np.array(fg_based_confidences)\n",
    "\n",
    "def run_black_litterman(returns, fg_based_views, fg_based_confidences):\n",
    "    adjusted_bl_views = returns + fg_based_views * fg_based_confidences\n",
    "    \n",
    "    return adjusted_bl_views\n",
    "\n",
    "adjusted_returns = black_litterman(prior, fg_based_views, fg_based_confidences)\n",
    "\n",
    "results = pd.DataFrame({\n",
    "    'Stock': tickers,\n",
    "    'Equilibrium Return': prior,\n",
    "    'View Return': views,\n",
    "    'Confidence': confidences,\n",
    "    'Adjusted Return': adjusted_returns\n",
    "})\n",
    "\n",
    "print(results)"
   ]
  },
  {
   "cell_type": "code",
   "execution_count": null,
   "metadata": {},
   "outputs": [],
   "source": [
    "generated_view_dict = {\"TSLA\": 0.04, \"NVDA\": 0.08, \"AMZN\": 0.03, \"META\": 0.02, \"MSFT\": 0.04, \"AAPL\": 0.05, \"AMD\": 0.07} # Absolute views\n",
    "adjusted_view_confidences = [0.3, 0.9, 0.4, 0.5, 0.2, 0.6, 0.7, 0.8]"
   ]
  },
  {
   "cell_type": "code",
   "execution_count": null,
   "metadata": {},
   "outputs": [],
   "source": [
    "fear_greed_bl = BlackLittermanModel(\n",
    "    covariance_matrix, \n",
    "    pi=prior, \n",
    "    absolute_views=view_dict, \n",
    "    view_confidences=\n",
    "    view_confidences\n",
    ")\n",
    "\n",
    "fear_greed_returns = fear_greed_bl.bl_returns()\n",
    "fear_greed_returns"
   ]
  }
 ],
 "metadata": {
  "kernelspec": {
   "display_name": "env",
   "language": "python",
   "name": "python3"
  },
  "language_info": {
   "codemirror_mode": {
    "name": "ipython",
    "version": 3
   },
   "file_extension": ".py",
   "mimetype": "text/x-python",
   "name": "python",
   "nbconvert_exporter": "python",
   "pygments_lexer": "ipython3",
   "version": "3.10.11"
  }
 },
 "nbformat": 4,
 "nbformat_minor": 2
}
