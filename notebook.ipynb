{
 "cells": [
  {
   "cell_type": "code",
   "execution_count": null,
   "metadata": {},
   "outputs": [],
   "source": [
    "import numpy as np\n",
    "import pandas as pd\n",
    "import scipy as sp\n",
    "import yfinance as yf\n",
    "# import pypfopt \n",
    "# import matplotlib.pyplot as plt\n",
    "# from statsmodels.tsa.regime_switching.markov_regression import MarkovRegression\n",
    "\n",
    "# from pypfopt import black_litterman, plotting, objective_functions, risk_models\n",
    "# from pypfopt import BlackLittermanModel\n",
    "# from pypfopt.efficient_frontier import EfficientFrontier"
   ]
  },
  {
   "cell_type": "markdown",
   "metadata": {},
   "source": [
    "# Asset Universe and Market Caps"
   ]
  },
  {
   "cell_type": "code",
   "execution_count": null,
   "metadata": {},
   "outputs": [],
   "source": [
    "tickers = [\"TSLA\", \"NVDA\", \"AMZN\", \"META\", \"MSFT\", \"AAPL\", \"AMD\"] # Initial asset universe\n",
    "start_date = '2013-01-01'\n",
    "end_date = '2024-01-01'"
   ]
  },
  {
   "cell_type": "code",
   "execution_count": null,
   "metadata": {},
   "outputs": [
    {
     "name": "stderr",
     "output_type": "stream",
     "text": [
      "Exception in thread Thread-9 (_run_via_pool):\n",
      "Traceback (most recent call last):\n",
      "  File \"c:\\Users\\chana\\OneDrive\\Documents\\University of Liverpool\\Dissertation\\IT_Artifact\\Black_Litterman_Risk_Parity_Portfolio_Optimisation\\env\\lib\\site-packages\\yfinance\\multi.py\", line 268, in _download_one\n",
      "    data = Ticker(ticker).history(\n",
      "  File \"c:\\Users\\chana\\OneDrive\\Documents\\University of Liverpool\\Dissertation\\IT_Artifact\\Black_Litterman_Risk_Parity_Portfolio_Optimisation\\env\\lib\\site-packages\\yfinance\\utils.py\", line 104, in wrapper\n",
      "    result = func(*args, **kwargs)\n",
      "  File \"c:\\Users\\chana\\OneDrive\\Documents\\University of Liverpool\\Dissertation\\IT_Artifact\\Black_Litterman_Risk_Parity_Portfolio_Optimisation\\env\\lib\\site-packages\\yfinance\\base.py\", line 78, in history\n",
      "    return self._lazy_load_price_history().history(*args, **kwargs)\n",
      "  File \"c:\\Users\\chana\\OneDrive\\Documents\\University of Liverpool\\Dissertation\\IT_Artifact\\Black_Litterman_Risk_Parity_Portfolio_Optimisation\\env\\lib\\site-packages\\yfinance\\utils.py\", line 104, in wrapper\n",
      "    result = func(*args, **kwargs)\n",
      "  File \"c:\\Users\\chana\\OneDrive\\Documents\\University of Liverpool\\Dissertation\\IT_Artifact\\Black_Litterman_Risk_Parity_Portfolio_Optimisation\\env\\lib\\site-packages\\yfinance\\scrapers\\history.py\", line 250, in history\n",
      "    quotes = utils.parse_quotes(data[\"chart\"][\"result\"][0])\n",
      "  File \"c:\\Users\\chana\\OneDrive\\Documents\\University of Liverpool\\Dissertation\\IT_Artifact\\Black_Litterman_Risk_Parity_Portfolio_Optimisation\\env\\lib\\site-packages\\yfinance\\utils.py\", line 505, in parse_quotes\n",
      "    quotes = _pd.DataFrame({\"Open\": opens,\n",
      "  File \"c:\\Users\\chana\\OneDrive\\Documents\\University of Liverpool\\Dissertation\\IT_Artifact\\Black_Litterman_Risk_Parity_Portfolio_Optimisation\\env\\lib\\site-packages\\pandas\\core\\frame.py\", line 778, in __init__\n",
      "    mgr = dict_to_mgr(data, index, columns, dtype=dtype, copy=copy, typ=manager)\n",
      "  File \"c:\\Users\\chana\\OneDrive\\Documents\\University of Liverpool\\Dissertation\\IT_Artifact\\Black_Litterman_Risk_Parity_Portfolio_Optimisation\\env\\lib\\site-packages\\pandas\\core\\internals\\construction.py\", line 480, in dict_to_mgr\n",
      "    columns = Index(keys) if keys else default_index(0)\n",
      "  File \"c:\\Users\\chana\\OneDrive\\Documents\\University of Liverpool\\Dissertation\\IT_Artifact\\Black_Litterman_Risk_Parity_Portfolio_Optimisation\\env\\lib\\site-packages\\pandas\\core\\indexes\\base.py\", line 565, in __new__\n",
      "    arr = sanitize_array(data, None, dtype=dtype, copy=copy)\n",
      "  File \"c:\\Users\\chana\\OneDrive\\Documents\\University of Liverpool\\Dissertation\\IT_Artifact\\Black_Litterman_Risk_Parity_Portfolio_Optimisation\\env\\lib\\site-packages\\pandas\\core\\construction.py\", line 654, in sanitize_array\n",
      "    subarr = maybe_convert_platform(data)\n",
      "  File \"c:\\Users\\chana\\OneDrive\\Documents\\University of Liverpool\\Dissertation\\IT_Artifact\\Black_Litterman_Risk_Parity_Portfolio_Optimisation\\env\\lib\\site-packages\\pandas\\core\\dtypes\\cast.py\", line 138, in maybe_convert_platform\n",
      "    arr = lib.maybe_convert_objects(arr)\n",
      "  File \"lib.pyx\", line 2538, in pandas._libs.lib.maybe_convert_objects\n",
      "TypeError: Cannot convert numpy.ndarray to numpy.ndarray\n",
      "\n",
      "During handling of the above exception, another exception occurred:\n",
      "\n",
      "Traceback (most recent call last):\n",
      "  File \"C:\\Program Files\\WindowsApps\\PythonSoftwareFoundation.Python.3.10_3.10.3056.0_x64__qbz5n2kfra8p0\\lib\\threading.py\", line 1016, in _bootstrap_inner\n",
      "    self.run()\n",
      "  File \"c:\\Users\\chana\\OneDrive\\Documents\\University of Liverpool\\Dissertation\\IT_Artifact\\Black_Litterman_Risk_Parity_Portfolio_Optimisation\\env\\lib\\site-packages\\ipykernel\\ipkernel.py\", line 766, in run_closure\n",
      "    _threading_Thread_run(self)\n",
      "  File \"C:\\Program Files\\WindowsApps\\PythonSoftwareFoundation.Python.3.10_3.10.3056.0_x64__qbz5n2kfra8p0\\lib\\threading.py\", line 953, in run\n",
      "    self._target(*self._args, **self._kwargs)\n",
      "  File \"c:\\Users\\chana\\OneDrive\\Documents\\University of Liverpool\\Dissertation\\IT_Artifact\\Black_Litterman_Risk_Parity_Portfolio_Optimisation\\env\\lib\\site-packages\\multitasking\\__init__.py\", line 104, in _run_via_pool\n",
      "    return callee(*args, **kwargs)\n",
      "  File \"c:\\Users\\chana\\OneDrive\\Documents\\University of Liverpool\\Dissertation\\IT_Artifact\\Black_Litterman_Risk_Parity_Portfolio_Optimisation\\env\\lib\\site-packages\\yfinance\\multi.py\", line 254, in _download_one_threaded\n",
      "    _download_one(ticker, start, end, auto_adjust, back_adjust, repair,\n",
      "  File \"c:\\Users\\chana\\OneDrive\\Documents\\University of Liverpool\\Dissertation\\IT_Artifact\\Black_Litterman_Risk_Parity_Portfolio_Optimisation\\env\\lib\\site-packages\\yfinance\\multi.py\", line 278, in _download_one\n",
      "Exception in thread Thread-3 (_run_via_pool):\n",
      "Traceback (most recent call last):\n",
      "  File \"c:\\Users\\chana\\OneDrive\\Documents\\University of Liverpool\\Dissertation\\IT_Artifact\\Black_Litterman_Risk_Parity_Portfolio_Optimisation\\env\\lib\\site-packages\\yfinance\\multi.py\", line 268, in _download_one\n",
      "    shared._DFS[ticker.upper()] = utils.empty_df()\n",
      "  File \"c:\\Users\\chana\\OneDrive\\Documents\\University of Liverpool\\Dissertation\\IT_Artifact\\Black_Litterman_Risk_Parity_Portfolio_Optimisation\\env\\lib\\site-packages\\yfinance\\utils.py\", line 230, in empty_df\n",
      "    empty = _pd.DataFrame(index=index, data={\n",
      "  File \"c:\\Users\\chana\\OneDrive\\Documents\\University of Liverpool\\Dissertation\\IT_Artifact\\Black_Litterman_Risk_Parity_Portfolio_Optimisation\\env\\lib\\site-packages\\pandas\\core\\frame.py\", line 778, in __init__\n",
      "    data = Ticker(ticker).history(\n",
      "  File \"c:\\Users\\chana\\OneDrive\\Documents\\University of Liverpool\\Dissertation\\IT_Artifact\\Black_Litterman_Risk_Parity_Portfolio_Optimisation\\env\\lib\\site-packages\\yfinance\\utils.py\", line 104, in wrapper\n",
      "    mgr = dict_to_mgr(data, index, columns, dtype=dtype, copy=copy, typ=manager)\n",
      "  File \"c:\\Users\\chana\\OneDrive\\Documents\\University of Liverpool\\Dissertation\\IT_Artifact\\Black_Litterman_Risk_Parity_Portfolio_Optimisation\\env\\lib\\site-packages\\pandas\\core\\internals\\construction.py\", line 480, in dict_to_mgr\n",
      "    result = func(*args, **kwargs)\n",
      "  File \"c:\\Users\\chana\\OneDrive\\Documents\\University of Liverpool\\Dissertation\\IT_Artifact\\Black_Litterman_Risk_Parity_Portfolio_Optimisation\\env\\lib\\site-packages\\yfinance\\base.py\", line 78, in history\n",
      "Exception in thread Thread-8 (_run_via_pool):\n",
      "Traceback (most recent call last):\n",
      "  File \"c:\\Users\\chana\\OneDrive\\Documents\\University of Liverpool\\Dissertation\\IT_Artifact\\Black_Litterman_Risk_Parity_Portfolio_Optimisation\\env\\lib\\site-packages\\yfinance\\multi.py\", line 268, in _download_one\n",
      "    columns = Index(keys) if keys else default_index(0)\n",
      "  File \"c:\\Users\\chana\\OneDrive\\Documents\\University of Liverpool\\Dissertation\\IT_Artifact\\Black_Litterman_Risk_Parity_Portfolio_Optimisation\\env\\lib\\site-packages\\pandas\\core\\indexes\\base.py\", line 565, in __new__\n",
      "    return self._lazy_load_price_history().history(*args, **kwargs)\n",
      "  File \"c:\\Users\\chana\\OneDrive\\Documents\\University of Liverpool\\Dissertation\\IT_Artifact\\Black_Litterman_Risk_Parity_Portfolio_Optimisation\\env\\lib\\site-packages\\yfinance\\utils.py\", line 104, in wrapper\n",
      "    arr = sanitize_array(data, None, dtype=dtype, copy=copy)\n",
      "  File \"c:\\Users\\chana\\OneDrive\\Documents\\University of Liverpool\\Dissertation\\IT_Artifact\\Black_Litterman_Risk_Parity_Portfolio_Optimisation\\env\\lib\\site-packages\\pandas\\core\\construction.py\", line 654, in sanitize_array\n",
      "    data = Ticker(ticker).history(\n",
      "  File \"c:\\Users\\chana\\OneDrive\\Documents\\University of Liverpool\\Dissertation\\IT_Artifact\\Black_Litterman_Risk_Parity_Portfolio_Optimisation\\env\\lib\\site-packages\\yfinance\\utils.py\", line 104, in wrapper\n",
      "    result = func(*args, **kwargs)\n",
      "  File \"c:\\Users\\chana\\OneDrive\\Documents\\University of Liverpool\\Dissertation\\IT_Artifact\\Black_Litterman_Risk_Parity_Portfolio_Optimisation\\env\\lib\\site-packages\\yfinance\\scrapers\\history.py\", line 250, in history\n",
      "    subarr = maybe_convert_platform(data)\n",
      "  File \"c:\\Users\\chana\\OneDrive\\Documents\\University of Liverpool\\Dissertation\\IT_Artifact\\Black_Litterman_Risk_Parity_Portfolio_Optimisation\\env\\lib\\site-packages\\pandas\\core\\dtypes\\cast.py\", line 138, in maybe_convert_platform\n",
      "    result = func(*args, **kwargs)\n",
      "  File \"c:\\Users\\chana\\OneDrive\\Documents\\University of Liverpool\\Dissertation\\IT_Artifact\\Black_Litterman_Risk_Parity_Portfolio_Optimisation\\env\\lib\\site-packages\\yfinance\\base.py\", line 78, in history\n",
      "    quotes = utils.parse_quotes(data[\"chart\"][\"result\"][0])\n",
      "  File \"c:\\Users\\chana\\OneDrive\\Documents\\University of Liverpool\\Dissertation\\IT_Artifact\\Black_Litterman_Risk_Parity_Portfolio_Optimisation\\env\\lib\\site-packages\\yfinance\\utils.py\", line 505, in parse_quotes\n",
      "    arr = lib.maybe_convert_objects(arr)\n",
      "  File \"lib.pyx\", line 2538, in pandas._libs.lib.maybe_convert_objects\n",
      "    quotes = _pd.DataFrame({\"Open\": opens,\n",
      "  File \"c:\\Users\\chana\\OneDrive\\Documents\\University of Liverpool\\Dissertation\\IT_Artifact\\Black_Litterman_Risk_Parity_Portfolio_Optimisation\\env\\lib\\site-packages\\pandas\\core\\frame.py\", line 778, in __init__\n",
      "    return self._lazy_load_price_history().history(*args, **kwargs)\n",
      "  File \"c:\\Users\\chana\\OneDrive\\Documents\\University of Liverpool\\Dissertation\\IT_Artifact\\Black_Litterman_Risk_Parity_Portfolio_Optimisation\\env\\lib\\site-packages\\yfinance\\utils.py\", line 104, in wrapper\n",
      "    mgr = dict_to_mgr(data, index, columns, dtype=dtype, copy=copy, typ=manager)\n",
      "  File \"c:\\Users\\chana\\OneDrive\\Documents\\University of Liverpool\\Dissertation\\IT_Artifact\\Black_Litterman_Risk_Parity_Portfolio_Optimisation\\env\\lib\\site-packages\\pandas\\core\\internals\\construction.py\", line 480, in dict_to_mgr\n",
      "    result = func(*args, **kwargs)\n",
      "  File \"c:\\Users\\chana\\OneDrive\\Documents\\University of Liverpool\\Dissertation\\IT_Artifact\\Black_Litterman_Risk_Parity_Portfolio_Optimisation\\env\\lib\\site-packages\\yfinance\\scrapers\\history.py\", line 250, in history\n",
      "    quotes = utils.parse_quotes(data[\"chart\"][\"result\"][0])\n",
      "  File \"c:\\Users\\chana\\OneDrive\\Documents\\University of Liverpool\\Dissertation\\IT_Artifact\\Black_Litterman_Risk_Parity_Portfolio_Optimisation\\env\\lib\\site-packages\\yfinance\\utils.py\", line 505, in parse_quotes\n",
      "    columns = Index(keys) if keys else default_index(0)\n",
      "  File \"c:\\Users\\chana\\OneDrive\\Documents\\University of Liverpool\\Dissertation\\IT_Artifact\\Black_Litterman_Risk_Parity_Portfolio_Optimisation\\env\\lib\\site-packages\\pandas\\core\\indexes\\base.py\", line 565, in __new__\n",
      "TypeError: Cannot convert numpy.ndarray to numpy.ndarray\n",
      "    quotes = _pd.DataFrame({\"Open\": opens,\n",
      "  File \"c:\\Users\\chana\\OneDrive\\Documents\\University of Liverpool\\Dissertation\\IT_Artifact\\Black_Litterman_Risk_Parity_Portfolio_Optimisation\\env\\lib\\site-packages\\pandas\\core\\frame.py\", line 778, in __init__\n",
      "    mgr = dict_to_mgr(data, index, columns, dtype=dtype, copy=copy, typ=manager)\n",
      "  File \"c:\\Users\\chana\\OneDrive\\Documents\\University of Liverpool\\Dissertation\\IT_Artifact\\Black_Litterman_Risk_Parity_Portfolio_Optimisation\\env\\lib\\site-packages\\pandas\\core\\internals\\construction.py\", line 480, in dict_to_mgr\n",
      "Exception in thread Thread-5 (_run_via_pool):\n",
      "Traceback (most recent call last):\n",
      "  File \"c:\\Users\\chana\\OneDrive\\Documents\\University of Liverpool\\Dissertation\\IT_Artifact\\Black_Litterman_Risk_Parity_Portfolio_Optimisation\\env\\lib\\site-packages\\yfinance\\multi.py\", line 268, in _download_one\n",
      "    data = Ticker(ticker).history(\n",
      "  File \"c:\\Users\\chana\\OneDrive\\Documents\\University of Liverpool\\Dissertation\\IT_Artifact\\Black_Litterman_Risk_Parity_Portfolio_Optimisation\\env\\lib\\site-packages\\yfinance\\utils.py\", line 104, in wrapper\n",
      "    columns = Index(keys) if keys else default_index(0)\n",
      "  File \"c:\\Users\\chana\\OneDrive\\Documents\\University of Liverpool\\Dissertation\\IT_Artifact\\Black_Litterman_Risk_Parity_Portfolio_Optimisation\\env\\lib\\site-packages\\pandas\\core\\indexes\\base.py\", line 565, in __new__\n",
      "    arr = sanitize_array(data, None, dtype=dtype, copy=copy)\n",
      "  File \"c:\\Users\\chana\\OneDrive\\Documents\\University of Liverpool\\Dissertation\\IT_Artifact\\Black_Litterman_Risk_Parity_Portfolio_Optimisation\\env\\lib\\site-packages\\pandas\\core\\construction.py\", line 654, in sanitize_array\n",
      "    arr = sanitize_array(data, None, dtype=dtype, copy=copy)\n",
      "  File \"c:\\Users\\chana\\OneDrive\\Documents\\University of Liverpool\\Dissertation\\IT_Artifact\\Black_Litterman_Risk_Parity_Portfolio_Optimisation\\env\\lib\\site-packages\\pandas\\core\\construction.py\", line 654, in sanitize_array\n",
      "    subarr = maybe_convert_platform(data)\n",
      "  File \"c:\\Users\\chana\\OneDrive\\Documents\\University of Liverpool\\Dissertation\\IT_Artifact\\Black_Litterman_Risk_Parity_Portfolio_Optimisation\\env\\lib\\site-packages\\pandas\\core\\dtypes\\cast.py\", line 138, in maybe_convert_platform\n",
      "    result = func(*args, **kwargs)\n",
      "  File \"c:\\Users\\chana\\OneDrive\\Documents\\University of Liverpool\\Dissertation\\IT_Artifact\\Black_Litterman_Risk_Parity_Portfolio_Optimisation\\env\\lib\\site-packages\\yfinance\\base.py\", line 78, in history\n",
      "    arr = lib.maybe_convert_objects(arr)\n",
      "  File \"lib.pyx\", line 2538, in pandas._libs.lib.maybe_convert_objects\n",
      "    subarr = maybe_convert_platform(data)\n",
      "  File \"c:\\Users\\chana\\OneDrive\\Documents\\University of Liverpool\\Dissertation\\IT_Artifact\\Black_Litterman_Risk_Parity_Portfolio_Optimisation\\env\\lib\\site-packages\\pandas\\core\\dtypes\\cast.py\", line 138, in maybe_convert_platform\n",
      "    return self._lazy_load_price_history().history(*args, **kwargs)\n",
      "  File \"c:\\Users\\chana\\OneDrive\\Documents\\University of Liverpool\\Dissertation\\IT_Artifact\\Black_Litterman_Risk_Parity_Portfolio_Optimisation\\env\\lib\\site-packages\\yfinance\\utils.py\", line 104, in wrapper\n",
      "Exception in thread Thread-6 (_run_via_pool):\n",
      "Traceback (most recent call last):\n",
      "  File \"c:\\Users\\chana\\OneDrive\\Documents\\University of Liverpool\\Dissertation\\IT_Artifact\\Black_Litterman_Risk_Parity_Portfolio_Optimisation\\env\\lib\\site-packages\\yfinance\\multi.py\", line 268, in _download_one\n",
      "    result = func(*args, **kwargs)\n",
      "  File \"c:\\Users\\chana\\OneDrive\\Documents\\University of Liverpool\\Dissertation\\IT_Artifact\\Black_Litterman_Risk_Parity_Portfolio_Optimisation\\env\\lib\\site-packages\\yfinance\\scrapers\\history.py\", line 250, in history\n",
      "Exception in thread Thread-7 (_run_via_pool):\n",
      "Traceback (most recent call last):\n",
      "  File \"c:\\Users\\chana\\OneDrive\\Documents\\University of Liverpool\\Dissertation\\IT_Artifact\\Black_Litterman_Risk_Parity_Portfolio_Optimisation\\env\\lib\\site-packages\\yfinance\\multi.py\", line 268, in _download_one\n",
      "    arr = lib.maybe_convert_objects(arr)\n",
      "  File \"lib.pyx\", line 2538, in pandas._libs.lib.maybe_convert_objects\n",
      "    data = Ticker(ticker).history(\n",
      "  File \"c:\\Users\\chana\\OneDrive\\Documents\\University of Liverpool\\Dissertation\\IT_Artifact\\Black_Litterman_Risk_Parity_Portfolio_Optimisation\\env\\lib\\site-packages\\yfinance\\utils.py\", line 104, in wrapper\n",
      "    data = Ticker(ticker).history(\n",
      "  File \"c:\\Users\\chana\\OneDrive\\Documents\\University of Liverpool\\Dissertation\\IT_Artifact\\Black_Litterman_Risk_Parity_Portfolio_Optimisation\\env\\lib\\site-packages\\yfinance\\utils.py\", line 104, in wrapper\n",
      "    result = func(*args, **kwargs)\n",
      "  File \"c:\\Users\\chana\\OneDrive\\Documents\\University of Liverpool\\Dissertation\\IT_Artifact\\Black_Litterman_Risk_Parity_Portfolio_Optimisation\\env\\lib\\site-packages\\yfinance\\base.py\", line 78, in history\n",
      "    quotes = utils.parse_quotes(data[\"chart\"][\"result\"][0])\n",
      "  File \"c:\\Users\\chana\\OneDrive\\Documents\\University of Liverpool\\Dissertation\\IT_Artifact\\Black_Litterman_Risk_Parity_Portfolio_Optimisation\\env\\lib\\site-packages\\yfinance\\utils.py\", line 505, in parse_quotes\n",
      "TypeError: Cannot convert numpy.ndarray to numpy.ndarray\n",
      "\n",
      "During handling of the above exception, another exception occurred:\n",
      "\n",
      "Traceback (most recent call last):\n",
      "  File \"C:\\Program Files\\WindowsApps\\PythonSoftwareFoundation.Python.3.10_3.10.3056.0_x64__qbz5n2kfra8p0\\lib\\threading.py\", line 1016, in _bootstrap_inner\n",
      "    result = func(*args, **kwargs)\n",
      "  File \"c:\\Users\\chana\\OneDrive\\Documents\\University of Liverpool\\Dissertation\\IT_Artifact\\Black_Litterman_Risk_Parity_Portfolio_Optimisation\\env\\lib\\site-packages\\yfinance\\base.py\", line 78, in history\n",
      "    quotes = _pd.DataFrame({\"Open\": opens,\n",
      "  File \"c:\\Users\\chana\\OneDrive\\Documents\\University of Liverpool\\Dissertation\\IT_Artifact\\Black_Litterman_Risk_Parity_Portfolio_Optimisation\\env\\lib\\site-packages\\pandas\\core\\frame.py\", line 778, in __init__\n",
      "    return self._lazy_load_price_history().history(*args, **kwargs)\n",
      "  File \"c:\\Users\\chana\\OneDrive\\Documents\\University of Liverpool\\Dissertation\\IT_Artifact\\Black_Litterman_Risk_Parity_Portfolio_Optimisation\\env\\lib\\site-packages\\yfinance\\utils.py\", line 104, in wrapper\n",
      "    self.run()\n",
      "  File \"c:\\Users\\chana\\OneDrive\\Documents\\University of Liverpool\\Dissertation\\IT_Artifact\\Black_Litterman_Risk_Parity_Portfolio_Optimisation\\env\\lib\\site-packages\\ipykernel\\ipkernel.py\", line 766, in run_closure\n",
      "TypeError: Cannot convert numpy.ndarray to numpy.ndarray\n",
      "\n",
      "During handling of the above exception, another exception occurred:\n",
      "\n",
      "Traceback (most recent call last):\n",
      "  File \"C:\\Program Files\\WindowsApps\\PythonSoftwareFoundation.Python.3.10_3.10.3056.0_x64__qbz5n2kfra8p0\\lib\\threading.py\", line 1016, in _bootstrap_inner\n",
      "    return self._lazy_load_price_history().history(*args, **kwargs)\n",
      "  File \"c:\\Users\\chana\\OneDrive\\Documents\\University of Liverpool\\Dissertation\\IT_Artifact\\Black_Litterman_Risk_Parity_Portfolio_Optimisation\\env\\lib\\site-packages\\yfinance\\utils.py\", line 104, in wrapper\n",
      "    mgr = dict_to_mgr(data, index, columns, dtype=dtype, copy=copy, typ=manager)\n",
      "  File \"c:\\Users\\chana\\OneDrive\\Documents\\University of Liverpool\\Dissertation\\IT_Artifact\\Black_Litterman_Risk_Parity_Portfolio_Optimisation\\env\\lib\\site-packages\\pandas\\core\\internals\\construction.py\", line 480, in dict_to_mgr\n",
      "    _threading_Thread_run(self)\n",
      "  File \"C:\\Program Files\\WindowsApps\\PythonSoftwareFoundation.Python.3.10_3.10.3056.0_x64__qbz5n2kfra8p0\\lib\\threading.py\", line 953, in run\n",
      "    result = func(*args, **kwargs)\n",
      "  File \"c:\\Users\\chana\\OneDrive\\Documents\\University of Liverpool\\Dissertation\\IT_Artifact\\Black_Litterman_Risk_Parity_Portfolio_Optimisation\\env\\lib\\site-packages\\yfinance\\scrapers\\history.py\", line 250, in history\n",
      "    self.run()\n",
      "  File \"c:\\Users\\chana\\OneDrive\\Documents\\University of Liverpool\\Dissertation\\IT_Artifact\\Black_Litterman_Risk_Parity_Portfolio_Optimisation\\env\\lib\\site-packages\\ipykernel\\ipkernel.py\", line 766, in run_closure\n",
      "    result = func(*args, **kwargs)\n",
      "  File \"c:\\Users\\chana\\OneDrive\\Documents\\University of Liverpool\\Dissertation\\IT_Artifact\\Black_Litterman_Risk_Parity_Portfolio_Optimisation\\env\\lib\\site-packages\\yfinance\\scrapers\\history.py\", line 250, in history\n",
      "    quotes = utils.parse_quotes(data[\"chart\"][\"result\"][0])\n",
      "  File \"c:\\Users\\chana\\OneDrive\\Documents\\University of Liverpool\\Dissertation\\IT_Artifact\\Black_Litterman_Risk_Parity_Portfolio_Optimisation\\env\\lib\\site-packages\\yfinance\\utils.py\", line 505, in parse_quotes\n",
      "    columns = Index(keys) if keys else default_index(0)\n",
      "  File \"c:\\Users\\chana\\OneDrive\\Documents\\University of Liverpool\\Dissertation\\IT_Artifact\\Black_Litterman_Risk_Parity_Portfolio_Optimisation\\env\\lib\\site-packages\\pandas\\core\\indexes\\base.py\", line 565, in __new__\n",
      "    _threading_Thread_run(self)\n",
      "  File \"C:\\Program Files\\WindowsApps\\PythonSoftwareFoundation.Python.3.10_3.10.3056.0_x64__qbz5n2kfra8p0\\lib\\threading.py\", line 953, in run\n",
      "    self._target(*self._args, **self._kwargs)\n",
      "  File \"c:\\Users\\chana\\OneDrive\\Documents\\University of Liverpool\\Dissertation\\IT_Artifact\\Black_Litterman_Risk_Parity_Portfolio_Optimisation\\env\\lib\\site-packages\\multitasking\\__init__.py\", line 104, in _run_via_pool\n",
      "    quotes = _pd.DataFrame({\"Open\": opens,\n",
      "  File \"c:\\Users\\chana\\OneDrive\\Documents\\University of Liverpool\\Dissertation\\IT_Artifact\\Black_Litterman_Risk_Parity_Portfolio_Optimisation\\env\\lib\\site-packages\\pandas\\core\\frame.py\", line 778, in __init__\n",
      "    quotes = utils.parse_quotes(data[\"chart\"][\"result\"][0])\n",
      "  File \"c:\\Users\\chana\\OneDrive\\Documents\\University of Liverpool\\Dissertation\\IT_Artifact\\Black_Litterman_Risk_Parity_Portfolio_Optimisation\\env\\lib\\site-packages\\yfinance\\utils.py\", line 505, in parse_quotes\n",
      "    mgr = dict_to_mgr(data, index, columns, dtype=dtype, copy=copy, typ=manager)\n",
      "  File \"c:\\Users\\chana\\OneDrive\\Documents\\University of Liverpool\\Dissertation\\IT_Artifact\\Black_Litterman_Risk_Parity_Portfolio_Optimisation\\env\\lib\\site-packages\\pandas\\core\\internals\\construction.py\", line 480, in dict_to_mgr\n",
      "    self._target(*self._args, **self._kwargs)\n",
      "  File \"c:\\Users\\chana\\OneDrive\\Documents\\University of Liverpool\\Dissertation\\IT_Artifact\\Black_Litterman_Risk_Parity_Portfolio_Optimisation\\env\\lib\\site-packages\\multitasking\\__init__.py\", line 104, in _run_via_pool\n",
      "    arr = sanitize_array(data, None, dtype=dtype, copy=copy)\n",
      "  File \"c:\\Users\\chana\\OneDrive\\Documents\\University of Liverpool\\Dissertation\\IT_Artifact\\Black_Litterman_Risk_Parity_Portfolio_Optimisation\\env\\lib\\site-packages\\pandas\\core\\construction.py\", line 654, in sanitize_array\n",
      "    columns = Index(keys) if keys else default_index(0)\n",
      "  File \"c:\\Users\\chana\\OneDrive\\Documents\\University of Liverpool\\Dissertation\\IT_Artifact\\Black_Litterman_Risk_Parity_Portfolio_Optimisation\\env\\lib\\site-packages\\pandas\\core\\indexes\\base.py\", line 565, in __new__\n",
      "    return callee(*args, **kwargs)\n",
      "  File \"c:\\Users\\chana\\OneDrive\\Documents\\University of Liverpool\\Dissertation\\IT_Artifact\\Black_Litterman_Risk_Parity_Portfolio_Optimisation\\env\\lib\\site-packages\\yfinance\\multi.py\", line 254, in _download_one_threaded\n",
      "    quotes = _pd.DataFrame({\"Open\": opens,\n",
      "  File \"c:\\Users\\chana\\OneDrive\\Documents\\University of Liverpool\\Dissertation\\IT_Artifact\\Black_Litterman_Risk_Parity_Portfolio_Optimisation\\env\\lib\\site-packages\\pandas\\core\\frame.py\", line 778, in __init__\n",
      "    return callee(*args, **kwargs)\n",
      "  File \"c:\\Users\\chana\\OneDrive\\Documents\\University of Liverpool\\Dissertation\\IT_Artifact\\Black_Litterman_Risk_Parity_Portfolio_Optimisation\\env\\lib\\site-packages\\yfinance\\multi.py\", line 254, in _download_one_threaded\n",
      "    subarr = maybe_convert_platform(data)\n",
      "  File \"c:\\Users\\chana\\OneDrive\\Documents\\University of Liverpool\\Dissertation\\IT_Artifact\\Black_Litterman_Risk_Parity_Portfolio_Optimisation\\env\\lib\\site-packages\\pandas\\core\\dtypes\\cast.py\", line 138, in maybe_convert_platform\n",
      "    arr = sanitize_array(data, None, dtype=dtype, copy=copy)\n",
      "  File \"c:\\Users\\chana\\OneDrive\\Documents\\University of Liverpool\\Dissertation\\IT_Artifact\\Black_Litterman_Risk_Parity_Portfolio_Optimisation\\env\\lib\\site-packages\\pandas\\core\\construction.py\", line 654, in sanitize_array\n",
      "    mgr = dict_to_mgr(data, index, columns, dtype=dtype, copy=copy, typ=manager)\n",
      "  File \"c:\\Users\\chana\\OneDrive\\Documents\\University of Liverpool\\Dissertation\\IT_Artifact\\Black_Litterman_Risk_Parity_Portfolio_Optimisation\\env\\lib\\site-packages\\pandas\\core\\internals\\construction.py\", line 480, in dict_to_mgr\n",
      "    _download_one(ticker, start, end, auto_adjust, back_adjust, repair,\n",
      "  File \"c:\\Users\\chana\\OneDrive\\Documents\\University of Liverpool\\Dissertation\\IT_Artifact\\Black_Litterman_Risk_Parity_Portfolio_Optimisation\\env\\lib\\site-packages\\yfinance\\multi.py\", line 278, in _download_one\n",
      "    _download_one(ticker, start, end, auto_adjust, back_adjust, repair,\n",
      "  File \"c:\\Users\\chana\\OneDrive\\Documents\\University of Liverpool\\Dissertation\\IT_Artifact\\Black_Litterman_Risk_Parity_Portfolio_Optimisation\\env\\lib\\site-packages\\yfinance\\multi.py\", line 278, in _download_one\n",
      "    arr = lib.maybe_convert_objects(arr)\n",
      "  File \"lib.pyx\", line 2538, in pandas._libs.lib.maybe_convert_objects\n",
      "    columns = Index(keys) if keys else default_index(0)\n",
      "  File \"c:\\Users\\chana\\OneDrive\\Documents\\University of Liverpool\\Dissertation\\IT_Artifact\\Black_Litterman_Risk_Parity_Portfolio_Optimisation\\env\\lib\\site-packages\\pandas\\core\\indexes\\base.py\", line 565, in __new__\n",
      "    shared._DFS[ticker.upper()] = utils.empty_df()\n",
      "  File \"c:\\Users\\chana\\OneDrive\\Documents\\University of Liverpool\\Dissertation\\IT_Artifact\\Black_Litterman_Risk_Parity_Portfolio_Optimisation\\env\\lib\\site-packages\\yfinance\\utils.py\", line 230, in empty_df\n",
      "    subarr = maybe_convert_platform(data)\n",
      "  File \"c:\\Users\\chana\\OneDrive\\Documents\\University of Liverpool\\Dissertation\\IT_Artifact\\Black_Litterman_Risk_Parity_Portfolio_Optimisation\\env\\lib\\site-packages\\pandas\\core\\dtypes\\cast.py\", line 138, in maybe_convert_platform\n",
      "    shared._DFS[ticker.upper()] = utils.empty_df()\n",
      "  File \"c:\\Users\\chana\\OneDrive\\Documents\\University of Liverpool\\Dissertation\\IT_Artifact\\Black_Litterman_Risk_Parity_Portfolio_Optimisation\\env\\lib\\site-packages\\yfinance\\utils.py\", line 230, in empty_df\n",
      "    arr = sanitize_array(data, None, dtype=dtype, copy=copy)\n",
      "  File \"c:\\Users\\chana\\OneDrive\\Documents\\University of Liverpool\\Dissertation\\IT_Artifact\\Black_Litterman_Risk_Parity_Portfolio_Optimisation\\env\\lib\\site-packages\\pandas\\core\\construction.py\", line 654, in sanitize_array\n",
      "    empty = _pd.DataFrame(index=index, data={\n",
      "  File \"c:\\Users\\chana\\OneDrive\\Documents\\University of Liverpool\\Dissertation\\IT_Artifact\\Black_Litterman_Risk_Parity_Portfolio_Optimisation\\env\\lib\\site-packages\\pandas\\core\\frame.py\", line 778, in __init__\n",
      "    arr = lib.maybe_convert_objects(arr)\n",
      "  File \"lib.pyx\", line 2538, in pandas._libs.lib.maybe_convert_objects\n",
      "    empty = _pd.DataFrame(index=index, data={\n",
      "  File \"c:\\Users\\chana\\OneDrive\\Documents\\University of Liverpool\\Dissertation\\IT_Artifact\\Black_Litterman_Risk_Parity_Portfolio_Optimisation\\env\\lib\\site-packages\\pandas\\core\\frame.py\", line 778, in __init__\n",
      "    mgr = dict_to_mgr(data, index, columns, dtype=dtype, copy=copy, typ=manager)\n",
      "  File \"c:\\Users\\chana\\OneDrive\\Documents\\University of Liverpool\\Dissertation\\IT_Artifact\\Black_Litterman_Risk_Parity_Portfolio_Optimisation\\env\\lib\\site-packages\\pandas\\core\\internals\\construction.py\", line 480, in dict_to_mgr\n",
      "    mgr = dict_to_mgr(data, index, columns, dtype=dtype, copy=copy, typ=manager)\n",
      "  File \"c:\\Users\\chana\\OneDrive\\Documents\\University of Liverpool\\Dissertation\\IT_Artifact\\Black_Litterman_Risk_Parity_Portfolio_Optimisation\\env\\lib\\site-packages\\pandas\\core\\internals\\construction.py\", line 480, in dict_to_mgr\n",
      "    subarr = maybe_convert_platform(data)\n",
      "  File \"c:\\Users\\chana\\OneDrive\\Documents\\University of Liverpool\\Dissertation\\IT_Artifact\\Black_Litterman_Risk_Parity_Portfolio_Optimisation\\env\\lib\\site-packages\\pandas\\core\\dtypes\\cast.py\", line 138, in maybe_convert_platform\n",
      "    columns = Index(keys) if keys else default_index(0)\n",
      "  File \"c:\\Users\\chana\\OneDrive\\Documents\\University of Liverpool\\Dissertation\\IT_Artifact\\Black_Litterman_Risk_Parity_Portfolio_Optimisation\\env\\lib\\site-packages\\pandas\\core\\indexes\\base.py\", line 565, in __new__\n",
      "    arr = lib.maybe_convert_objects(arr)\n",
      "  File \"lib.pyx\", line 2538, in pandas._libs.lib.maybe_convert_objects\n",
      "    columns = Index(keys) if keys else default_index(0)\n",
      "  File \"c:\\Users\\chana\\OneDrive\\Documents\\University of Liverpool\\Dissertation\\IT_Artifact\\Black_Litterman_Risk_Parity_Portfolio_Optimisation\\env\\lib\\site-packages\\pandas\\core\\indexes\\base.py\", line 565, in __new__\n",
      "TypeError: Cannot convert numpy.ndarray to numpy.ndarray\n",
      "\n",
      "During handling of the above exception, another exception occurred:\n",
      "\n",
      "Traceback (most recent call last):\n",
      "  File \"C:\\Program Files\\WindowsApps\\PythonSoftwareFoundation.Python.3.10_3.10.3056.0_x64__qbz5n2kfra8p0\\lib\\threading.py\", line 1016, in _bootstrap_inner\n",
      "TypeError: Cannot convert numpy.ndarray to numpy.ndarray\n",
      "\n",
      "During handling of the above exception, another exception occurred:\n",
      "\n",
      "Traceback (most recent call last):\n",
      "  File \"C:\\Program Files\\WindowsApps\\PythonSoftwareFoundation.Python.3.10_3.10.3056.0_x64__qbz5n2kfra8p0\\lib\\threading.py\", line 1016, in _bootstrap_inner\n",
      "    arr = sanitize_array(data, None, dtype=dtype, copy=copy)\n",
      "  File \"c:\\Users\\chana\\OneDrive\\Documents\\University of Liverpool\\Dissertation\\IT_Artifact\\Black_Litterman_Risk_Parity_Portfolio_Optimisation\\env\\lib\\site-packages\\pandas\\core\\construction.py\", line 654, in sanitize_array\n",
      "    self.run()\n",
      "  File \"c:\\Users\\chana\\OneDrive\\Documents\\University of Liverpool\\Dissertation\\IT_Artifact\\Black_Litterman_Risk_Parity_Portfolio_Optimisation\\env\\lib\\site-packages\\ipykernel\\ipkernel.py\", line 766, in run_closure\n",
      "    subarr = maybe_convert_platform(data)\n",
      "  File \"c:\\Users\\chana\\OneDrive\\Documents\\University of Liverpool\\Dissertation\\IT_Artifact\\Black_Litterman_Risk_Parity_Portfolio_Optimisation\\env\\lib\\site-packages\\pandas\\core\\dtypes\\cast.py\", line 138, in maybe_convert_platform\n",
      "    arr = sanitize_array(data, None, dtype=dtype, copy=copy)\n",
      "  File \"c:\\Users\\chana\\OneDrive\\Documents\\University of Liverpool\\Dissertation\\IT_Artifact\\Black_Litterman_Risk_Parity_Portfolio_Optimisation\\env\\lib\\site-packages\\pandas\\core\\construction.py\", line 654, in sanitize_array\n",
      "    self.run()\n",
      "  File \"c:\\Users\\chana\\OneDrive\\Documents\\University of Liverpool\\Dissertation\\IT_Artifact\\Black_Litterman_Risk_Parity_Portfolio_Optimisation\\env\\lib\\site-packages\\ipykernel\\ipkernel.py\", line 766, in run_closure\n",
      "    arr = lib.maybe_convert_objects(arr)\n",
      "  File \"lib.pyx\", line 2538, in pandas._libs.lib.maybe_convert_objects\n",
      "    _threading_Thread_run(self)\n",
      "  File \"C:\\Program Files\\WindowsApps\\PythonSoftwareFoundation.Python.3.10_3.10.3056.0_x64__qbz5n2kfra8p0\\lib\\threading.py\", line 953, in run\n",
      "    subarr = maybe_convert_platform(data)\n",
      "  File \"c:\\Users\\chana\\OneDrive\\Documents\\University of Liverpool\\Dissertation\\IT_Artifact\\Black_Litterman_Risk_Parity_Portfolio_Optimisation\\env\\lib\\site-packages\\pandas\\core\\dtypes\\cast.py\", line 138, in maybe_convert_platform\n",
      "    _threading_Thread_run(self)\n",
      "  File \"C:\\Program Files\\WindowsApps\\PythonSoftwareFoundation.Python.3.10_3.10.3056.0_x64__qbz5n2kfra8p0\\lib\\threading.py\", line 953, in run\n",
      "TypeError: Cannot convert numpy.ndarray to numpy.ndarray\n",
      "\n",
      "During handling of the above exception, another exception occurred:\n",
      "\n",
      "Traceback (most recent call last):\n",
      "  File \"C:\\Program Files\\WindowsApps\\PythonSoftwareFoundation.Python.3.10_3.10.3056.0_x64__qbz5n2kfra8p0\\lib\\threading.py\", line 1016, in _bootstrap_inner\n",
      "    self._target(*self._args, **self._kwargs)\n",
      "  File \"c:\\Users\\chana\\OneDrive\\Documents\\University of Liverpool\\Dissertation\\IT_Artifact\\Black_Litterman_Risk_Parity_Portfolio_Optimisation\\env\\lib\\site-packages\\multitasking\\__init__.py\", line 104, in _run_via_pool\n",
      "    arr = lib.maybe_convert_objects(arr)\n",
      "  File \"lib.pyx\", line 2538, in pandas._libs.lib.maybe_convert_objects\n",
      "    return callee(*args, **kwargs)\n",
      "  File \"c:\\Users\\chana\\OneDrive\\Documents\\University of Liverpool\\Dissertation\\IT_Artifact\\Black_Litterman_Risk_Parity_Portfolio_Optimisation\\env\\lib\\site-packages\\yfinance\\multi.py\", line 254, in _download_one_threaded\n",
      "    self.run()\n",
      "  File \"c:\\Users\\chana\\OneDrive\\Documents\\University of Liverpool\\Dissertation\\IT_Artifact\\Black_Litterman_Risk_Parity_Portfolio_Optimisation\\env\\lib\\site-packages\\ipykernel\\ipkernel.py\", line 766, in run_closure\n",
      "    _download_one(ticker, start, end, auto_adjust, back_adjust, repair,\n",
      "  File \"c:\\Users\\chana\\OneDrive\\Documents\\University of Liverpool\\Dissertation\\IT_Artifact\\Black_Litterman_Risk_Parity_Portfolio_Optimisation\\env\\lib\\site-packages\\yfinance\\multi.py\", line 278, in _download_one\n",
      "TypeError: Cannot convert numpy.ndarray to numpy.ndarray\n",
      "    _threading_Thread_run(self)\n",
      "  File \"C:\\Program Files\\WindowsApps\\PythonSoftwareFoundation.Python.3.10_3.10.3056.0_x64__qbz5n2kfra8p0\\lib\\threading.py\", line 953, in run\n",
      "    self._target(*self._args, **self._kwargs)\n",
      "  File \"c:\\Users\\chana\\OneDrive\\Documents\\University of Liverpool\\Dissertation\\IT_Artifact\\Black_Litterman_Risk_Parity_Portfolio_Optimisation\\env\\lib\\site-packages\\multitasking\\__init__.py\", line 104, in _run_via_pool\n",
      "    shared._DFS[ticker.upper()] = utils.empty_df()\n",
      "  File \"c:\\Users\\chana\\OneDrive\\Documents\\University of Liverpool\\Dissertation\\IT_Artifact\\Black_Litterman_Risk_Parity_Portfolio_Optimisation\\env\\lib\\site-packages\\yfinance\\utils.py\", line 230, in empty_df\n",
      "    self._target(*self._args, **self._kwargs)\n",
      "  File \"c:\\Users\\chana\\OneDrive\\Documents\\University of Liverpool\\Dissertation\\IT_Artifact\\Black_Litterman_Risk_Parity_Portfolio_Optimisation\\env\\lib\\site-packages\\multitasking\\__init__.py\", line 104, in _run_via_pool\n",
      "TypeError: Cannot convert numpy.ndarray to numpy.ndarray\n",
      "    empty = _pd.DataFrame(index=index, data={\n",
      "  File \"c:\\Users\\chana\\OneDrive\\Documents\\University of Liverpool\\Dissertation\\IT_Artifact\\Black_Litterman_Risk_Parity_Portfolio_Optimisation\\env\\lib\\site-packages\\pandas\\core\\frame.py\", line 778, in __init__\n",
      "    return callee(*args, **kwargs)\n",
      "  File \"c:\\Users\\chana\\OneDrive\\Documents\\University of Liverpool\\Dissertation\\IT_Artifact\\Black_Litterman_Risk_Parity_Portfolio_Optimisation\\env\\lib\\site-packages\\yfinance\\multi.py\", line 254, in _download_one_threaded\n",
      "    mgr = dict_to_mgr(data, index, columns, dtype=dtype, copy=copy, typ=manager)\n",
      "  File \"c:\\Users\\chana\\OneDrive\\Documents\\University of Liverpool\\Dissertation\\IT_Artifact\\Black_Litterman_Risk_Parity_Portfolio_Optimisation\\env\\lib\\site-packages\\pandas\\core\\internals\\construction.py\", line 480, in dict_to_mgr\n",
      "    return callee(*args, **kwargs)\n",
      "  File \"c:\\Users\\chana\\OneDrive\\Documents\\University of Liverpool\\Dissertation\\IT_Artifact\\Black_Litterman_Risk_Parity_Portfolio_Optimisation\\env\\lib\\site-packages\\yfinance\\multi.py\", line 254, in _download_one_threaded\n",
      "    columns = Index(keys) if keys else default_index(0)\n",
      "  File \"c:\\Users\\chana\\OneDrive\\Documents\\University of Liverpool\\Dissertation\\IT_Artifact\\Black_Litterman_Risk_Parity_Portfolio_Optimisation\\env\\lib\\site-packages\\pandas\\core\\indexes\\base.py\", line 565, in __new__\n",
      "    _download_one(ticker, start, end, auto_adjust, back_adjust, repair,\n",
      "  File \"c:\\Users\\chana\\OneDrive\\Documents\\University of Liverpool\\Dissertation\\IT_Artifact\\Black_Litterman_Risk_Parity_Portfolio_Optimisation\\env\\lib\\site-packages\\yfinance\\multi.py\", line 278, in _download_one\n",
      "    _download_one(ticker, start, end, auto_adjust, back_adjust, repair,\n",
      "  File \"c:\\Users\\chana\\OneDrive\\Documents\\University of Liverpool\\Dissertation\\IT_Artifact\\Black_Litterman_Risk_Parity_Portfolio_Optimisation\\env\\lib\\site-packages\\yfinance\\multi.py\", line 278, in _download_one\n",
      "    shared._DFS[ticker.upper()] = utils.empty_df()\n",
      "  File \"c:\\Users\\chana\\OneDrive\\Documents\\University of Liverpool\\Dissertation\\IT_Artifact\\Black_Litterman_Risk_Parity_Portfolio_Optimisation\\env\\lib\\site-packages\\yfinance\\utils.py\", line 230, in empty_df\n",
      "    shared._DFS[ticker.upper()] = utils.empty_df()\n",
      "  File \"c:\\Users\\chana\\OneDrive\\Documents\\University of Liverpool\\Dissertation\\IT_Artifact\\Black_Litterman_Risk_Parity_Portfolio_Optimisation\\env\\lib\\site-packages\\yfinance\\utils.py\", line 230, in empty_df\n",
      "    arr = sanitize_array(data, None, dtype=dtype, copy=copy)\n",
      "  File \"c:\\Users\\chana\\OneDrive\\Documents\\University of Liverpool\\Dissertation\\IT_Artifact\\Black_Litterman_Risk_Parity_Portfolio_Optimisation\\env\\lib\\site-packages\\pandas\\core\\construction.py\", line 654, in sanitize_array\n",
      "    empty = _pd.DataFrame(index=index, data={\n",
      "  File \"c:\\Users\\chana\\OneDrive\\Documents\\University of Liverpool\\Dissertation\\IT_Artifact\\Black_Litterman_Risk_Parity_Portfolio_Optimisation\\env\\lib\\site-packages\\pandas\\core\\frame.py\", line 778, in __init__\n",
      "    empty = _pd.DataFrame(index=index, data={\n",
      "  File \"c:\\Users\\chana\\OneDrive\\Documents\\University of Liverpool\\Dissertation\\IT_Artifact\\Black_Litterman_Risk_Parity_Portfolio_Optimisation\\env\\lib\\site-packages\\pandas\\core\\frame.py\", line 778, in __init__\n",
      "    subarr = maybe_convert_platform(data)\n",
      "  File \"c:\\Users\\chana\\OneDrive\\Documents\\University of Liverpool\\Dissertation\\IT_Artifact\\Black_Litterman_Risk_Parity_Portfolio_Optimisation\\env\\lib\\site-packages\\pandas\\core\\dtypes\\cast.py\", line 138, in maybe_convert_platform\n",
      "    arr = lib.maybe_convert_objects(arr)\n",
      "  File \"lib.pyx\", line 2538, in pandas._libs.lib.maybe_convert_objects\n",
      "    mgr = dict_to_mgr(data, index, columns, dtype=dtype, copy=copy, typ=manager)\n",
      "  File \"c:\\Users\\chana\\OneDrive\\Documents\\University of Liverpool\\Dissertation\\IT_Artifact\\Black_Litterman_Risk_Parity_Portfolio_Optimisation\\env\\lib\\site-packages\\pandas\\core\\internals\\construction.py\", line 480, in dict_to_mgr\n",
      "    mgr = dict_to_mgr(data, index, columns, dtype=dtype, copy=copy, typ=manager)\n",
      "  File \"c:\\Users\\chana\\OneDrive\\Documents\\University of Liverpool\\Dissertation\\IT_Artifact\\Black_Litterman_Risk_Parity_Portfolio_Optimisation\\env\\lib\\site-packages\\pandas\\core\\internals\\construction.py\", line 480, in dict_to_mgr\n",
      "    columns = Index(keys) if keys else default_index(0)\n",
      "  File \"c:\\Users\\chana\\OneDrive\\Documents\\University of Liverpool\\Dissertation\\IT_Artifact\\Black_Litterman_Risk_Parity_Portfolio_Optimisation\\env\\lib\\site-packages\\pandas\\core\\indexes\\base.py\", line 565, in __new__\n",
      "    columns = Index(keys) if keys else default_index(0)\n",
      "  File \"c:\\Users\\chana\\OneDrive\\Documents\\University of Liverpool\\Dissertation\\IT_Artifact\\Black_Litterman_Risk_Parity_Portfolio_Optimisation\\env\\lib\\site-packages\\pandas\\core\\indexes\\base.py\", line 565, in __new__\n",
      "    arr = sanitize_array(data, None, dtype=dtype, copy=copy)\n",
      "  File \"c:\\Users\\chana\\OneDrive\\Documents\\University of Liverpool\\Dissertation\\IT_Artifact\\Black_Litterman_Risk_Parity_Portfolio_Optimisation\\env\\lib\\site-packages\\pandas\\core\\construction.py\", line 654, in sanitize_array\n",
      "    arr = sanitize_array(data, None, dtype=dtype, copy=copy)\n",
      "  File \"c:\\Users\\chana\\OneDrive\\Documents\\University of Liverpool\\Dissertation\\IT_Artifact\\Black_Litterman_Risk_Parity_Portfolio_Optimisation\\env\\lib\\site-packages\\pandas\\core\\construction.py\", line 654, in sanitize_array\n",
      "    subarr = maybe_convert_platform(data)\n",
      "  File \"c:\\Users\\chana\\OneDrive\\Documents\\University of Liverpool\\Dissertation\\IT_Artifact\\Black_Litterman_Risk_Parity_Portfolio_Optimisation\\env\\lib\\site-packages\\pandas\\core\\dtypes\\cast.py\", line 138, in maybe_convert_platform\n",
      "TypeError: Cannot convert numpy.ndarray to numpy.ndarray\n",
      "    subarr = maybe_convert_platform(data)\n",
      "  File \"c:\\Users\\chana\\OneDrive\\Documents\\University of Liverpool\\Dissertation\\IT_Artifact\\Black_Litterman_Risk_Parity_Portfolio_Optimisation\\env\\lib\\site-packages\\pandas\\core\\dtypes\\cast.py\", line 138, in maybe_convert_platform\n",
      "    arr = lib.maybe_convert_objects(arr)\n",
      "  File \"lib.pyx\", line 2538, in pandas._libs.lib.maybe_convert_objects\n",
      "    arr = lib.maybe_convert_objects(arr)\n",
      "  File \"lib.pyx\", line 2538, in pandas._libs.lib.maybe_convert_objects\n",
      "Exception in thread Thread-4 (_run_via_pool):\n",
      "Traceback (most recent call last):\n",
      "  File \"c:\\Users\\chana\\OneDrive\\Documents\\University of Liverpool\\Dissertation\\IT_Artifact\\Black_Litterman_Risk_Parity_Portfolio_Optimisation\\env\\lib\\site-packages\\yfinance\\multi.py\", line 268, in _download_one\n",
      "TypeError: Cannot convert numpy.ndarray to numpy.ndarray\n",
      "    data = Ticker(ticker).history(\n",
      "  File \"c:\\Users\\chana\\OneDrive\\Documents\\University of Liverpool\\Dissertation\\IT_Artifact\\Black_Litterman_Risk_Parity_Portfolio_Optimisation\\env\\lib\\site-packages\\yfinance\\utils.py\", line 104, in wrapper\n",
      "TypeError: Cannot convert numpy.ndarray to numpy.ndarray\n",
      "    result = func(*args, **kwargs)\n",
      "  File \"c:\\Users\\chana\\OneDrive\\Documents\\University of Liverpool\\Dissertation\\IT_Artifact\\Black_Litterman_Risk_Parity_Portfolio_Optimisation\\env\\lib\\site-packages\\yfinance\\base.py\", line 78, in history\n",
      "    return self._lazy_load_price_history().history(*args, **kwargs)\n",
      "  File \"c:\\Users\\chana\\OneDrive\\Documents\\University of Liverpool\\Dissertation\\IT_Artifact\\Black_Litterman_Risk_Parity_Portfolio_Optimisation\\env\\lib\\site-packages\\yfinance\\utils.py\", line 104, in wrapper\n",
      "    result = func(*args, **kwargs)\n",
      "  File \"c:\\Users\\chana\\OneDrive\\Documents\\University of Liverpool\\Dissertation\\IT_Artifact\\Black_Litterman_Risk_Parity_Portfolio_Optimisation\\env\\lib\\site-packages\\yfinance\\scrapers\\history.py\", line 250, in history\n",
      "    quotes = utils.parse_quotes(data[\"chart\"][\"result\"][0])\n",
      "  File \"c:\\Users\\chana\\OneDrive\\Documents\\University of Liverpool\\Dissertation\\IT_Artifact\\Black_Litterman_Risk_Parity_Portfolio_Optimisation\\env\\lib\\site-packages\\yfinance\\utils.py\", line 505, in parse_quotes\n",
      "    quotes = _pd.DataFrame({\"Open\": opens,\n",
      "  File \"c:\\Users\\chana\\OneDrive\\Documents\\University of Liverpool\\Dissertation\\IT_Artifact\\Black_Litterman_Risk_Parity_Portfolio_Optimisation\\env\\lib\\site-packages\\pandas\\core\\frame.py\", line 778, in __init__\n",
      "    mgr = dict_to_mgr(data, index, columns, dtype=dtype, copy=copy, typ=manager)\n",
      "  File \"c:\\Users\\chana\\OneDrive\\Documents\\University of Liverpool\\Dissertation\\IT_Artifact\\Black_Litterman_Risk_Parity_Portfolio_Optimisation\\env\\lib\\site-packages\\pandas\\core\\internals\\construction.py\", line 480, in dict_to_mgr\n",
      "    columns = Index(keys) if keys else default_index(0)\n",
      "  File \"c:\\Users\\chana\\OneDrive\\Documents\\University of Liverpool\\Dissertation\\IT_Artifact\\Black_Litterman_Risk_Parity_Portfolio_Optimisation\\env\\lib\\site-packages\\pandas\\core\\indexes\\base.py\", line 565, in __new__\n",
      "    arr = sanitize_array(data, None, dtype=dtype, copy=copy)\n",
      "  File \"c:\\Users\\chana\\OneDrive\\Documents\\University of Liverpool\\Dissertation\\IT_Artifact\\Black_Litterman_Risk_Parity_Portfolio_Optimisation\\env\\lib\\site-packages\\pandas\\core\\construction.py\", line 654, in sanitize_array\n",
      "    subarr = maybe_convert_platform(data)\n",
      "  File \"c:\\Users\\chana\\OneDrive\\Documents\\University of Liverpool\\Dissertation\\IT_Artifact\\Black_Litterman_Risk_Parity_Portfolio_Optimisation\\env\\lib\\site-packages\\pandas\\core\\dtypes\\cast.py\", line 138, in maybe_convert_platform\n",
      "    arr = lib.maybe_convert_objects(arr)\n",
      "  File \"lib.pyx\", line 2538, in pandas._libs.lib.maybe_convert_objects\n",
      "TypeError: Cannot convert numpy.ndarray to numpy.ndarray\n",
      "\n",
      "During handling of the above exception, another exception occurred:\n",
      "\n",
      "Traceback (most recent call last):\n",
      "  File \"C:\\Program Files\\WindowsApps\\PythonSoftwareFoundation.Python.3.10_3.10.3056.0_x64__qbz5n2kfra8p0\\lib\\threading.py\", line 1016, in _bootstrap_inner\n",
      "    self.run()\n",
      "  File \"c:\\Users\\chana\\OneDrive\\Documents\\University of Liverpool\\Dissertation\\IT_Artifact\\Black_Litterman_Risk_Parity_Portfolio_Optimisation\\env\\lib\\site-packages\\ipykernel\\ipkernel.py\", line 766, in run_closure\n",
      "    _threading_Thread_run(self)\n",
      "  File \"C:\\Program Files\\WindowsApps\\PythonSoftwareFoundation.Python.3.10_3.10.3056.0_x64__qbz5n2kfra8p0\\lib\\threading.py\", line 953, in run\n",
      "    self._target(*self._args, **self._kwargs)\n",
      "  File \"c:\\Users\\chana\\OneDrive\\Documents\\University of Liverpool\\Dissertation\\IT_Artifact\\Black_Litterman_Risk_Parity_Portfolio_Optimisation\\env\\lib\\site-packages\\multitasking\\__init__.py\", line 104, in _run_via_pool\n",
      "    return callee(*args, **kwargs)\n",
      "  File \"c:\\Users\\chana\\OneDrive\\Documents\\University of Liverpool\\Dissertation\\IT_Artifact\\Black_Litterman_Risk_Parity_Portfolio_Optimisation\\env\\lib\\site-packages\\yfinance\\multi.py\", line 254, in _download_one_threaded\n",
      "    _download_one(ticker, start, end, auto_adjust, back_adjust, repair,\n",
      "  File \"c:\\Users\\chana\\OneDrive\\Documents\\University of Liverpool\\Dissertation\\IT_Artifact\\Black_Litterman_Risk_Parity_Portfolio_Optimisation\\env\\lib\\site-packages\\yfinance\\multi.py\", line 278, in _download_one\n",
      "    shared._DFS[ticker.upper()] = utils.empty_df()\n",
      "  File \"c:\\Users\\chana\\OneDrive\\Documents\\University of Liverpool\\Dissertation\\IT_Artifact\\Black_Litterman_Risk_Parity_Portfolio_Optimisation\\env\\lib\\site-packages\\yfinance\\utils.py\", line 230, in empty_df\n",
      "    empty = _pd.DataFrame(index=index, data={\n",
      "  File \"c:\\Users\\chana\\OneDrive\\Documents\\University of Liverpool\\Dissertation\\IT_Artifact\\Black_Litterman_Risk_Parity_Portfolio_Optimisation\\env\\lib\\site-packages\\pandas\\core\\frame.py\", line 778, in __init__\n",
      "    mgr = dict_to_mgr(data, index, columns, dtype=dtype, copy=copy, typ=manager)\n",
      "  File \"c:\\Users\\chana\\OneDrive\\Documents\\University of Liverpool\\Dissertation\\IT_Artifact\\Black_Litterman_Risk_Parity_Portfolio_Optimisation\\env\\lib\\site-packages\\pandas\\core\\internals\\construction.py\", line 480, in dict_to_mgr\n",
      "    columns = Index(keys) if keys else default_index(0)\n",
      "  File \"c:\\Users\\chana\\OneDrive\\Documents\\University of Liverpool\\Dissertation\\IT_Artifact\\Black_Litterman_Risk_Parity_Portfolio_Optimisation\\env\\lib\\site-packages\\pandas\\core\\indexes\\base.py\", line 565, in __new__\n",
      "    arr = sanitize_array(data, None, dtype=dtype, copy=copy)\n",
      "  File \"c:\\Users\\chana\\OneDrive\\Documents\\University of Liverpool\\Dissertation\\IT_Artifact\\Black_Litterman_Risk_Parity_Portfolio_Optimisation\\env\\lib\\site-packages\\pandas\\core\\construction.py\", line 654, in sanitize_array\n",
      "    subarr = maybe_convert_platform(data)\n",
      "  File \"c:\\Users\\chana\\OneDrive\\Documents\\University of Liverpool\\Dissertation\\IT_Artifact\\Black_Litterman_Risk_Parity_Portfolio_Optimisation\\env\\lib\\site-packages\\pandas\\core\\dtypes\\cast.py\", line 138, in maybe_convert_platform\n",
      "    arr = lib.maybe_convert_objects(arr)\n",
      "  File \"lib.pyx\", line 2538, in pandas._libs.lib.maybe_convert_objects\n",
      "TypeError: Cannot convert numpy.ndarray to numpy.ndarray\n"
     ]
    },
    {
     "ename": "KeyboardInterrupt",
     "evalue": "",
     "output_type": "error",
     "traceback": [
      "\u001b[1;31m---------------------------------------------------------------------------\u001b[0m",
      "\u001b[1;31mKeyboardInterrupt\u001b[0m                         Traceback (most recent call last)",
      "Cell \u001b[1;32mIn[3], line 1\u001b[0m\n\u001b[1;32m----> 1\u001b[0m data \u001b[38;5;241m=\u001b[39m \u001b[43myf\u001b[49m\u001b[38;5;241;43m.\u001b[39;49m\u001b[43mdownload\u001b[49m\u001b[43m(\u001b[49m\u001b[43mtickers\u001b[49m\u001b[43m,\u001b[49m\u001b[43m \u001b[49m\u001b[43mstart\u001b[49m\u001b[38;5;241;43m=\u001b[39;49m\u001b[43mstart_date\u001b[49m\u001b[43m,\u001b[49m\u001b[43m \u001b[49m\u001b[43mend\u001b[49m\u001b[38;5;241;43m=\u001b[39;49m\u001b[43mend_date\u001b[49m\u001b[43m)\u001b[49m\n\u001b[0;32m      2\u001b[0m data\u001b[38;5;241m.\u001b[39mto_csv(\u001b[38;5;124m\"\u001b[39m\u001b[38;5;124m./Data/historical_data.csv\u001b[39m\u001b[38;5;124m\"\u001b[39m)\n\u001b[0;32m      4\u001b[0m closing_prices \u001b[38;5;241m=\u001b[39m data[\u001b[38;5;124m\"\u001b[39m\u001b[38;5;124mAdj Close\u001b[39m\u001b[38;5;124m\"\u001b[39m]\n",
      "File \u001b[1;32mc:\\Users\\chana\\OneDrive\\Documents\\University of Liverpool\\Dissertation\\IT_Artifact\\Black_Litterman_Risk_Parity_Portfolio_Optimisation\\env\\lib\\site-packages\\yfinance\\utils.py:104\u001b[0m, in \u001b[0;36mlog_indent_decorator.<locals>.wrapper\u001b[1;34m(*args, **kwargs)\u001b[0m\n\u001b[0;32m    101\u001b[0m logger\u001b[38;5;241m.\u001b[39mdebug(\u001b[38;5;124mf\u001b[39m\u001b[38;5;124m'\u001b[39m\u001b[38;5;124mEntering \u001b[39m\u001b[38;5;132;01m{\u001b[39;00mfunc\u001b[38;5;241m.\u001b[39m\u001b[38;5;18m__name__\u001b[39m\u001b[38;5;132;01m}\u001b[39;00m\u001b[38;5;124m()\u001b[39m\u001b[38;5;124m'\u001b[39m)\n\u001b[0;32m    103\u001b[0m \u001b[38;5;28;01mwith\u001b[39;00m IndentationContext():\n\u001b[1;32m--> 104\u001b[0m     result \u001b[38;5;241m=\u001b[39m func(\u001b[38;5;241m*\u001b[39margs, \u001b[38;5;241m*\u001b[39m\u001b[38;5;241m*\u001b[39mkwargs)\n\u001b[0;32m    106\u001b[0m logger\u001b[38;5;241m.\u001b[39mdebug(\u001b[38;5;124mf\u001b[39m\u001b[38;5;124m'\u001b[39m\u001b[38;5;124mExiting \u001b[39m\u001b[38;5;132;01m{\u001b[39;00mfunc\u001b[38;5;241m.\u001b[39m\u001b[38;5;18m__name__\u001b[39m\u001b[38;5;132;01m}\u001b[39;00m\u001b[38;5;124m()\u001b[39m\u001b[38;5;124m'\u001b[39m)\n\u001b[0;32m    107\u001b[0m \u001b[38;5;28;01mreturn\u001b[39;00m result\n",
      "File \u001b[1;32mc:\\Users\\chana\\OneDrive\\Documents\\University of Liverpool\\Dissertation\\IT_Artifact\\Black_Litterman_Risk_Parity_Portfolio_Optimisation\\env\\lib\\site-packages\\yfinance\\multi.py:152\u001b[0m, in \u001b[0;36mdownload\u001b[1;34m(tickers, start, end, actions, threads, ignore_tz, group_by, auto_adjust, back_adjust, repair, keepna, progress, period, interval, prepost, proxy, rounding, timeout, session)\u001b[0m\n\u001b[0;32m    145\u001b[0m         _download_one_threaded(ticker, period\u001b[38;5;241m=\u001b[39mperiod, interval\u001b[38;5;241m=\u001b[39minterval,\n\u001b[0;32m    146\u001b[0m                                start\u001b[38;5;241m=\u001b[39mstart, end\u001b[38;5;241m=\u001b[39mend, prepost\u001b[38;5;241m=\u001b[39mprepost,\n\u001b[0;32m    147\u001b[0m                                actions\u001b[38;5;241m=\u001b[39mactions, auto_adjust\u001b[38;5;241m=\u001b[39mauto_adjust,\n\u001b[0;32m    148\u001b[0m                                back_adjust\u001b[38;5;241m=\u001b[39mback_adjust, repair\u001b[38;5;241m=\u001b[39mrepair, keepna\u001b[38;5;241m=\u001b[39mkeepna,\n\u001b[0;32m    149\u001b[0m                                progress\u001b[38;5;241m=\u001b[39m(progress \u001b[38;5;129;01mand\u001b[39;00m i \u001b[38;5;241m>\u001b[39m \u001b[38;5;241m0\u001b[39m), proxy\u001b[38;5;241m=\u001b[39mproxy,\n\u001b[0;32m    150\u001b[0m                                rounding\u001b[38;5;241m=\u001b[39mrounding, timeout\u001b[38;5;241m=\u001b[39mtimeout)\n\u001b[0;32m    151\u001b[0m     \u001b[38;5;28;01mwhile\u001b[39;00m \u001b[38;5;28mlen\u001b[39m(shared\u001b[38;5;241m.\u001b[39m_DFS) \u001b[38;5;241m<\u001b[39m \u001b[38;5;28mlen\u001b[39m(tickers):\n\u001b[1;32m--> 152\u001b[0m         \u001b[43m_time\u001b[49m\u001b[38;5;241;43m.\u001b[39;49m\u001b[43msleep\u001b[49m\u001b[43m(\u001b[49m\u001b[38;5;241;43m0.01\u001b[39;49m\u001b[43m)\u001b[49m\n\u001b[0;32m    153\u001b[0m \u001b[38;5;66;03m# download synchronously\u001b[39;00m\n\u001b[0;32m    154\u001b[0m \u001b[38;5;28;01melse\u001b[39;00m:\n\u001b[0;32m    155\u001b[0m     \u001b[38;5;28;01mfor\u001b[39;00m i, ticker \u001b[38;5;129;01min\u001b[39;00m \u001b[38;5;28menumerate\u001b[39m(tickers):\n",
      "\u001b[1;31mKeyboardInterrupt\u001b[0m: "
     ]
    }
   ],
   "source": [
    "data = yf.download(tickers, start=start_date, end=end_date)\n",
    "data.to_csv(\"./Data/historical_data.csv\")\n",
    "\n",
    "closing_prices = data[\"Adj Close\"]\n",
    "\n",
    "returns = np.log(closing_prices / closing_prices.shift(1).dropna())\n",
    "\n",
    "def get_market_prices_and_caps(tickers, start_date, end_date):\n",
    "    # VOO is Vanguard S&P 500 ETF\n",
    "    market_prices = yf.download(\"VOO\", start=start_date, end=end_date)[\"Adj Close\"]\n",
    "    market_returns = np.log(market_prices / market_prices.shift(1)).dropna()\n",
    "\n",
    "    market_caps = {}\n",
    "    for ticker in tickers:\n",
    "        stock = yf.Ticker(ticker)\n",
    "        market_caps[ticker] = stock.info.get(\"marketCap\", None)  # Get market cap, with None if missing\n",
    "\n",
    "    return market_prices, market_caps, market_returns"
   ]
  },
  {
   "cell_type": "code",
   "execution_count": null,
   "metadata": {},
   "outputs": [
    {
     "ename": "NameError",
     "evalue": "name 'data' is not defined",
     "output_type": "error",
     "traceback": [
      "\u001b[1;31m---------------------------------------------------------------------------\u001b[0m",
      "\u001b[1;31mNameError\u001b[0m                                 Traceback (most recent call last)",
      "Cell \u001b[1;32mIn[6], line 1\u001b[0m\n\u001b[1;32m----> 1\u001b[0m \u001b[43mdata\u001b[49m\u001b[38;5;241m.\u001b[39mtail()\n",
      "\u001b[1;31mNameError\u001b[0m: name 'data' is not defined"
     ]
    }
   ],
   "source": [
    "data.tail()"
   ]
  },
  {
   "cell_type": "markdown",
   "metadata": {},
   "source": [
    "# Define Data for Markov-Switching"
   ]
  },
  {
   "cell_type": "code",
   "execution_count": null,
   "metadata": {},
   "outputs": [
    {
     "name": "stderr",
     "output_type": "stream",
     "text": [
      "[*********************100%***********************]  1 of 1 completed\n"
     ]
    },
    {
     "data": {
      "image/png": "[encoded data removed]",
      "text/plain": [
       "<Figure size 1000x600 with 1 Axes>"
      ]
     },
     "metadata": {},
     "output_type": "display_data"
    }
   ],
   "source": [
    "# Separate data for markov switching\n",
    "etf_data = yf.download('VOO', start=start_date, end=end_date)\n",
    "etf_data['Returns'] = np.log(etf_data['Close'] / etf_data['Close'].shift(1))\n",
    "etf_data = etf_data.dropna()\n",
    "etf_data.to_csv(\"./Data/VOO_data.csv\")\n",
    "\n",
    "def plot_log_returns(etf_data):\n",
    "    plt.figure(figsize=(10,6))\n",
    "    plt.plot(etf_data.index, etf_data['Returns'], label='Log Returns')\n",
    "    plt.title('Vanguard S&P 500 (VOO) Log Returns')\n",
    "    plt.xlabel('Date')\n",
    "    plt.ylabel('Log Returns')\n",
    "    plt.legend()\n",
    "    plt.show()\n",
    "\n",
    "plot_log_returns(etf_data)"
   ]
  },
  {
   "cell_type": "markdown",
   "metadata": {},
   "source": [
    "# Construct Regime Switching Model"
   ]
  },
  {
   "cell_type": "code",
   "execution_count": null,
   "metadata": {
    "tags": [
     "MS"
    ]
   },
   "outputs": [
    {
     "ename": "NameError",
     "evalue": "name 'etf_data' is not defined",
     "output_type": "error",
     "traceback": [
      "\u001b[1;31m---------------------------------------------------------------------------\u001b[0m",
      "\u001b[1;31mNameError\u001b[0m                                 Traceback (most recent call last)",
      "Cell \u001b[1;32mIn[1], line 8\u001b[0m\n\u001b[0;32m      4\u001b[0m     \u001b[38;5;28mprint\u001b[39m(results\u001b[38;5;241m.\u001b[39msummary())\n\u001b[0;32m      6\u001b[0m     \u001b[38;5;28;01mreturn\u001b[39;00m results, results\u001b[38;5;241m.\u001b[39msummary()\n\u001b[1;32m----> 8\u001b[0m results, summary \u001b[38;5;241m=\u001b[39m fit_markov_regression(\u001b[43metf_data\u001b[49m)\n\u001b[0;32m     10\u001b[0m \u001b[38;5;66;03m# To visalise when the market is in bull/bear periods. \u001b[39;00m\n\u001b[0;32m     11\u001b[0m \u001b[38;5;66;03m# Can see the likelihood of each one occuring using smoothed probabilities\u001b[39;00m\n\u001b[0;32m     12\u001b[0m \u001b[38;5;28;01mdef\u001b[39;00m \u001b[38;5;21mplot_regime_probabilities\u001b[39m(etf_data):\n",
      "\u001b[1;31mNameError\u001b[0m: name 'etf_data' is not defined"
     ]
    }
   ],
   "source": [
    "def fit_markov_regression(etf_data, k_regimes=2, switching_variance=True):\n",
    "    model = MarkovRegression(etf_data['Returns'], k_regimes=k_regimes, switching_variance=switching_variance)\n",
    "    results = model.fit()\n",
    "    print(results.summary())\n",
    "    \n",
    "    return results, results.summary()\n",
    "\n",
    "results, summary = fit_markov_regression(etf_data)\n",
    "\n",
    "# To visalise when the market is in bull/bear periods. \n",
    "# Can see the likelihood of each one occuring using smoothed probabilities\n",
    "def plot_regime_probabilities(etf_data):\n",
    "    fig, ax = plt.subplots(figsize=(10, 6))\n",
    "    ax.plot(etf_data. index, etf_data['Returns'], label='Log Returns', color='black')\n",
    "    \n",
    "    ax.fill_between(etf_data.index, 0, results.smoothed_marginal_probabilities[0], color='blue', alpha=0.3, label='Low Volatility Regime')\n",
    "    ax.fill_between(etf_data.index, 0, results.smoothed_marginal_probabilities[1], color='red', alpha=0.3, label='High Volatility Regime') # Any red sections show the market in high volatility period\n",
    "\n",
    "    ax.set_title('VOO Returns with Regime Probabilities')\n",
    "    ax.set_xlabel('Date')\n",
    "    ax.set_ylabel(\"Log Reuturns\")\n",
    "    ax.legend(loc='upper left')\n",
    "    plt.show()\n",
    "\n",
    "plot_regime_probabilities(etf_data)"
   ]
  },
  {
   "cell_type": "code",
   "execution_count": null,
   "metadata": {},
   "outputs": [
    {
     "name": "stderr",
     "output_type": "stream",
     "text": [
      "C:\\Users\\chana\\AppData\\Local\\Temp\\ipykernel_16996\\1356774314.py:1: SettingWithCopyWarning: \n",
      "A value is trying to be set on a copy of a slice from a DataFrame.\n",
      "Try using .loc[row_indexer,col_indexer] = value instead\n",
      "\n",
      "See the caveats in the documentation: https://pandas.pydata.org/pandas-docs/stable/user_guide/indexing.html#returning-a-view-versus-a-copy\n",
      "  etf_data['Regime_0_Prob'] = results.smoothed_marginal_probabilities[0]\n",
      "C:\\Users\\chana\\AppData\\Local\\Temp\\ipykernel_16996\\1356774314.py:2: SettingWithCopyWarning: \n",
      "A value is trying to be set on a copy of a slice from a DataFrame.\n",
      "Try using .loc[row_indexer,col_indexer] = value instead\n",
      "\n",
      "See the caveats in the documentation: https://pandas.pydata.org/pandas-docs/stable/user_guide/indexing.html#returning-a-view-versus-a-copy\n",
      "  etf_data['Regime_1_Prob'] = results.smoothed_marginal_probabilities[1]\n",
      "[*********************100%***********************]  7 of 7 completed\n"
     ]
    }
   ],
   "source": [
    "etf_data['Regime_0_Prob'] = results.smoothed_marginal_probabilities[0]\n",
    "etf_data['Regime_1_Prob'] = results.smoothed_marginal_probabilities[1]\n",
    "\n",
    "# Get individual asset data\n",
    "asset_data = yf.download(tickers, start=start_date, end=end_date)['Adj Close']\n",
    "asset_returns = np.log(asset_data / asset_data.shift(1)).dropna()\n",
    "\n",
    "# Ensure indices have the same datetime format\n",
    "etf_data.index = etf_data.index.tz_localize(None)\n",
    "asset_returns.index = asset_returns.index.tz_localize(None)\n",
    "\n",
    "# Align regime probabilities with asset_returns\n",
    "aligned_probs = etf_data[['Regime_0_Prob', 'Regime_1_Prob']].reindex(asset_returns.index, method='ffill').dropna()\n",
    "\n",
    "# Regime-specific covariance matrices\n",
    "regime_0_data = asset_returns[aligned_probs['Regime_0_Prob'] > 0.5]\n",
    "regime_1_data = asset_returns[aligned_probs['Regime_1_Prob'] > 0.5]\n",
    "\n",
    "regime_0_cov = regime_0_data.cov()\n",
    "regime_1_cov = regime_1_data.cov()\n",
    "\n",
    "# Combine regime-specific covariance matrices dynamically based on probabilities\n",
    "def get_dynamic_cov_matrix(aligned_probs, regime_0_cov, regime_1_cov):\n",
    "    return (\n",
    "        aligned_probs['Regime_0_Prob'].values[:, None, None] * regime_0_cov.values +\n",
    "        aligned_probs['Regime_1_Prob'].values[:, None, None] * regime_1_cov.values\n",
    "    )\n",
    "\n",
    "# Get the dynamic covariance matrix for each time step\n",
    "dynamic_cov_matrices = get_dynamic_cov_matrix(aligned_probs, regime_0_cov, regime_1_cov)\n",
    "\n",
    "# Use the average covariance matrix as a proxy for the Black-Litterman model\n",
    "average_dynamic_cov = np.mean(dynamic_cov_matrices, axis=0)\n",
    "average_dynamic_cov = pd.DataFrame(average_dynamic_cov, index=tickers, columns=tickers)\n",
    "\n",
    "# Calculate Market Implied Returns (Priors)\n",
    "market_caps = asset_data.iloc[-1] * 1e6  # Assume market caps proportional to prices"
   ]
  },
  {
   "cell_type": "markdown",
   "metadata": {},
   "source": [
    "# Plot Covariance Matrix"
   ]
  },
  {
   "cell_type": "code",
   "execution_count": null,
   "metadata": {},
   "outputs": [
    {
     "ename": "NameError",
     "evalue": "name 'returns' is not defined",
     "output_type": "error",
     "traceback": [
      "\u001b[1;31m---------------------------------------------------------------------------\u001b[0m",
      "\u001b[1;31mNameError\u001b[0m                                 Traceback (most recent call last)",
      "Cell \u001b[1;32mIn[2], line 2\u001b[0m\n\u001b[0;32m      1\u001b[0m \u001b[38;5;66;03m# Standard Covariance\u001b[39;00m\n\u001b[1;32m----> 2\u001b[0m covariance_matrix \u001b[38;5;241m=\u001b[39m \u001b[43mreturns\u001b[49m\u001b[38;5;241m.\u001b[39mcov()\n\u001b[0;32m      3\u001b[0m plotting\u001b[38;5;241m.\u001b[39mplot_covariance(covariance_matrix, plot_correlation\u001b[38;5;241m=\u001b[39m\u001b[38;5;28;01mTrue\u001b[39;00m)\n",
      "\u001b[1;31mNameError\u001b[0m: name 'returns' is not defined"
     ]
    }
   ],
   "source": [
    "# Standard Covariance\n",
    "covariance_matrix = returns.cov()\n",
    "plotting.plot_covariance(covariance_matrix, plot_correlation=True)"
   ]
  },
  {
   "cell_type": "markdown",
   "metadata": {},
   "source": [
    "# Calculate Delta and Priors"
   ]
  },
  {
   "cell_type": "code",
   "execution_count": null,
   "metadata": {},
   "outputs": [
    {
     "name": "stderr",
     "output_type": "stream",
     "text": [
      "[*********************100%***********************]  1 of 1 completed\n",
      "c:\\Users\\chana\\OneDrive\\Documents\\University of Liverpool\\Dissertation\\IT_Artifact\\Black_Litterman_Risk_Parity_Portfolio_Optimisation\\env\\lib\\site-packages\\numpy\\core\\_methods.py:49: RuntimeWarning: invalid value encountered in reduce\n",
      "  return umr_sum(a, axis, dtype, out, keepdims, initial, where)\n",
      "c:\\Users\\chana\\OneDrive\\Documents\\University of Liverpool\\Dissertation\\IT_Artifact\\Black_Litterman_Risk_Parity_Portfolio_Optimisation\\env\\lib\\site-packages\\numpy\\core\\_methods.py:49: RuntimeWarning: invalid value encountered in reduce\n",
      "  return umr_sum(a, axis, dtype, out, keepdims, initial, where)\n"
     ]
    },
    {
     "name": "stdout",
     "output_type": "stream",
     "text": [
      "Market prices (VOO):\n",
      "Date\n",
      "2023-12-22    431.015503\n",
      "2023-12-26    432.807709\n",
      "2023-12-27    433.599823\n",
      "2023-12-28    433.669159\n",
      "2023-12-29    432.510620\n",
      "Name: Adj Close, dtype: float64\n",
      "Market caps:\n",
      "{'TSLA': 1027325100032, 'NVDA': 3478496215040, 'AMZN': 2128761847808, 'META': 1399526785024, 'MSFT': 3083765022720, 'AAPL': 3399694417920, 'AMD': 217975848960}\n",
      "Standard market implied risk aversion (Delta): nan\n",
      "Markov-adjusted market implied risk aversion (Delta): nan\n"
     ]
    },
    {
     "data": {
      "image/png": "[encoded data removed]",
      "text/plain": [
       "<Figure size 640x480 with 1 Axes>"
      ]
     },
     "metadata": {},
     "output_type": "display_data"
    }
   ],
   "source": [
    "# Standard delta and prior\n",
    "market_prices, market_caps, market_returns = get_market_prices_and_caps(tickers, start_date, end_date)\n",
    "delta = black_litterman.market_implied_risk_aversion(market_returns)\n",
    "prior = black_litterman.market_implied_prior_returns(market_caps, delta, covariance_matrix)\n",
    "\n",
    "prior.plot.barh()\n",
    "\n",
    "# Markov delta and prior\n",
    "markov_delta = black_litterman.market_implied_risk_aversion(etf_data['Returns'])\n",
    "markov_prior = black_litterman.market_implied_prior_returns(market_caps, markov_delta, risk_models.sample_cov(asset_returns))\n",
    "\n",
    "# markov_prior.plot.barh()\n",
    "\n",
    "print(\"Market prices (VOO):\")\n",
    "print(market_prices.tail())\n",
    "print(\"Market caps:\")\n",
    "print(market_caps)\n",
    "print(\"Standard market implied risk aversion (Delta):\", delta)\n",
    "\n",
    "print(\"Markov-adjusted market implied risk aversion (Delta):\", markov_delta)"
   ]
  },
  {
   "cell_type": "markdown",
   "metadata": {},
   "source": [
    "# Custom Fear Greed Index"
   ]
  },
  {
   "cell_type": "code",
   "execution_count": null,
   "metadata": {},
   "outputs": [
    {
     "name": "stdout",
     "output_type": "stream",
     "text": [
      "An error has occured for NVDA: Cannot set a DataFrame with multiple columns to the single column Change\n",
      "An error has occured for AAPL: Cannot set a DataFrame with multiple columns to the single column Change\n",
      "{'NVDA': None, 'AAPL': None}\n"
     ]
    }
   ],
   "source": [
    "# indicators to define:\n",
    "# done - Stock Price Momentum: A measure of the S&P 500 versus its 125-day moving average (MA)\n",
    "# done - Stock Price Strength: The number of stocks hitting 52-week highs versus those hitting 52-week lows on the New York Stock Exchange (NYSE).\n",
    "# done - Stock Price Breadth: Analyzing the trading volumes in rising stocks against declining stocks.\n",
    "\n",
    "# todo: Put and Call Options: The extent to which put options lag behind call options, signifying greed, or surpasses them, indicating fear.\n",
    "# todo: Junk Bond Demand: Measures the spread between yields on investment-grade bonds and junk bonds.\n",
    "# todo: Market Volatility: The CBOE's Volatility Index (VIX) based on a 50-day MA.\n",
    "# todo: Safe Haven Demand: The difference in returns for stocks versus treasuries.\n",
    "\n",
    "def get_fear_greed(tickers, start_date='2023-01-01', end_date='2024-01-01'):\n",
    "    fear_greed_scores_dict = {}\n",
    "\n",
    "    for ticker in tickers:\n",
    "        try:\n",
    "            # calculate each indicator for the stock\n",
    "            rsi = calculate_stock_rsi(ticker, start_date=start_date, end_date=end_date).iloc[-1]['RSI']\n",
    "            price_strength, high, low, current_price = calculate_stock_price_strength(ticker)\n",
    "            breadth_data = calculate_stock_price_breadth(ticker, start=start_date, end=end_date)\n",
    "\n",
    "            # normalise each indicator (as rsi is from 0-100 etc)\n",
    "            normalised_rsi = rsi / 100\n",
    "            normalised_price_strength = price_strength\n",
    "            latest_breadth_ratio = breadth_data['breadth_ratio'].iloc[-1]\n",
    "            normalised_breadth = min(max(latest_breadth_ratio / 2, 0), 1)\n",
    "\n",
    "            # weights for each indicator\n",
    "            rsi_weight = 0.4\n",
    "            price_strength_weight = 0.3\n",
    "            breadth_weight = 0.3\n",
    "\n",
    "            # calculate the FG score\n",
    "            fear_greed_score = (\n",
    "                normalised_rsi * rsi_weight +\n",
    "                normalised_price_strength * price_strength_weight +\n",
    "                normalised_breadth * breadth_weight\n",
    "            )\n",
    "\n",
    "            fear_greed_scores_dict[ticker] = fear_greed_score\n",
    "\n",
    "        except Exception as error:\n",
    "            print(f\"An error has occured for {ticker}: {error}\")\n",
    "            fear_greed_scores_dict[ticker] = None\n",
    "\n",
    "    return fear_greed_scores_dict\n",
    "\n",
    "# Relative Strength Index (RSI)\n",
    "def calculate_stock_rsi(ticker, period=14, start_date=\"2023-01-01\", end_date=\"2024-01-01\"):\n",
    "    # stock_data = yf.download(ticker, start=start_date, end=end_date)\n",
    "    data['Change'] = data['Close'].diff()\n",
    "    data['Gain'] = np.where(data['Change'] > 0, data['Change'], 0)\n",
    "    data['Loss'] = np.where(data['Change'] < 0, -data['Change'], 0)\n",
    "\n",
    "    data['Avg_Gain'] = data['Gain'].rolling(window=period, min_periods=1).mean()\n",
    "    data['Avg_Loss'] = data['Loss'].rolling(window=period, min_periods=1).mean()\n",
    "\n",
    "    data['RS'] = data['Avg_Gain'] / data['Avg_Loss']\n",
    "    data['RSI'] = 100 - (100 / (1 + data['RS']))\n",
    "\n",
    "    return data[['Close', 'RSI']].dropna()\n",
    "\n",
    "def calculate_stock_price_strength(ticker):\n",
    "    stock_data = yf.Ticker(ticker)\n",
    "    stock_history = stock_data.history(period=\"1y\")\n",
    "\n",
    "    high = stock_history['Close'].max()\n",
    "    low = stock_history['Close'].min()\n",
    "    current_price = stock_history['Close'].iloc[-1]\n",
    "\n",
    "    proximity_to_high = (current_price - low) / (high - low)\n",
    "    return proximity_to_high, high, low, current_price\n",
    "\n",
    "def calculate_stock_price_breadth(ticker, start, end):\n",
    "    close_data = data['Close']\n",
    "    volume_data = yf.download(ticker, start=start, end=end)['Volume']\n",
    "\n",
    "    price_change = data.pct_change().fillna(0)\n",
    "    results = pd.DataFrame(index=data.index)\n",
    "\n",
    "    results['rising_volume'] = np.where(price_change > 0, volume_data, 0)\n",
    "    results['declining_volume'] = np.where(price_change < 0, volume_data, 0)\n",
    "\n",
    "    results['breadth_ratio'] = results['rising_volume'].sum() / results['declining_volume'].sum()\n",
    "    return results\n",
    "\n",
    "tickers = ['NVDA', 'AAPL'] # use any here. need to be using full asset universe for investor views\n",
    "fear_greed_scores = get_fear_greed(tickers, start_date='2023-01-01', end_date='2024-01-01')\n",
    "print(fear_greed_scores) # 0-1, higher score is greedier\n",
    "\n",
    "# def calculate_put_call_ratio():\n",
    "# High Put-Call Ratio is Bearish\n",
    "# Low Put-Cal Ratio is Bullish"
   ]
  },
  {
   "cell_type": "markdown",
   "metadata": {},
   "source": [
    "# Plot Fear-Greed Indicators"
   ]
  },
  {
   "cell_type": "code",
   "execution_count": null,
   "metadata": {},
   "outputs": [
    {
     "ename": "ValueError",
     "evalue": "Cannot set a DataFrame with multiple columns to the single column Change",
     "output_type": "error",
     "traceback": [
      "\u001b[1;31m---------------------------------------------------------------------------\u001b[0m",
      "\u001b[1;31mValueError\u001b[0m                                Traceback (most recent call last)",
      "\u001b[1;32m~\\AppData\\Local\\Temp\\ipykernel_16996\\4150817892.py\u001b[0m in \u001b[0;36m?\u001b[1;34m()\u001b[0m\n\u001b[0;32m     34\u001b[0m     \u001b[0mplt\u001b[0m\u001b[1;33m.\u001b[0m\u001b[0mshow\u001b[0m\u001b[1;33m(\u001b[0m\u001b[1;33m)\u001b[0m\u001b[1;33m\u001b[0m\u001b[1;33m\u001b[0m\u001b[0m\n\u001b[0;32m     35\u001b[0m \u001b[1;33m\u001b[0m\u001b[0m\n\u001b[0;32m     36\u001b[0m \u001b[1;31m# Need plot for calculate_stock_price_breadth()\u001b[0m\u001b[1;33m\u001b[0m\u001b[1;33m\u001b[0m\u001b[0m\n\u001b[0;32m     37\u001b[0m \u001b[1;33m\u001b[0m\u001b[0m\n\u001b[1;32m---> 38\u001b[1;33m \u001b[0mplot_stock_rsi\u001b[0m\u001b[1;33m(\u001b[0m\u001b[1;34m'NVDA'\u001b[0m\u001b[1;33m)\u001b[0m \u001b[1;31m# not working\u001b[0m\u001b[1;33m\u001b[0m\u001b[1;33m\u001b[0m\u001b[0m\n\u001b[0m\u001b[0;32m     39\u001b[0m \u001b[1;31m# plot_stock_price_strength('NVDA') # change this to plot multiple\u001b[0m\u001b[1;33m\u001b[0m\u001b[1;33m\u001b[0m\u001b[0m\n",
      "\u001b[1;32m~\\AppData\\Local\\Temp\\ipykernel_16996\\4150817892.py\u001b[0m in \u001b[0;36m?\u001b[1;34m(ticker, start_date, end_date)\u001b[0m\n\u001b[0;32m      1\u001b[0m \u001b[1;32mdef\u001b[0m \u001b[0mplot_stock_rsi\u001b[0m\u001b[1;33m(\u001b[0m\u001b[0mticker\u001b[0m\u001b[1;33m:\u001b[0m \u001b[0mstr\u001b[0m\u001b[1;33m,\u001b[0m \u001b[0mstart_date\u001b[0m\u001b[1;33m:\u001b[0m \u001b[0mstr\u001b[0m \u001b[1;33m=\u001b[0m \u001b[1;34m\"2023-01-01\"\u001b[0m\u001b[1;33m,\u001b[0m \u001b[0mend_date\u001b[0m\u001b[1;33m:\u001b[0m \u001b[0mstr\u001b[0m \u001b[1;33m=\u001b[0m \u001b[1;34m\"2024-01-01\"\u001b[0m\u001b[1;33m)\u001b[0m\u001b[1;33m:\u001b[0m\u001b[1;33m\u001b[0m\u001b[1;33m\u001b[0m\u001b[0m\n\u001b[1;32m----> 2\u001b[1;33m     \u001b[0mrsi_data\u001b[0m \u001b[1;33m=\u001b[0m \u001b[0mcalculate_stock_rsi\u001b[0m\u001b[1;33m(\u001b[0m\u001b[0mticker\u001b[0m\u001b[1;33m,\u001b[0m \u001b[0mstart_date\u001b[0m\u001b[1;33m=\u001b[0m\u001b[0mstart_date\u001b[0m\u001b[1;33m,\u001b[0m \u001b[0mend_date\u001b[0m\u001b[1;33m=\u001b[0m\u001b[0mend_date\u001b[0m\u001b[1;33m)\u001b[0m\u001b[1;33m\u001b[0m\u001b[1;33m\u001b[0m\u001b[0m\n\u001b[0m\u001b[0;32m      3\u001b[0m \u001b[1;33m\u001b[0m\u001b[0m\n\u001b[0;32m      4\u001b[0m     \u001b[0mfig\u001b[0m\u001b[1;33m,\u001b[0m \u001b[1;33m(\u001b[0m\u001b[0max1\u001b[0m\u001b[1;33m)\u001b[0m \u001b[1;33m=\u001b[0m \u001b[0mplt\u001b[0m\u001b[1;33m.\u001b[0m\u001b[0msubplots\u001b[0m\u001b[1;33m(\u001b[0m\u001b[1;36m1\u001b[0m\u001b[1;33m,\u001b[0m \u001b[1;36m1\u001b[0m\u001b[1;33m,\u001b[0m \u001b[0mfigsize\u001b[0m\u001b[1;33m=\u001b[0m\u001b[1;33m(\u001b[0m\u001b[1;36m10\u001b[0m\u001b[1;33m,\u001b[0m \u001b[1;36m8\u001b[0m\u001b[1;33m)\u001b[0m\u001b[1;33m,\u001b[0m \u001b[0msharex\u001b[0m\u001b[1;33m=\u001b[0m\u001b[1;32mTrue\u001b[0m\u001b[1;33m)\u001b[0m\u001b[1;33m\u001b[0m\u001b[1;33m\u001b[0m\u001b[0m\n\u001b[0;32m      5\u001b[0m     \u001b[0mfig\u001b[0m\u001b[1;33m.\u001b[0m\u001b[0msuptitle\u001b[0m\u001b[1;33m(\u001b[0m\u001b[1;34mf'{ticker} Relative Strength Index (RSI)'\u001b[0m\u001b[1;33m)\u001b[0m\u001b[1;33m\u001b[0m\u001b[1;33m\u001b[0m\u001b[0m\n",
      "\u001b[1;32m~\\AppData\\Local\\Temp\\ipykernel_16996\\2171279877.py\u001b[0m in \u001b[0;36m?\u001b[1;34m(ticker, period, start_date, end_date)\u001b[0m\n\u001b[0;32m     48\u001b[0m \u001b[1;32mdef\u001b[0m \u001b[0mcalculate_stock_rsi\u001b[0m\u001b[1;33m(\u001b[0m\u001b[0mticker\u001b[0m\u001b[1;33m,\u001b[0m \u001b[0mperiod\u001b[0m\u001b[1;33m=\u001b[0m\u001b[1;36m14\u001b[0m\u001b[1;33m,\u001b[0m \u001b[0mstart_date\u001b[0m\u001b[1;33m=\u001b[0m\u001b[1;34m\"2023-01-01\"\u001b[0m\u001b[1;33m,\u001b[0m \u001b[0mend_date\u001b[0m\u001b[1;33m=\u001b[0m\u001b[1;34m\"2024-01-01\"\u001b[0m\u001b[1;33m)\u001b[0m\u001b[1;33m:\u001b[0m\u001b[1;33m\u001b[0m\u001b[1;33m\u001b[0m\u001b[0m\n\u001b[0;32m     49\u001b[0m     \u001b[1;31m# stock_data = yf.download(ticker, start=start_date, end=end_date)\u001b[0m\u001b[1;33m\u001b[0m\u001b[1;33m\u001b[0m\u001b[0m\n\u001b[1;32m---> 50\u001b[1;33m     \u001b[0mdata\u001b[0m\u001b[1;33m[\u001b[0m\u001b[1;34m'Change'\u001b[0m\u001b[1;33m]\u001b[0m \u001b[1;33m=\u001b[0m \u001b[0mdata\u001b[0m\u001b[1;33m[\u001b[0m\u001b[1;34m'Close'\u001b[0m\u001b[1;33m]\u001b[0m\u001b[1;33m.\u001b[0m\u001b[0mdiff\u001b[0m\u001b[1;33m(\u001b[0m\u001b[1;33m)\u001b[0m\u001b[1;33m\u001b[0m\u001b[1;33m\u001b[0m\u001b[0m\n\u001b[0m\u001b[0;32m     51\u001b[0m     \u001b[0mdata\u001b[0m\u001b[1;33m[\u001b[0m\u001b[1;34m'Gain'\u001b[0m\u001b[1;33m]\u001b[0m \u001b[1;33m=\u001b[0m \u001b[0mnp\u001b[0m\u001b[1;33m.\u001b[0m\u001b[0mwhere\u001b[0m\u001b[1;33m(\u001b[0m\u001b[0mdata\u001b[0m\u001b[1;33m[\u001b[0m\u001b[1;34m'Change'\u001b[0m\u001b[1;33m]\u001b[0m \u001b[1;33m>\u001b[0m \u001b[1;36m0\u001b[0m\u001b[1;33m,\u001b[0m \u001b[0mdata\u001b[0m\u001b[1;33m[\u001b[0m\u001b[1;34m'Change'\u001b[0m\u001b[1;33m]\u001b[0m\u001b[1;33m,\u001b[0m \u001b[1;36m0\u001b[0m\u001b[1;33m)\u001b[0m\u001b[1;33m\u001b[0m\u001b[1;33m\u001b[0m\u001b[0m\n\u001b[0;32m     52\u001b[0m     \u001b[0mdata\u001b[0m\u001b[1;33m[\u001b[0m\u001b[1;34m'Loss'\u001b[0m\u001b[1;33m]\u001b[0m \u001b[1;33m=\u001b[0m \u001b[0mnp\u001b[0m\u001b[1;33m.\u001b[0m\u001b[0mwhere\u001b[0m\u001b[1;33m(\u001b[0m\u001b[0mdata\u001b[0m\u001b[1;33m[\u001b[0m\u001b[1;34m'Change'\u001b[0m\u001b[1;33m]\u001b[0m \u001b[1;33m<\u001b[0m \u001b[1;36m0\u001b[0m\u001b[1;33m,\u001b[0m \u001b[1;33m-\u001b[0m\u001b[0mdata\u001b[0m\u001b[1;33m[\u001b[0m\u001b[1;34m'Change'\u001b[0m\u001b[1;33m]\u001b[0m\u001b[1;33m,\u001b[0m \u001b[1;36m0\u001b[0m\u001b[1;33m)\u001b[0m\u001b[1;33m\u001b[0m\u001b[1;33m\u001b[0m\u001b[0m\n\u001b[0;32m     53\u001b[0m \u001b[1;33m\u001b[0m\u001b[0m\n",
      "\u001b[1;32mc:\\Users\\chana\\OneDrive\\Documents\\University of Liverpool\\Dissertation\\IT_Artifact\\Black_Litterman_Risk_Parity_Portfolio_Optimisation\\env\\lib\\site-packages\\pandas\\core\\frame.py\u001b[0m in \u001b[0;36m?\u001b[1;34m(self, key, value)\u001b[0m\n\u001b[0;32m   4297\u001b[0m             \u001b[0mself\u001b[0m\u001b[1;33m.\u001b[0m\u001b[0m_setitem_frame\u001b[0m\u001b[1;33m(\u001b[0m\u001b[0mkey\u001b[0m\u001b[1;33m,\u001b[0m \u001b[0mvalue\u001b[0m\u001b[1;33m)\u001b[0m\u001b[1;33m\u001b[0m\u001b[1;33m\u001b[0m\u001b[0m\n\u001b[0;32m   4298\u001b[0m         \u001b[1;32melif\u001b[0m \u001b[0misinstance\u001b[0m\u001b[1;33m(\u001b[0m\u001b[0mkey\u001b[0m\u001b[1;33m,\u001b[0m \u001b[1;33m(\u001b[0m\u001b[0mSeries\u001b[0m\u001b[1;33m,\u001b[0m \u001b[0mnp\u001b[0m\u001b[1;33m.\u001b[0m\u001b[0mndarray\u001b[0m\u001b[1;33m,\u001b[0m \u001b[0mlist\u001b[0m\u001b[1;33m,\u001b[0m \u001b[0mIndex\u001b[0m\u001b[1;33m)\u001b[0m\u001b[1;33m)\u001b[0m\u001b[1;33m:\u001b[0m\u001b[1;33m\u001b[0m\u001b[1;33m\u001b[0m\u001b[0m\n\u001b[0;32m   4299\u001b[0m             \u001b[0mself\u001b[0m\u001b[1;33m.\u001b[0m\u001b[0m_setitem_array\u001b[0m\u001b[1;33m(\u001b[0m\u001b[0mkey\u001b[0m\u001b[1;33m,\u001b[0m \u001b[0mvalue\u001b[0m\u001b[1;33m)\u001b[0m\u001b[1;33m\u001b[0m\u001b[1;33m\u001b[0m\u001b[0m\n\u001b[0;32m   4300\u001b[0m         \u001b[1;32melif\u001b[0m \u001b[0misinstance\u001b[0m\u001b[1;33m(\u001b[0m\u001b[0mvalue\u001b[0m\u001b[1;33m,\u001b[0m \u001b[0mDataFrame\u001b[0m\u001b[1;33m)\u001b[0m\u001b[1;33m:\u001b[0m\u001b[1;33m\u001b[0m\u001b[1;33m\u001b[0m\u001b[0m\n\u001b[1;32m-> 4301\u001b[1;33m             \u001b[0mself\u001b[0m\u001b[1;33m.\u001b[0m\u001b[0m_set_item_frame_value\u001b[0m\u001b[1;33m(\u001b[0m\u001b[0mkey\u001b[0m\u001b[1;33m,\u001b[0m \u001b[0mvalue\u001b[0m\u001b[1;33m)\u001b[0m\u001b[1;33m\u001b[0m\u001b[1;33m\u001b[0m\u001b[0m\n\u001b[0m\u001b[0;32m   4302\u001b[0m         elif (\n\u001b[0;32m   4303\u001b[0m             \u001b[0mis_list_like\u001b[0m\u001b[1;33m(\u001b[0m\u001b[0mvalue\u001b[0m\u001b[1;33m)\u001b[0m\u001b[1;33m\u001b[0m\u001b[1;33m\u001b[0m\u001b[0m\n\u001b[0;32m   4304\u001b[0m             \u001b[1;32mand\u001b[0m \u001b[1;32mnot\u001b[0m \u001b[0mself\u001b[0m\u001b[1;33m.\u001b[0m\u001b[0mcolumns\u001b[0m\u001b[1;33m.\u001b[0m\u001b[0mis_unique\u001b[0m\u001b[1;33m\u001b[0m\u001b[1;33m\u001b[0m\u001b[0m\n",
      "\u001b[1;32mc:\\Users\\chana\\OneDrive\\Documents\\University of Liverpool\\Dissertation\\IT_Artifact\\Black_Litterman_Risk_Parity_Portfolio_Optimisation\\env\\lib\\site-packages\\pandas\\core\\frame.py\u001b[0m in \u001b[0;36m?\u001b[1;34m(self, key, value)\u001b[0m\n\u001b[0;32m   4455\u001b[0m \u001b[1;33m\u001b[0m\u001b[0m\n\u001b[0;32m   4456\u001b[0m             \u001b[1;32mreturn\u001b[0m \u001b[0mself\u001b[0m\u001b[1;33m.\u001b[0m\u001b[0misetitem\u001b[0m\u001b[1;33m(\u001b[0m\u001b[0mlocs\u001b[0m\u001b[1;33m,\u001b[0m \u001b[0mvalue\u001b[0m\u001b[1;33m)\u001b[0m\u001b[1;33m\u001b[0m\u001b[1;33m\u001b[0m\u001b[0m\n\u001b[0;32m   4457\u001b[0m \u001b[1;33m\u001b[0m\u001b[0m\n\u001b[0;32m   4458\u001b[0m         \u001b[1;32mif\u001b[0m \u001b[0mlen\u001b[0m\u001b[1;33m(\u001b[0m\u001b[0mvalue\u001b[0m\u001b[1;33m.\u001b[0m\u001b[0mcolumns\u001b[0m\u001b[1;33m)\u001b[0m \u001b[1;33m>\u001b[0m \u001b[1;36m1\u001b[0m\u001b[1;33m:\u001b[0m\u001b[1;33m\u001b[0m\u001b[1;33m\u001b[0m\u001b[0m\n\u001b[1;32m-> 4459\u001b[1;33m             raise ValueError(\n\u001b[0m\u001b[0;32m   4460\u001b[0m                 \u001b[1;34m\"Cannot set a DataFrame with multiple columns to the single \"\u001b[0m\u001b[1;33m\u001b[0m\u001b[1;33m\u001b[0m\u001b[0m\n\u001b[0;32m   4461\u001b[0m                 \u001b[1;34mf\"column {key}\"\u001b[0m\u001b[1;33m\u001b[0m\u001b[1;33m\u001b[0m\u001b[0m\n\u001b[0;32m   4462\u001b[0m             )\n",
      "\u001b[1;31mValueError\u001b[0m: Cannot set a DataFrame with multiple columns to the single column Change"
     ]
    }
   ],
   "source": [
    "def plot_stock_rsi(ticker: str, start_date: str = \"2023-01-01\", end_date: str = \"2024-01-01\"):\n",
    "    rsi_data = calculate_stock_rsi(ticker, start_date=start_date, end_date=end_date)\n",
    "\n",
    "    fig, (ax1) = plt.subplots(1, 1, figsize=(10, 8), sharex=True)\n",
    "    fig.suptitle(f'{ticker} Relative Strength Index (RSI)')\n",
    "    \n",
    "    ax1.plot(rsi_data.index, rsi_data['RSI'], label='RSI', color='purple')\n",
    "    ax1.axhline(70, color='red', linestyle='--', label='Overbought (70)')\n",
    "    ax1.axhline(30, color='green', linestyle='--', label='Oversold (30)')\n",
    "    ax1.set_ylabel('RSI')\n",
    "    ax1.set_xlabel('Date')\n",
    "    ax1.legend(loc='upper left')\n",
    "    \n",
    "    plt.show()\n",
    "\n",
    "def plot_stock_price_strength(ticker: str):\n",
    "    proximity_to_high, high, low, current_price = calculate_stock_price_strength(ticker)\n",
    "\n",
    "    stock_data = yf.Ticker(ticker)\n",
    "    stock_history = stock_data.history(period=\"1y\")\n",
    "\n",
    "    fig, (ax1) = plt.subplots(1, 1, figsize=(10, 8), sharex=True)\n",
    "    fig.suptitle(f'{ticker} Stock Price and Strength Relative to 52-Week Range')\n",
    "    \n",
    "    ax1.plot(stock_history.index, stock_history['Close'], label='Close price', color='blue')\n",
    "    ax1.axhline(high, color='red', linestyle='--', label='52 week high')\n",
    "    ax1.axhline(low, color='green', linestyle='--', label='52 week low')\n",
    "    ax1.scatter(stock_history.index[-1], current_price, color='purple', label=f'Current Price (Proximity: {proximity_to_high:.2f})')\n",
    "\n",
    "    ax1.set_ylabel('Price')\n",
    "    ax1.set_xlabel('Date')\n",
    "    ax1.legend(loc='upper left')\n",
    "    \n",
    "    plt.show()\n",
    "\n",
    "# Need plot for calculate_stock_price_breadth()\n",
    "\n",
    "plot_stock_rsi('NVDA') # not working\n",
    "# plot_stock_price_strength('NVDA') # change this to plot multiple"
   ]
  },
  {
   "cell_type": "markdown",
   "metadata": {},
   "source": [
    "# Generate Investor Views"
   ]
  },
  {
   "cell_type": "code",
   "execution_count": null,
   "metadata": {},
   "outputs": [
    {
     "name": "stderr",
     "output_type": "stream",
     "text": [
      "[*********************100%***********************]  1 of 1 completed"
     ]
    },
    {
     "name": "stderr",
     "output_type": "stream",
     "text": [
      "\n",
      "[*********************100%***********************]  1 of 1 completed\n",
      "[*********************100%***********************]  1 of 1 completed\n"
     ]
    },
    {
     "name": "stdout",
     "output_type": "stream",
     "text": [
      "An error occurred for NVDA: list indices must be integers or slices, not str\n"
     ]
    },
    {
     "ename": "TypeError",
     "evalue": "list indices must be integers or slices, not str",
     "output_type": "error",
     "traceback": [
      "\u001b[1;31m---------------------------------------------------------------------------\u001b[0m",
      "\u001b[1;31mTypeError\u001b[0m                                 Traceback (most recent call last)",
      "Cell \u001b[1;32mIn[148], line 47\u001b[0m, in \u001b[0;36mget_fear_greed\u001b[1;34m(tickers, start_date, end_date)\u001b[0m\n\u001b[0;32m     41\u001b[0m     fear_greed_score \u001b[38;5;241m=\u001b[39m (\n\u001b[0;32m     42\u001b[0m         normalised_rsi \u001b[38;5;241m*\u001b[39m rsi_weight \u001b[38;5;241m+\u001b[39m\n\u001b[0;32m     43\u001b[0m         normalised_price_strength \u001b[38;5;241m*\u001b[39m price_strength_weight \u001b[38;5;241m+\u001b[39m\n\u001b[0;32m     44\u001b[0m         normalised_breadth \u001b[38;5;241m*\u001b[39m breadth_weight\n\u001b[0;32m     45\u001b[0m     )\n\u001b[1;32m---> 47\u001b[0m     \u001b[43mfg_scores\u001b[49m\u001b[43m[\u001b[49m\u001b[43mticker\u001b[49m\u001b[43m]\u001b[49m \u001b[38;5;241m=\u001b[39m fear_greed_score\n\u001b[0;32m     49\u001b[0m \u001b[38;5;28;01mexcept\u001b[39;00m \u001b[38;5;167;01mKeyError\u001b[39;00m:\n",
      "\u001b[1;31mTypeError\u001b[0m: list indices must be integers or slices, not str",
      "\nDuring handling of the above exception, another exception occurred:\n",
      "\u001b[1;31mTypeError\u001b[0m                                 Traceback (most recent call last)",
      "Cell \u001b[1;32mIn[149], line 10\u001b[0m\n\u001b[0;32m      7\u001b[0m fg_based_confidences \u001b[38;5;241m=\u001b[39m []\n\u001b[0;32m      9\u001b[0m \u001b[38;5;28;01mfor\u001b[39;00m i, stock \u001b[38;5;129;01min\u001b[39;00m \u001b[38;5;28menumerate\u001b[39m(tickers):\n\u001b[1;32m---> 10\u001b[0m     stock_score \u001b[38;5;241m=\u001b[39m \u001b[43mget_fear_greed\u001b[49m\u001b[43m(\u001b[49m\u001b[43mtickers\u001b[49m\u001b[43m)\u001b[49m\n\u001b[0;32m     12\u001b[0m     \u001b[38;5;28;01mif\u001b[39;00m stock_score \u001b[38;5;241m>\u001b[39m bullish_threshold:\n\u001b[0;32m     13\u001b[0m         view_returns \u001b[38;5;241m=\u001b[39m \u001b[38;5;241m0.02\u001b[39m \u001b[38;5;241m+\u001b[39m (stock_score \u001b[38;5;241m-\u001b[39m bullish_threshold) \u001b[38;5;241m*\u001b[39m \u001b[38;5;241m0.0001\u001b[39m\n",
      "Cell \u001b[1;32mIn[148], line 54\u001b[0m, in \u001b[0;36mget_fear_greed\u001b[1;34m(tickers, start_date, end_date)\u001b[0m\n\u001b[0;32m     52\u001b[0m     \u001b[38;5;28;01mexcept\u001b[39;00m \u001b[38;5;167;01mException\u001b[39;00m \u001b[38;5;28;01mas\u001b[39;00m e:\n\u001b[0;32m     53\u001b[0m         \u001b[38;5;28mprint\u001b[39m(\u001b[38;5;124mf\u001b[39m\u001b[38;5;124m\"\u001b[39m\u001b[38;5;124mAn error occurred for \u001b[39m\u001b[38;5;132;01m{\u001b[39;00mticker\u001b[38;5;132;01m}\u001b[39;00m\u001b[38;5;124m: \u001b[39m\u001b[38;5;132;01m{\u001b[39;00me\u001b[38;5;132;01m}\u001b[39;00m\u001b[38;5;124m\"\u001b[39m)\n\u001b[1;32m---> 54\u001b[0m         \u001b[43mfg_scores\u001b[49m\u001b[43m[\u001b[49m\u001b[43mticker\u001b[49m\u001b[43m]\u001b[49m \u001b[38;5;241m=\u001b[39m \u001b[38;5;28;01mNone\u001b[39;00m\n\u001b[0;32m     56\u001b[0m \u001b[38;5;28;01mreturn\u001b[39;00m fg_scores\n",
      "\u001b[1;31mTypeError\u001b[0m: list indices must be integers or slices, not str"
     ]
    }
   ],
   "source": [
    "# convert FG score into views\n",
    "bullish_threshold = 70\n",
    "bearish_threshold = 30\n",
    "\n",
    "fg_based_views = []\n",
    "fg_based_confidences = []\n",
    "\n",
    "for i, stock in enumerate(tickers):\n",
    "    stock_score = get_fear_greed(tickers)\n",
    "\n",
    "    if stock_score > bullish_threshold:\n",
    "        view_returns = 0.02 + (stock_score - bullish_threshold) * 0.0001\n",
    "    elif stock_score < bearish_threshold:\n",
    "        view_returns = -0.02 + (bearish_threshold - stock_score) * 0.0001\n",
    "    else:\n",
    "        view_returns = 0.0 # neutral score if not bullish or bearish\n",
    "\n",
    "    fg_based_views.append(view_returns)\n",
    "\n",
    "    confidence = abs(stock_score - 50) / 100\n",
    "    fg_based_confidences.append(confidence)\n",
    "\n",
    "    views = np.array(fg_based_views)\n",
    "    confidences = np.array(fg_based_confidences)\n",
    "\n",
    "def run_black_litterman(returns, fg_based_views, fg_based_confidences):\n",
    "    adjusted_bl_views = returns + fg_based_views * fg_based_confidences\n",
    "    \n",
    "    return adjusted_bl_views\n",
    "\n",
    "adjusted_returns = black_litterman(prior, fg_based_views, fg_based_confidences)\n",
    "\n",
    "# Output results\n",
    "results = pd.DataFrame({\n",
    "    'Stock': tickers,\n",
    "    'Equilibrium Return': prior,\n",
    "    'View Return': views,\n",
    "    'Confidence': confidences,\n",
    "    'Adjusted Return': adjusted_returns\n",
    "})\n",
    "\n",
    "print(results)"
   ]
  },
  {
   "cell_type": "markdown",
   "metadata": {},
   "source": [
    "# Investor Views"
   ]
  },
  {
   "cell_type": "code",
   "execution_count": null,
   "metadata": {},
   "outputs": [],
   "source": [
    "# Standard views\n",
    "view_dict = {\"TSLA\": 0.04, \"NVDA\": 0.08, \"AMZN\": 0.03, \"META\": 0.02, \"MSFT\": 0.04, \"AAPL\": 0.05, \"AMD\": 0.07}\n",
    "view_confidences = [0.3, 0.9, 0.4, 0.5, 0.2, 0.6, 0.7, 0.8]\n",
    "\n",
    "bl = BlackLittermanModel(covariance_matrix, pi=prior, absolute_views=view_dict, view_confidences=view_confidences)\n",
    "\n",
    "# Fear-Greed views - need to change these variable names\n",
    "generated_view_dict = {\"TSLA\": 0.04, \"NVDA\": 0.08, \"AMZN\": 0.03, \"META\": 0.02, \"MSFT\": 0.04, \"AAPL\": 0.05, \"AMD\": 0.07} # Absolute views\n",
    "adjusted_view_confidences = [0.3, 0.9, 0.4, 0.5, 0.2, 0.6, 0.7, 0.8]\n",
    "\n",
    "# Markov views\n",
    "markov_view_dict = {\"TSLA\": 0.04, \"NVDA\": 0.08, \"AMZN\": 0.03, \"META\": 0.02, \"MSFT\": 0.04, \"AAPL\": 0.05, \"AMD\": 0.07}\n",
    "markov_view_confidences = [0.3, 0.9, 0.4, 0.5, 0.2, 0.6, 0.7]"
   ]
  },
  {
   "cell_type": "code",
   "execution_count": null,
   "metadata": {},
   "outputs": [
    {
     "data": {
      "image/png": "[encoded data removed]",
      "text/plain": [
       "<Figure size 700x700 with 1 Axes>"
      ]
     },
     "metadata": {},
     "output_type": "display_data"
    },
    {
     "data": {
      "text/plain": [
       "array([6.36894890e-05, 3.89966327e-05, 2.10670593e-05, 2.92956271e-05,\n",
       "       1.43178074e-05, 1.60304670e-05, 6.36971609e-05])"
      ]
     },
     "execution_count": 142,
     "metadata": {},
     "output_type": "execute_result"
    }
   ],
   "source": [
    "fig, ax = plt.subplots(figsize=(7,7))\n",
    "im = ax.imshow(bl.omega)\n",
    "\n",
    "ax.set_xticks(np.arange(len(bl.tickers)))\n",
    "ax.set_yticks(np.arange(len(bl.tickers)))\n",
    "\n",
    "ax.set_xticklabels(bl.tickers)\n",
    "ax.set_yticklabels(bl.tickers)\n",
    "plt.show()\n",
    "\n",
    "np.diag(bl.omega)"
   ]
  },
  {
   "cell_type": "markdown",
   "metadata": {},
   "source": [
    "# Posterior Returns"
   ]
  },
  {
   "cell_type": "code",
   "execution_count": null,
   "metadata": {},
   "outputs": [
    {
     "ename": "NameError",
     "evalue": "name 'covariance_matrix' is not defined",
     "output_type": "error",
     "traceback": [
      "\u001b[1;31m---------------------------------------------------------------------------\u001b[0m",
      "\u001b[1;31mNameError\u001b[0m                                 Traceback (most recent call last)",
      "Cell \u001b[1;32mIn[39], line 3\u001b[0m\n\u001b[0;32m      1\u001b[0m \u001b[38;5;66;03m# Standard posterior returns\u001b[39;00m\n\u001b[0;32m      2\u001b[0m bl \u001b[38;5;241m=\u001b[39m BlackLittermanModel(\n\u001b[1;32m----> 3\u001b[0m     \u001b[43mcovariance_matrix\u001b[49m, \n\u001b[0;32m      4\u001b[0m     pi\u001b[38;5;241m=\u001b[39m\u001b[38;5;124m\"\u001b[39m\u001b[38;5;124mmarket\u001b[39m\u001b[38;5;124m\"\u001b[39m, \n\u001b[0;32m      5\u001b[0m     market_caps\u001b[38;5;241m=\u001b[39mmarket_caps, \n\u001b[0;32m      6\u001b[0m     risk_aversion\u001b[38;5;241m=\u001b[39mdelta, \n\u001b[0;32m      7\u001b[0m     absolute_views\u001b[38;5;241m=\u001b[39mview_dict, \n\u001b[0;32m      8\u001b[0m     omega\u001b[38;5;241m=\u001b[39mbl\u001b[38;5;241m.\u001b[39momega\n\u001b[0;32m      9\u001b[0m )\n\u001b[0;32m     11\u001b[0m bl_returns \u001b[38;5;241m=\u001b[39m bl\u001b[38;5;241m.\u001b[39mbl_returns()\n\u001b[0;32m     12\u001b[0m bl_returns\n",
      "\u001b[1;31mNameError\u001b[0m: name 'covariance_matrix' is not defined"
     ]
    },
    {
     "ename": "",
     "evalue": "",
     "output_type": "error",
     "traceback": [
      "\u001b[1;31mThe Kernel crashed while executing code in the current cell or a previous cell. \n",
      "\u001b[1;31mPlease review the code in the cell(s) to identify a possible cause of the failure. \n",
      "\u001b[1;31mClick <a href='https://aka.ms/vscodeJupyterKernelCrash'>here</a> for more info. \n",
      "\u001b[1;31mView Jupyter <a href='command:jupyter.viewOutput'>log</a> for further details."
     ]
    }
   ],
   "source": [
    "# Standard posterior returns\n",
    "bl = BlackLittermanModel(\n",
    "    covariance_matrix, \n",
    "    pi=\"market\", \n",
    "    market_caps=market_caps, \n",
    "    risk_aversion=delta, \n",
    "    absolute_views=view_dict, \n",
    "    omega=bl.omega\n",
    ")\n",
    "\n",
    "bl_returns = bl.bl_returns()\n",
    "bl_returns\n",
    "\n",
    "# Fear-greed posterior returns\n",
    "fear_greed_bl = BlackLittermanModel(\n",
    "    covariance_matrix, \n",
    "    pi=prior, \n",
    "    absolute_views=view_dict, \n",
    "    view_confidences=\n",
    "    view_confidences\n",
    ")\n",
    "\n",
    "fear_greed_returns = fear_greed_bl.bl_returns()\n",
    "fear_greed_returns\n",
    "\n",
    "# Markov posterior returns\n",
    "# with the average dynamic covariance matrix\n",
    "markov_bl = BlackLittermanModel(\n",
    "    average_dynamic_cov,\n",
    "    pi=markov_prior,\n",
    "    absolute_views=markov_view_dict,\n",
    "    view_confidences=markov_view_confidences,\n",
    "    omega=\"idzorek\",\n",
    ")\n",
    "\n",
    "markov_bl_returns = markov_bl.bl_returns()\n",
    "markov_bl_returns"
   ]
  },
  {
   "cell_type": "code",
   "execution_count": null,
   "metadata": {},
   "outputs": [
    {
     "data": {
      "text/html": [
       "<div>\n",
       "<style scoped>\n",
       "    .dataframe tbody tr th:only-of-type {\n",
       "        vertical-align: middle;\n",
       "    }\n",
       "\n",
       "    .dataframe tbody tr th {\n",
       "        vertical-align: top;\n",
       "    }\n",
       "\n",
       "    .dataframe thead th {\n",
       "        text-align: right;\n",
       "    }\n",
       "</style>\n",
       "<table border=\"1\" class=\"dataframe\">\n",
       "  <thead>\n",
       "    <tr style=\"text-align: right;\">\n",
       "      <th></th>\n",
       "      <th>Prior</th>\n",
       "      <th>Posterior</th>\n",
       "      <th>Views</th>\n",
       "    </tr>\n",
       "  </thead>\n",
       "  <tbody>\n",
       "    <tr>\n",
       "      <th>AAPL</th>\n",
       "      <td>0.020994</td>\n",
       "      <td>0.033706</td>\n",
       "      <td>0.05</td>\n",
       "    </tr>\n",
       "    <tr>\n",
       "      <th>AMD</th>\n",
       "      <td>0.021481</td>\n",
       "      <td>0.054653</td>\n",
       "      <td>0.07</td>\n",
       "    </tr>\n",
       "    <tr>\n",
       "      <th>AMZN</th>\n",
       "      <td>0.021080</td>\n",
       "      <td>0.028569</td>\n",
       "      <td>0.03</td>\n",
       "    </tr>\n",
       "    <tr>\n",
       "      <th>META</th>\n",
       "      <td>0.021169</td>\n",
       "      <td>0.026746</td>\n",
       "      <td>0.02</td>\n",
       "    </tr>\n",
       "    <tr>\n",
       "      <th>MSFT</th>\n",
       "      <td>0.020978</td>\n",
       "      <td>0.030655</td>\n",
       "      <td>0.04</td>\n",
       "    </tr>\n",
       "    <tr>\n",
       "      <th>NVDA</th>\n",
       "      <td>0.021690</td>\n",
       "      <td>0.054607</td>\n",
       "      <td>0.08</td>\n",
       "    </tr>\n",
       "    <tr>\n",
       "      <th>TSLA</th>\n",
       "      <td>0.021460</td>\n",
       "      <td>0.038325</td>\n",
       "      <td>0.04</td>\n",
       "    </tr>\n",
       "  </tbody>\n",
       "</table>\n",
       "</div>"
      ],
      "text/plain": [
       "         Prior  Posterior  Views\n",
       "AAPL  0.020994   0.033706   0.05\n",
       "AMD   0.021481   0.054653   0.07\n",
       "AMZN  0.021080   0.028569   0.03\n",
       "META  0.021169   0.026746   0.02\n",
       "MSFT  0.020978   0.030655   0.04\n",
       "NVDA  0.021690   0.054607   0.08\n",
       "TSLA  0.021460   0.038325   0.04"
      ]
     },
     "execution_count": 135,
     "metadata": {},
     "output_type": "execute_result"
    }
   ],
   "source": [
    "returns_df = pd.DataFrame([prior, bl_returns, pd.Series(view_dict)], index=[\"Prior\", \"Posterior\", \"Views\"]).T\n",
    "returns_df\n",
    "\n",
    "markov_returns_df = pd.DataFrame([markov_prior, markov_bl_returns, pd.Series(markov_view_dict)], index=[\"Prior\", \"Posterior\", \"Views\"]).T\n",
    "markov_returns_df"
   ]
  },
  {
   "cell_type": "code",
   "execution_count": null,
   "metadata": {},
   "outputs": [
    {
     "data": {
      "text/plain": [
       "<Axes: >"
      ]
     },
     "execution_count": 143,
     "metadata": {},
     "output_type": "execute_result"
    },
    {
     "data": {
      "image/png": "[encoded data removed]",
      "text/plain": [
       "<Figure size 640x480 with 1 Axes>"
      ]
     },
     "metadata": {},
     "output_type": "display_data"
    },
    {
     "data": {
      "image/png": "[encoded data removed]",
      "text/plain": [
       "<Figure size 640x480 with 2 Axes>"
      ]
     },
     "metadata": {},
     "output_type": "display_data"
    }
   ],
   "source": [
    "# visualisation of above\n",
    "returns_df.plot.bar()\n",
    "\n",
    "# Standard posterior covariance matrix\n",
    "posterior_cov = bl.bl_cov()\n",
    "plotting.plot_covariance(posterior_cov)\n",
    "\n",
    "# Markov posterior covariance matrix\n",
    "markov_posterior_cov = bl.bl_cov()\n",
    "plotting.plot_covariance(markov_posterior_cov, plot_correlation=True)"
   ]
  },
  {
   "cell_type": "markdown",
   "metadata": {},
   "source": [
    "# Efficient Frontier Weights"
   ]
  },
  {
   "cell_type": "code",
   "execution_count": null,
   "metadata": {},
   "outputs": [],
   "source": [
    "# Standard efficient frontier and cleaned weights\n",
    "ef = EfficientFrontier(bl_returns, posterior_cov)\n",
    "weights = ef.min_volatility() # max_sharpe not working. look into this\n",
    "cleaned_weights = ef.clean_weights()\n",
    "\n",
    "# Markov-switching-adjusted frontier and cleaned weights\n",
    "markov_ef = EfficientFrontier(markov_bl_returns, markov_posterior_cov)\n",
    "markov_weights = markov_ef.min_volatility()  # Change to ef.max_sharpe() if needed\n",
    "markov_cleaned_weights = markov_ef.clean_weights()"
   ]
  },
  {
   "cell_type": "code",
   "execution_count": null,
   "metadata": {},
   "outputs": [
    {
     "data": {
      "text/plain": [
       "OrderedDict([('AAPL', 0.3542),\n",
       "             ('AMD', 0.0),\n",
       "             ('AMZN', 0.16226),\n",
       "             ('META', 0.04388),\n",
       "             ('MSFT', 0.43967),\n",
       "             ('NVDA', 0.0),\n",
       "             ('TSLA', 0.0)])"
      ]
     },
     "execution_count": 139,
     "metadata": {},
     "output_type": "execute_result"
    }
   ],
   "source": [
    "print(f\"Standard optimised weights: {cleaned_weights}\")\n",
    "print(f\"Markov optimised weights: {markov_cleaned_weights}\")"
   ]
  },
  {
   "cell_type": "code",
   "execution_count": null,
   "metadata": {},
   "outputs": [
    {
     "data": {
      "image/png": "[encoded data removed]",
      "text/plain": [
       "<Figure size 640x480 with 1 Axes>"
      ]
     },
     "metadata": {},
     "output_type": "display_data"
    }
   ],
   "source": [
    "model_1_allocations = pd.Series(cleaned_weights).plot.pie()\n",
    "model_2_markov_allocations = pd.Series(markov_cleaned_weights).plot.pie()"
   ]
  },
  {
   "cell_type": "markdown",
   "metadata": {},
   "source": [
    "# Performance Evaluation"
   ]
  },
  {
   "cell_type": "code",
   "execution_count": null,
   "metadata": {},
   "outputs": [],
   "source": [
    "# returns\n",
    "# annual returns (yearly avg)\n",
    "# excess return (above risk free rate)\n",
    "\n",
    "# risk-based metrics\n",
    "# volatility (stdv)\n",
    "# maximum drawdown\n",
    "\n",
    "# risk-adjusted metrics\n",
    "# sharpe, sortino, omega\n",
    "\n",
    "# diversitifation metrics\n",
    "# herfindahl-hischman index (measures portfolio concentration)\n",
    "# number of unique holdings"
   ]
  },
  {
   "cell_type": "markdown",
   "metadata": {},
   "source": [
    "# Benchmark Comparisons"
   ]
  },
  {
   "cell_type": "code",
   "execution_count": null,
   "metadata": {},
   "outputs": [],
   "source": [
    "# traditional models\n",
    "# standard MVO\n",
    "# standard BL\n",
    "\n",
    "# alternative models\n",
    "# risk parity\n",
    "# equal weighted\n",
    "# markowitz portfolio"
   ]
  },
  {
   "cell_type": "markdown",
   "metadata": {},
   "source": [
    "# Sensitivity Analysis"
   ]
  },
  {
   "cell_type": "code",
   "execution_count": null,
   "metadata": {},
   "outputs": [],
   "source": [
    "# view confidence sensitivity\n",
    "# markov switching model params sensitivity\n",
    "# fear greed components sensitivity"
   ]
  }
 ],
 "metadata": {
  "kernelspec": {
   "display_name": "env",
   "language": "python",
   "name": "python3"
  },
  "language_info": {
   "codemirror_mode": {
    "name": "ipython",
    "version": 3
   },
   "file_extension": ".py",
   "mimetype": "text/x-python",
   "name": "python",
   "nbconvert_exporter": "python",
   "pygments_lexer": "ipython3",
   "version": "3.10.11"
  }
 },
 "nbformat": 4,
 "nbformat_minor": 2
}
