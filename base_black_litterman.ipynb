{
 "cells": [
  {
   "cell_type": "code",
   "execution_count": 1,
   "metadata": {},
   "outputs": [],
   "source": [
    "import numpy as np\n",
    "import pandas as pd\n",
    "import pypfopt\n",
    "from pypfopt import risk_models, expected_returns, BlackLittermanModel, plotting\n",
    "from pypfopt import EfficientFrontier\n",
    "import yfinance as yf"
   ]
  },
  {
   "cell_type": "code",
   "execution_count": null,
   "metadata": {},
   "outputs": [
    {
     "name": "stderr",
     "output_type": "stream",
     "text": [
      "[*********************100%***********************]  4 of 4 completed\n"
     ]
    },
    {
     "name": "stdout",
     "output_type": "stream",
     "text": [
      "Optimized Weights: OrderedDict([('AAPL', 0.53009), ('AMZN', 0.0), ('GOOG', 0.46991), ('MSFT', 0.0)])\n"
     ]
    },
    {
     "ename": "InstantiationError",
     "evalue": "Adding constraints to an already solved problem might have unintended consequences. A new instance should be created for the new set of constraints.",
     "output_type": "error",
     "traceback": [
      "\u001b[1;31m---------------------------------------------------------------------------\u001b[0m",
      "\u001b[1;31mInstantiationError\u001b[0m                        Traceback (most recent call last)",
      "Cell \u001b[1;32mIn[2], line 37\u001b[0m\n\u001b[0;32m     34\u001b[0m \u001b[38;5;28mprint\u001b[39m(\u001b[38;5;124m\"\u001b[39m\u001b[38;5;124mOptimized Weights:\u001b[39m\u001b[38;5;124m\"\u001b[39m, cleaned_weights)\n\u001b[0;32m     36\u001b[0m \u001b[38;5;66;03m# Plot the efficient frontier\u001b[39;00m\n\u001b[1;32m---> 37\u001b[0m \u001b[43mplotting\u001b[49m\u001b[38;5;241;43m.\u001b[39;49m\u001b[43mplot_efficient_frontier\u001b[49m\u001b[43m(\u001b[49m\u001b[43mef\u001b[49m\u001b[43m,\u001b[49m\u001b[43m \u001b[49m\u001b[43mshow_assets\u001b[49m\u001b[38;5;241;43m=\u001b[39;49m\u001b[38;5;28;43;01mTrue\u001b[39;49;00m\u001b[43m)\u001b[49m\n",
      "File \u001b[1;32mc:\\Users\\chana\\OneDrive\\Documents\\University of Liverpool\\Dissertation\\IT_Artifact\\Black_Litterman_Risk_Parity_Portfolio_Optimisation\\env\\lib\\site-packages\\pypfopt\\plotting.py:261\u001b[0m, in \u001b[0;36mplot_efficient_frontier\u001b[1;34m(opt, ef_param, ef_param_range, points, ax, show_assets, show_tickers, **kwargs)\u001b[0m\n\u001b[0;32m    259\u001b[0m \u001b[38;5;28;01melif\u001b[39;00m \u001b[38;5;28misinstance\u001b[39m(opt, EfficientFrontier):\n\u001b[0;32m    260\u001b[0m     \u001b[38;5;28;01mif\u001b[39;00m ef_param_range \u001b[38;5;129;01mis\u001b[39;00m \u001b[38;5;28;01mNone\u001b[39;00m:\n\u001b[1;32m--> 261\u001b[0m         ef_param_range \u001b[38;5;241m=\u001b[39m \u001b[43m_ef_default_returns_range\u001b[49m\u001b[43m(\u001b[49m\u001b[43mopt\u001b[49m\u001b[43m,\u001b[49m\u001b[43m \u001b[49m\u001b[43mpoints\u001b[49m\u001b[43m)\u001b[49m\n\u001b[0;32m    263\u001b[0m     ax \u001b[38;5;241m=\u001b[39m _plot_ef(\n\u001b[0;32m    264\u001b[0m         opt,\n\u001b[0;32m    265\u001b[0m         ef_param,\n\u001b[1;32m   (...)\u001b[0m\n\u001b[0;32m    269\u001b[0m         show_tickers\u001b[38;5;241m=\u001b[39mshow_tickers,\n\u001b[0;32m    270\u001b[0m     )\n\u001b[0;32m    271\u001b[0m \u001b[38;5;28;01melse\u001b[39;00m:\n",
      "File \u001b[1;32mc:\\Users\\chana\\OneDrive\\Documents\\University of Liverpool\\Dissertation\\IT_Artifact\\Black_Litterman_Risk_Parity_Portfolio_Optimisation\\env\\lib\\site-packages\\pypfopt\\plotting.py:162\u001b[0m, in \u001b[0;36m_ef_default_returns_range\u001b[1;34m(ef, points)\u001b[0m\n\u001b[0;32m    159\u001b[0m ef_minvol \u001b[38;5;241m=\u001b[39m ef\u001b[38;5;241m.\u001b[39mdeepcopy()\n\u001b[0;32m    160\u001b[0m ef_maxret \u001b[38;5;241m=\u001b[39m ef\u001b[38;5;241m.\u001b[39mdeepcopy()\n\u001b[1;32m--> 162\u001b[0m \u001b[43mef_minvol\u001b[49m\u001b[38;5;241;43m.\u001b[39;49m\u001b[43mmin_volatility\u001b[49m\u001b[43m(\u001b[49m\u001b[43m)\u001b[49m\n\u001b[0;32m    163\u001b[0m min_ret \u001b[38;5;241m=\u001b[39m ef_minvol\u001b[38;5;241m.\u001b[39mportfolio_performance()[\u001b[38;5;241m0\u001b[39m]\n\u001b[0;32m    164\u001b[0m max_ret \u001b[38;5;241m=\u001b[39m ef_maxret\u001b[38;5;241m.\u001b[39m_max_return()\n",
      "File \u001b[1;32mc:\\Users\\chana\\OneDrive\\Documents\\University of Liverpool\\Dissertation\\IT_Artifact\\Black_Litterman_Risk_Parity_Portfolio_Optimisation\\env\\lib\\site-packages\\pypfopt\\efficient_frontier\\efficient_frontier.py:199\u001b[0m, in \u001b[0;36mEfficientFrontier.min_volatility\u001b[1;34m(self)\u001b[0m\n\u001b[0;32m    196\u001b[0m \u001b[38;5;28;01mfor\u001b[39;00m obj \u001b[38;5;129;01min\u001b[39;00m \u001b[38;5;28mself\u001b[39m\u001b[38;5;241m.\u001b[39m_additional_objectives:\n\u001b[0;32m    197\u001b[0m     \u001b[38;5;28mself\u001b[39m\u001b[38;5;241m.\u001b[39m_objective \u001b[38;5;241m+\u001b[39m\u001b[38;5;241m=\u001b[39m obj\n\u001b[1;32m--> 199\u001b[0m \u001b[38;5;28;43mself\u001b[39;49m\u001b[38;5;241;43m.\u001b[39;49m\u001b[43madd_constraint\u001b[49m\u001b[43m(\u001b[49m\u001b[38;5;28;43;01mlambda\u001b[39;49;00m\u001b[43m \u001b[49m\u001b[43mw\u001b[49m\u001b[43m:\u001b[49m\u001b[43m \u001b[49m\u001b[43mcp\u001b[49m\u001b[38;5;241;43m.\u001b[39;49m\u001b[43msum\u001b[49m\u001b[43m(\u001b[49m\u001b[43mw\u001b[49m\u001b[43m)\u001b[49m\u001b[43m \u001b[49m\u001b[38;5;241;43m==\u001b[39;49m\u001b[43m \u001b[49m\u001b[38;5;241;43m1\u001b[39;49m\u001b[43m)\u001b[49m\n\u001b[0;32m    200\u001b[0m \u001b[38;5;28;01mreturn\u001b[39;00m \u001b[38;5;28mself\u001b[39m\u001b[38;5;241m.\u001b[39m_solve_cvxpy_opt_problem()\n",
      "File \u001b[1;32mc:\\Users\\chana\\OneDrive\\Documents\\University of Liverpool\\Dissertation\\IT_Artifact\\Black_Litterman_Risk_Parity_Portfolio_Optimisation\\env\\lib\\site-packages\\pypfopt\\base_optimizer.py:360\u001b[0m, in \u001b[0;36mBaseConvexOptimizer.add_constraint\u001b[1;34m(self, new_constraint)\u001b[0m\n\u001b[0;32m    356\u001b[0m     \u001b[38;5;28;01mraise\u001b[39;00m \u001b[38;5;167;01mTypeError\u001b[39;00m(\n\u001b[0;32m    357\u001b[0m         \u001b[38;5;124m\"\u001b[39m\u001b[38;5;124mNew constraint must be provided as a callable (e.g lambda function)\u001b[39m\u001b[38;5;124m\"\u001b[39m\n\u001b[0;32m    358\u001b[0m     )\n\u001b[0;32m    359\u001b[0m \u001b[38;5;28;01mif\u001b[39;00m \u001b[38;5;28mself\u001b[39m\u001b[38;5;241m.\u001b[39m_opt \u001b[38;5;129;01mis\u001b[39;00m \u001b[38;5;129;01mnot\u001b[39;00m \u001b[38;5;28;01mNone\u001b[39;00m:\n\u001b[1;32m--> 360\u001b[0m     \u001b[38;5;28;01mraise\u001b[39;00m exceptions\u001b[38;5;241m.\u001b[39mInstantiationError(\n\u001b[0;32m    361\u001b[0m         \u001b[38;5;124m\"\u001b[39m\u001b[38;5;124mAdding constraints to an already solved problem might have unintended consequences. \u001b[39m\u001b[38;5;124m\"\u001b[39m\n\u001b[0;32m    362\u001b[0m         \u001b[38;5;124m\"\u001b[39m\u001b[38;5;124mA new instance should be created for the new set of constraints.\u001b[39m\u001b[38;5;124m\"\u001b[39m\n\u001b[0;32m    363\u001b[0m     )\n\u001b[0;32m    364\u001b[0m \u001b[38;5;28mself\u001b[39m\u001b[38;5;241m.\u001b[39m_constraints\u001b[38;5;241m.\u001b[39mappend(new_constraint(\u001b[38;5;28mself\u001b[39m\u001b[38;5;241m.\u001b[39m_w))\n",
      "\u001b[1;31mInstantiationError\u001b[0m: Adding constraints to an already solved problem might have unintended consequences. A new instance should be created for the new set of constraints."
     ]
    },
    {
     "data": {
      "image/png": "[encoded data removed]",
      "text/plain": [
       "<Figure size 640x480 with 1 Axes>"
      ]
     },
     "metadata": {},
     "output_type": "display_data"
    }
   ],
   "source": [
    "# Fetch stock data using yFinance\n",
    "tickers = [\"AAPL\", \"GOOG\", \"MSFT\", \"AMZN\"]\n",
    "data = yf.download(tickers, start=\"2020-01-01\", end=\"2023-01-01\")[\"Adj Close\"]\n",
    "\n",
    "# Calculate the historical mean returns and covariance matrix\n",
    "mu = expected_returns.mean_historical_return(data)\n",
    "S = risk_models.sample_cov(data)\n",
    "\n",
    "# Fetch S&P 500 data for market caps\n",
    "sp500 = yf.Ticker(\"^GSPC\")\n",
    "sp500_data = sp500.history(period=\"1d\")\n",
    "sp500_market_cap = sp500_data[\"Close\"].iloc[-1] * 1e9  # Approximation\n",
    "\n",
    "# Define the market prior (market capitalization weights)\n",
    "market_caps = np.array([2.3e12, 1.5e12, 2.0e12, 1.7e12])\n",
    "market_weights = market_caps / sp500_market_cap\n",
    "\n",
    "# Define absolute views\n",
    "# For example, we believe that the expected return of AAPL is 0.20 and MSFT is 0.15\n",
    "absolute_views = {\"AAPL\": 0.20, \"MSFT\": 0.15}\n",
    "\n",
    "# Create the Black-Litterman model\n",
    "bl = BlackLittermanModel(S, pi=market_weights, absolute_views=absolute_views)\n",
    "\n",
    "# Get the posterior expected returns and covariance matrix\n",
    "bl_return = bl.bl_returns()\n",
    "bl_cov = bl.bl_cov()\n",
    "\n",
    "# Optimize the portfolio using the posterior estimates\n",
    "ef = EfficientFrontier(bl_return, bl_cov)\n",
    "weights = ef.min_volatility()\n",
    "cleaned_weights = ef.clean_weights()\n",
    "\n",
    "print(\"Optimized Weights:\", cleaned_weights)\n",
    "\n",
    "# Plot the efficient frontier\n",
    "plotting.plot_efficient_frontier(ef, show_assets=True)"
   ]
  }
 ],
 "metadata": {
  "kernelspec": {
   "display_name": "env",
   "language": "python",
   "name": "python3"
  },
  "language_info": {
   "codemirror_mode": {
    "name": "ipython",
    "version": 3
   },
   "file_extension": ".py",
   "mimetype": "text/x-python",
   "name": "python",
   "nbconvert_exporter": "python",
   "pygments_lexer": "ipython3",
   "version": "3.10.11"
  }
 },
 "nbformat": 4,
 "nbformat_minor": 2
}
