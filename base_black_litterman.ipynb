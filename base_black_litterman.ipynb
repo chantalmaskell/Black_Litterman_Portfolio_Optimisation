{
 "cells": [
  {
   "cell_type": "markdown",
   "metadata": {},
   "source": [
    "## Benchmark Black Litterman"
   ]
  },
  {
   "cell_type": "code",
   "execution_count": 29,
   "metadata": {},
   "outputs": [],
   "source": [
    "import numpy as np\n",
    "import pandas as pd\n",
    "import scipy as sp\n",
    "import yfinance as yf\n",
    "import pypfopt \n",
    "import matplotlib.pyplot as plt\n",
    "\n",
    "from pypfopt import black_litterman, plotting, objective_functions, risk_models\n",
    "from pypfopt import BlackLittermanModel\n",
    "from pypfopt.efficient_frontier import EfficientFrontier\n",
    "from pypfopt.discrete_allocation import DiscreteAllocation, get_latest_prices"
   ]
  },
  {
   "cell_type": "markdown",
   "metadata": {},
   "source": [
    "### Data Collection"
   ]
  },
  {
   "cell_type": "code",
   "execution_count": null,
   "metadata": {},
   "outputs": [
    {
     "name": "stderr",
     "output_type": "stream",
     "text": [
      "[*********************100%***********************]  7 of 7 completed\n"
     ]
    },
    {
     "data": {
      "text/html": [
       "<div>\n",
       "<style scoped>\n",
       "    .dataframe tbody tr th:only-of-type {\n",
       "        vertical-align: middle;\n",
       "    }\n",
       "\n",
       "    .dataframe tbody tr th {\n",
       "        vertical-align: top;\n",
       "    }\n",
       "\n",
       "    .dataframe thead th {\n",
       "        text-align: right;\n",
       "    }\n",
       "</style>\n",
       "<table border=\"1\" class=\"dataframe\">\n",
       "  <thead>\n",
       "    <tr style=\"text-align: right;\">\n",
       "      <th>Ticker</th>\n",
       "      <th>AMD</th>\n",
       "      <th>AMZN</th>\n",
       "      <th>INTC</th>\n",
       "      <th>META</th>\n",
       "      <th>NVDA</th>\n",
       "      <th>RIVN</th>\n",
       "      <th>TSLA</th>\n",
       "    </tr>\n",
       "    <tr>\n",
       "      <th>Date</th>\n",
       "      <th></th>\n",
       "      <th></th>\n",
       "      <th></th>\n",
       "      <th></th>\n",
       "      <th></th>\n",
       "      <th></th>\n",
       "      <th></th>\n",
       "    </tr>\n",
       "  </thead>\n",
       "  <tbody>\n",
       "    <tr>\n",
       "      <th>2023-12-15 00:00:00+00:00</th>\n",
       "      <td>139.149994</td>\n",
       "      <td>149.970001</td>\n",
       "      <td>45.549957</td>\n",
       "      <td>333.645508</td>\n",
       "      <td>48.876141</td>\n",
       "      <td>22.830000</td>\n",
       "      <td>253.500000</td>\n",
       "    </tr>\n",
       "    <tr>\n",
       "      <th>2023-12-18 00:00:00+00:00</th>\n",
       "      <td>138.899994</td>\n",
       "      <td>154.070007</td>\n",
       "      <td>45.086166</td>\n",
       "      <td>343.308594</td>\n",
       "      <td>50.062805</td>\n",
       "      <td>23.799999</td>\n",
       "      <td>252.080002</td>\n",
       "    </tr>\n",
       "    <tr>\n",
       "      <th>2023-12-19 00:00:00+00:00</th>\n",
       "      <td>140.149994</td>\n",
       "      <td>153.789993</td>\n",
       "      <td>46.043350</td>\n",
       "      <td>349.026733</td>\n",
       "      <td>49.589939</td>\n",
       "      <td>24.350000</td>\n",
       "      <td>257.220001</td>\n",
       "    </tr>\n",
       "    <tr>\n",
       "      <th>2023-12-20 00:00:00+00:00</th>\n",
       "      <td>135.470001</td>\n",
       "      <td>152.119995</td>\n",
       "      <td>45.155239</td>\n",
       "      <td>347.950836</td>\n",
       "      <td>48.097359</td>\n",
       "      <td>23.180000</td>\n",
       "      <td>247.139999</td>\n",
       "    </tr>\n",
       "    <tr>\n",
       "      <th>2023-12-21 00:00:00+00:00</th>\n",
       "      <td>139.910004</td>\n",
       "      <td>153.839996</td>\n",
       "      <td>46.457802</td>\n",
       "      <td>352.742523</td>\n",
       "      <td>48.976116</td>\n",
       "      <td>23.580000</td>\n",
       "      <td>254.500000</td>\n",
       "    </tr>\n",
       "    <tr>\n",
       "      <th>2023-12-22 00:00:00+00:00</th>\n",
       "      <td>139.600006</td>\n",
       "      <td>153.419998</td>\n",
       "      <td>47.365639</td>\n",
       "      <td>352.045227</td>\n",
       "      <td>48.816162</td>\n",
       "      <td>23.209999</td>\n",
       "      <td>252.539993</td>\n",
       "    </tr>\n",
       "    <tr>\n",
       "      <th>2023-12-26 00:00:00+00:00</th>\n",
       "      <td>143.410004</td>\n",
       "      <td>153.410004</td>\n",
       "      <td>49.832600</td>\n",
       "      <td>353.479736</td>\n",
       "      <td>49.265030</td>\n",
       "      <td>23.590000</td>\n",
       "      <td>256.609985</td>\n",
       "    </tr>\n",
       "    <tr>\n",
       "      <th>2023-12-27 00:00:00+00:00</th>\n",
       "      <td>146.070007</td>\n",
       "      <td>153.339996</td>\n",
       "      <td>50.089161</td>\n",
       "      <td>356.468323</td>\n",
       "      <td>49.402988</td>\n",
       "      <td>23.730000</td>\n",
       "      <td>261.440002</td>\n",
       "    </tr>\n",
       "    <tr>\n",
       "      <th>2023-12-28 00:00:00+00:00</th>\n",
       "      <td>148.759995</td>\n",
       "      <td>153.380005</td>\n",
       "      <td>49.724056</td>\n",
       "      <td>356.956451</td>\n",
       "      <td>49.507965</td>\n",
       "      <td>23.540001</td>\n",
       "      <td>253.179993</td>\n",
       "    </tr>\n",
       "    <tr>\n",
       "      <th>2023-12-29 00:00:00+00:00</th>\n",
       "      <td>147.410004</td>\n",
       "      <td>151.940002</td>\n",
       "      <td>49.585903</td>\n",
       "      <td>352.613037</td>\n",
       "      <td>49.507965</td>\n",
       "      <td>23.459999</td>\n",
       "      <td>248.479996</td>\n",
       "    </tr>\n",
       "  </tbody>\n",
       "</table>\n",
       "</div>"
      ],
      "text/plain": [
       "Ticker                            AMD        AMZN       INTC        META  \\\n",
       "Date                                                                       \n",
       "2023-12-15 00:00:00+00:00  139.149994  149.970001  45.549957  333.645508   \n",
       "2023-12-18 00:00:00+00:00  138.899994  154.070007  45.086166  343.308594   \n",
       "2023-12-19 00:00:00+00:00  140.149994  153.789993  46.043350  349.026733   \n",
       "2023-12-20 00:00:00+00:00  135.470001  152.119995  45.155239  347.950836   \n",
       "2023-12-21 00:00:00+00:00  139.910004  153.839996  46.457802  352.742523   \n",
       "2023-12-22 00:00:00+00:00  139.600006  153.419998  47.365639  352.045227   \n",
       "2023-12-26 00:00:00+00:00  143.410004  153.410004  49.832600  353.479736   \n",
       "2023-12-27 00:00:00+00:00  146.070007  153.339996  50.089161  356.468323   \n",
       "2023-12-28 00:00:00+00:00  148.759995  153.380005  49.724056  356.956451   \n",
       "2023-12-29 00:00:00+00:00  147.410004  151.940002  49.585903  352.613037   \n",
       "\n",
       "Ticker                          NVDA       RIVN        TSLA  \n",
       "Date                                                         \n",
       "2023-12-15 00:00:00+00:00  48.876141  22.830000  253.500000  \n",
       "2023-12-18 00:00:00+00:00  50.062805  23.799999  252.080002  \n",
       "2023-12-19 00:00:00+00:00  49.589939  24.350000  257.220001  \n",
       "2023-12-20 00:00:00+00:00  48.097359  23.180000  247.139999  \n",
       "2023-12-21 00:00:00+00:00  48.976116  23.580000  254.500000  \n",
       "2023-12-22 00:00:00+00:00  48.816162  23.209999  252.539993  \n",
       "2023-12-26 00:00:00+00:00  49.265030  23.590000  256.609985  \n",
       "2023-12-27 00:00:00+00:00  49.402988  23.730000  261.440002  \n",
       "2023-12-28 00:00:00+00:00  49.507965  23.540001  253.179993  \n",
       "2023-12-29 00:00:00+00:00  49.507965  23.459999  248.479996  "
      ]
     },
     "execution_count": 31,
     "metadata": {},
     "output_type": "execute_result"
    }
   ],
   "source": [
    "tickers = [\"TSLA\", \"NVDA\", \"AMZN\", \"META\", \"RIVN\", \"INTC\", \"AMD\"]\n",
    "\n",
    "start_date = '2013-01-01'\n",
    "end_date = '2024-01-01'\n",
    "\n",
    "data = yf.download(tickers, start=start_date, end=end_date)\n",
    "data.to_csv(\"./Data/tickers.csv\")\n",
    "\n",
    "closing_prices = data[\"Adj Close\"]\n",
    "returns = np.log(closing_prices / closing_prices.shift(1).dropna())\n",
    "\n",
    "def get_market_prices_and_caps(tickers, start_date, end_date):\n",
    "    market_prices = yf.download(\"VOO\", start=start_date, end=end_date)[\"Adj Close\"]\n",
    "\n",
    "    market_caps = {}\n",
    "    for ticker in tickers:\n",
    "        stock = yf.Ticker(ticker)\n",
    "        market_caps[ticker] = stock.info.get(\"marketCap\", None)\n",
    "\n",
    "    return market_prices, market_caps\n",
    "\n",
    "closing_prices.tail(10)"
   ]
  },
  {
   "cell_type": "code",
   "execution_count": 32,
   "metadata": {},
   "outputs": [
    {
     "data": {
      "text/plain": [
       "<Axes: >"
      ]
     },
     "execution_count": 32,
     "metadata": {},
     "output_type": "execute_result"
    },
    {
     "data": {
      "image/png": "[encoded data removed]",
      "text/plain": [
       "<Figure size 640x480 with 2 Axes>"
      ]
     },
     "metadata": {},
     "output_type": "display_data"
    }
   ],
   "source": [
    "covariance_matrix = returns.cov()\n",
    "plotting.plot_covariance(covariance_matrix, plot_correlation=True)"
   ]
  },
  {
   "cell_type": "code",
   "execution_count": 33,
   "metadata": {},
   "outputs": [
    {
     "data": {
      "text/html": [
       "<div>\n",
       "<style scoped>\n",
       "    .dataframe tbody tr th:only-of-type {\n",
       "        vertical-align: middle;\n",
       "    }\n",
       "\n",
       "    .dataframe tbody tr th {\n",
       "        vertical-align: top;\n",
       "    }\n",
       "\n",
       "    .dataframe thead th {\n",
       "        text-align: right;\n",
       "    }\n",
       "</style>\n",
       "<table border=\"1\" class=\"dataframe\">\n",
       "  <thead>\n",
       "    <tr style=\"text-align: right;\">\n",
       "      <th>Ticker</th>\n",
       "      <th>AMD</th>\n",
       "      <th>AMZN</th>\n",
       "      <th>INTC</th>\n",
       "      <th>META</th>\n",
       "      <th>NVDA</th>\n",
       "      <th>RIVN</th>\n",
       "      <th>TSLA</th>\n",
       "    </tr>\n",
       "    <tr>\n",
       "      <th>Ticker</th>\n",
       "      <th></th>\n",
       "      <th></th>\n",
       "      <th></th>\n",
       "      <th></th>\n",
       "      <th></th>\n",
       "      <th></th>\n",
       "      <th></th>\n",
       "    </tr>\n",
       "  </thead>\n",
       "  <tbody>\n",
       "    <tr>\n",
       "      <th>AMD</th>\n",
       "      <td>0.001181</td>\n",
       "      <td>0.000547</td>\n",
       "      <td>0.000489</td>\n",
       "      <td>0.000602</td>\n",
       "      <td>0.000990</td>\n",
       "      <td>0.000892</td>\n",
       "      <td>0.000709</td>\n",
       "    </tr>\n",
       "    <tr>\n",
       "      <th>AMZN</th>\n",
       "      <td>0.000547</td>\n",
       "      <td>0.000687</td>\n",
       "      <td>0.000286</td>\n",
       "      <td>0.000529</td>\n",
       "      <td>0.000567</td>\n",
       "      <td>0.000604</td>\n",
       "      <td>0.000501</td>\n",
       "    </tr>\n",
       "    <tr>\n",
       "      <th>INTC</th>\n",
       "      <td>0.000489</td>\n",
       "      <td>0.000286</td>\n",
       "      <td>0.000563</td>\n",
       "      <td>0.000376</td>\n",
       "      <td>0.000436</td>\n",
       "      <td>0.000425</td>\n",
       "      <td>0.000348</td>\n",
       "    </tr>\n",
       "    <tr>\n",
       "      <th>META</th>\n",
       "      <td>0.000602</td>\n",
       "      <td>0.000529</td>\n",
       "      <td>0.000376</td>\n",
       "      <td>0.001150</td>\n",
       "      <td>0.000633</td>\n",
       "      <td>0.000644</td>\n",
       "      <td>0.000476</td>\n",
       "    </tr>\n",
       "    <tr>\n",
       "      <th>NVDA</th>\n",
       "      <td>0.000990</td>\n",
       "      <td>0.000567</td>\n",
       "      <td>0.000436</td>\n",
       "      <td>0.000633</td>\n",
       "      <td>0.001252</td>\n",
       "      <td>0.000897</td>\n",
       "      <td>0.000791</td>\n",
       "    </tr>\n",
       "    <tr>\n",
       "      <th>RIVN</th>\n",
       "      <td>0.000892</td>\n",
       "      <td>0.000604</td>\n",
       "      <td>0.000425</td>\n",
       "      <td>0.000644</td>\n",
       "      <td>0.000897</td>\n",
       "      <td>0.002920</td>\n",
       "      <td>0.001124</td>\n",
       "    </tr>\n",
       "    <tr>\n",
       "      <th>TSLA</th>\n",
       "      <td>0.000709</td>\n",
       "      <td>0.000501</td>\n",
       "      <td>0.000348</td>\n",
       "      <td>0.000476</td>\n",
       "      <td>0.000791</td>\n",
       "      <td>0.001124</td>\n",
       "      <td>0.001462</td>\n",
       "    </tr>\n",
       "  </tbody>\n",
       "</table>\n",
       "</div>"
      ],
      "text/plain": [
       "Ticker       AMD      AMZN      INTC      META      NVDA      RIVN      TSLA\n",
       "Ticker                                                                      \n",
       "AMD     0.001181  0.000547  0.000489  0.000602  0.000990  0.000892  0.000709\n",
       "AMZN    0.000547  0.000687  0.000286  0.000529  0.000567  0.000604  0.000501\n",
       "INTC    0.000489  0.000286  0.000563  0.000376  0.000436  0.000425  0.000348\n",
       "META    0.000602  0.000529  0.000376  0.001150  0.000633  0.000644  0.000476\n",
       "NVDA    0.000990  0.000567  0.000436  0.000633  0.001252  0.000897  0.000791\n",
       "RIVN    0.000892  0.000604  0.000425  0.000644  0.000897  0.002920  0.001124\n",
       "TSLA    0.000709  0.000501  0.000348  0.000476  0.000791  0.001124  0.001462"
      ]
     },
     "execution_count": 33,
     "metadata": {},
     "output_type": "execute_result"
    }
   ],
   "source": [
    "covariance_matrix"
   ]
  },
  {
   "cell_type": "markdown",
   "metadata": {},
   "source": [
    "### Get Prior and Delta"
   ]
  },
  {
   "cell_type": "code",
   "execution_count": 34,
   "metadata": {},
   "outputs": [
    {
     "name": "stderr",
     "output_type": "stream",
     "text": [
      "[*********************100%***********************]  1 of 1 completed\n"
     ]
    },
    {
     "data": {
      "text/plain": [
       "Date\n",
       "2013-01-02    108.388977\n",
       "2013-01-03    108.291573\n",
       "2013-01-04    108.745903\n",
       "2013-01-07    108.453873\n",
       "2013-01-08    108.129356\n",
       "                 ...    \n",
       "2023-12-22    431.015472\n",
       "2023-12-26    432.807678\n",
       "2023-12-27    433.599823\n",
       "2023-12-28    433.669128\n",
       "2023-12-29    432.510620\n",
       "Name: Adj Close, Length: 2768, dtype: float64"
      ]
     },
     "execution_count": 34,
     "metadata": {},
     "output_type": "execute_result"
    }
   ],
   "source": [
    "market_prices, market_caps = get_market_prices_and_caps(tickers, start_date, end_date)\n",
    "delta = black_litterman.market_implied_risk_aversion(market_prices)\n",
    "\n",
    "prior = black_litterman.market_implied_prior_returns(market_caps, delta, covariance_matrix)\n",
    "\n",
    "market_caps\n",
    "market_prices"
   ]
  },
  {
   "cell_type": "markdown",
   "metadata": {},
   "source": [
    "### Define Investor Views"
   ]
  },
  {
   "cell_type": "code",
   "execution_count": 35,
   "metadata": {},
   "outputs": [],
   "source": [
    "relative_views = np.array([0.20, 0.15, 0.10, -0.07]).reshape(-1, 1)\n",
    "\n",
    "confidences = [0.2, 0.2, 0.2, 0.2]\n",
    "\n",
    "picking_matrix = np.array([\n",
    "    [1, 0, -1, 0, 0, 0, 0],  # TSLA - AMZN\n",
    "    [0, 1, 0, -1, 0, 0, 0],  # NVDA - META\n",
    "    [0, 0, 0, 1, 0, 0, -1],  # META - AMD\n",
    "    [0, 0, 0, 0, 0, -1, 1]   # INTC - AMD\n",
    "])\n",
    "\n",
    "bl = BlackLittermanModel(\n",
    "    cov_matrix=covariance_matrix, \n",
    "    pi=prior, \n",
    "    absolute_views=None, \n",
    "    Q=relative_views, \n",
    "    P=picking_matrix, \n",
    "    omega=\"idzorek\", \n",
    "    view_confidences=confidences, \n",
    "    tau=0.025, \n",
    "    risk_aversion=delta\n",
    ")"
   ]
  },
  {
   "cell_type": "code",
   "execution_count": 36,
   "metadata": {},
   "outputs": [
    {
     "data": {
      "image/png": "[encoded data removed]",
      "text/plain": [
       "<Figure size 500x500 with 1 Axes>"
      ]
     },
     "metadata": {},
     "output_type": "display_data"
    },
    {
     "data": {
      "text/plain": [
       "array([7.65875583e-05, 7.80082738e-05, 1.66030533e-04, 2.13560055e-04])"
      ]
     },
     "execution_count": 36,
     "metadata": {},
     "output_type": "execute_result"
    }
   ],
   "source": [
    "tickers_with_views = [\"AMZN\", \"META\", \"INTC\", \"AMD\"]\n",
    "\n",
    "fig, ax = plt.subplots(figsize=(5,5))\n",
    "im = ax.imshow(bl.omega)\n",
    "\n",
    "ax.set_xticks(np.arange(len(tickers_with_views)))\n",
    "ax.set_yticks(np.arange(len(tickers_with_views)))\n",
    "\n",
    "ax.set_xticklabels(tickers_with_views)\n",
    "ax.set_yticklabels(tickers_with_views)\n",
    "plt.show()\n",
    "\n",
    "np.diag(bl.omega)"
   ]
  },
  {
   "cell_type": "code",
   "execution_count": 37,
   "metadata": {},
   "outputs": [
    {
     "data": {
      "text/plain": [
       "Ticker\n",
       "AMD     0.056108\n",
       "AMZN    0.043376\n",
       "INTC    0.014922\n",
       "META    0.020641\n",
       "NVDA    0.047659\n",
       "RIVN    0.048232\n",
       "TSLA    0.025419\n",
       "dtype: float64"
      ]
     },
     "execution_count": 37,
     "metadata": {},
     "output_type": "execute_result"
    }
   ],
   "source": [
    "bl_returns = bl.bl_returns()\n",
    "bl_returns"
   ]
  },
  {
   "cell_type": "code",
   "execution_count": 38,
   "metadata": {},
   "outputs": [
    {
     "data": {
      "text/html": [
       "<div>\n",
       "<style scoped>\n",
       "    .dataframe tbody tr th:only-of-type {\n",
       "        vertical-align: middle;\n",
       "    }\n",
       "\n",
       "    .dataframe tbody tr th {\n",
       "        vertical-align: top;\n",
       "    }\n",
       "\n",
       "    .dataframe thead th {\n",
       "        text-align: right;\n",
       "    }\n",
       "</style>\n",
       "<table border=\"1\" class=\"dataframe\">\n",
       "  <thead>\n",
       "    <tr style=\"text-align: right;\">\n",
       "      <th></th>\n",
       "      <th>Prior</th>\n",
       "      <th>Posterior</th>\n",
       "      <th>Views</th>\n",
       "    </tr>\n",
       "  </thead>\n",
       "  <tbody>\n",
       "    <tr>\n",
       "      <th>AMD</th>\n",
       "      <td>0.023123</td>\n",
       "      <td>0.056108</td>\n",
       "      <td>NaN</td>\n",
       "    </tr>\n",
       "    <tr>\n",
       "      <th>AMZN</th>\n",
       "      <td>0.022366</td>\n",
       "      <td>0.043376</td>\n",
       "      <td>0.10</td>\n",
       "    </tr>\n",
       "    <tr>\n",
       "      <th>INTC</th>\n",
       "      <td>0.021534</td>\n",
       "      <td>0.014922</td>\n",
       "      <td>NaN</td>\n",
       "    </tr>\n",
       "    <tr>\n",
       "      <th>META</th>\n",
       "      <td>0.022721</td>\n",
       "      <td>0.020641</td>\n",
       "      <td>-0.07</td>\n",
       "    </tr>\n",
       "    <tr>\n",
       "      <th>NVDA</th>\n",
       "      <td>0.023605</td>\n",
       "      <td>0.047659</td>\n",
       "      <td>0.15</td>\n",
       "    </tr>\n",
       "    <tr>\n",
       "      <th>RIVN</th>\n",
       "      <td>0.023313</td>\n",
       "      <td>0.048232</td>\n",
       "      <td>NaN</td>\n",
       "    </tr>\n",
       "    <tr>\n",
       "      <th>TSLA</th>\n",
       "      <td>0.023103</td>\n",
       "      <td>0.025419</td>\n",
       "      <td>0.20</td>\n",
       "    </tr>\n",
       "  </tbody>\n",
       "</table>\n",
       "</div>"
      ],
      "text/plain": [
       "         Prior  Posterior  Views\n",
       "AMD   0.023123   0.056108    NaN\n",
       "AMZN  0.022366   0.043376   0.10\n",
       "INTC  0.021534   0.014922    NaN\n",
       "META  0.022721   0.020641  -0.07\n",
       "NVDA  0.023605   0.047659   0.15\n",
       "RIVN  0.023313   0.048232    NaN\n",
       "TSLA  0.023103   0.025419   0.20"
      ]
     },
     "execution_count": 38,
     "metadata": {},
     "output_type": "execute_result"
    }
   ],
   "source": [
    "relative_views_series = pd.Series(np.nan, index=tickers)\n",
    "relative_views_series[:len(relative_views)] = relative_views.flatten()\n",
    "\n",
    "returns_df = pd.DataFrame([prior, bl_returns, relative_views_series], index=[\"Prior\", \"Posterior\", \"Views\"]).T\n",
    "returns_df"
   ]
  },
  {
   "cell_type": "code",
   "execution_count": 39,
   "metadata": {},
   "outputs": [
    {
     "data": {
      "text/plain": [
       "<Axes: >"
      ]
     },
     "execution_count": 39,
     "metadata": {},
     "output_type": "execute_result"
    },
    {
     "data": {
      "image/png": "[encoded data removed]",
      "text/plain": [
       "<Figure size 640x480 with 1 Axes>"
      ]
     },
     "metadata": {},
     "output_type": "display_data"
    },
    {
     "data": {
      "image/png": "[encoded data removed]",
      "text/plain": [
       "<Figure size 640x480 with 2 Axes>"
      ]
     },
     "metadata": {},
     "output_type": "display_data"
    }
   ],
   "source": [
    "# visualisation of above\n",
    "returns_df.plot.bar()\n",
    "\n",
    "posterior_cov = bl.bl_cov()\n",
    "plotting.plot_covariance(posterior_cov)"
   ]
  },
  {
   "cell_type": "markdown",
   "metadata": {},
   "source": [
    "### Efficient Frontier Weights"
   ]
  },
  {
   "cell_type": "code",
   "execution_count": 40,
   "metadata": {},
   "outputs": [
    {
     "data": {
      "text/plain": [
       "OrderedDict([('AMD', 0.60588),\n",
       "             ('AMZN', 0.39412),\n",
       "             ('INTC', 0.0),\n",
       "             ('META', 0.0),\n",
       "             ('NVDA', 0.0),\n",
       "             ('RIVN', 0.0),\n",
       "             ('TSLA', 0.0)])"
      ]
     },
     "execution_count": 40,
     "metadata": {},
     "output_type": "execute_result"
    }
   ],
   "source": [
    "ef = EfficientFrontier(bl_returns, posterior_cov)\n",
    "# min_vol_weights = ef.min_volatility()\n",
    "max_sharpe_weights = ef.max_sharpe()\n",
    "\n",
    "cleaned_weights = ef.clean_weights()\n",
    "cleaned_weights"
   ]
  },
  {
   "cell_type": "markdown",
   "metadata": {},
   "source": [
    "### Plot Asset Allocation"
   ]
  },
  {
   "cell_type": "code",
   "execution_count": 41,
   "metadata": {},
   "outputs": [
    {
     "data": {
      "image/png": "[encoded data removed]",
      "text/plain": [
       "<Figure size 640x480 with 1 Axes>"
      ]
     },
     "metadata": {},
     "output_type": "display_data"
    }
   ],
   "source": [
    "model_1_allocations = pd.Series(cleaned_weights).plot.pie()"
   ]
  },
  {
   "cell_type": "markdown",
   "metadata": {},
   "source": [
    "### Portfolio Performance"
   ]
  },
  {
   "cell_type": "code",
   "execution_count": 42,
   "metadata": {},
   "outputs": [
    {
     "name": "stdout",
     "output_type": "stream",
     "text": [
      "Expected annual return: 5.1%\n",
      "Annual volatility: 2.9%\n",
      "Sharpe Ratio: 1.09\n"
     ]
    },
    {
     "data": {
      "text/plain": [
       "(0.051090101998454845, 0.028633779344246275, 1.0857840882503744)"
      ]
     },
     "execution_count": 42,
     "metadata": {},
     "output_type": "execute_result"
    }
   ],
   "source": [
    "ef.portfolio_performance(verbose=True)"
   ]
  },
  {
   "cell_type": "code",
   "execution_count": 43,
   "metadata": {},
   "outputs": [],
   "source": [
    "# latest_prices = get_latest_prices(data)\n",
    "# da = DiscreteAllocation(cleaned_weights, latest_prices, total_portfolio_value=10000)\n",
    "# allocation, leftover = da.lp_portfolio()\n",
    "\n",
    "# #  quantities of shares that should be bought to have a 10,000£ portfolio\n",
    "# print(allocation)"
   ]
  }
 ],
 "metadata": {
  "kernelspec": {
   "display_name": ".venv",
   "language": "python",
   "name": "python3"
  },
  "language_info": {
   "codemirror_mode": {
    "name": "ipython",
    "version": 3
   },
   "file_extension": ".py",
   "mimetype": "text/x-python",
   "name": "python",
   "nbconvert_exporter": "python",
   "pygments_lexer": "ipython3",
   "version": "3.10.6"
  }
 },
 "nbformat": 4,
 "nbformat_minor": 2
}
