{
 "cells": [
  {
   "cell_type": "code",
   "execution_count": 197,
   "metadata": {},
   "outputs": [],
   "source": [
    "import numpy as np\n",
    "import pandas as pd\n",
    "import scipy as sp\n",
    "import yfinance as yf\n",
    "import pypfopt \n",
    "import matplotlib.pyplot as plt\n",
    "\n",
    "from pypfopt import black_litterman, plotting, objective_functions, risk_models\n",
    "from pypfopt import BlackLittermanModel\n",
    "from pypfopt.efficient_frontier import EfficientFrontier"
   ]
  },
  {
   "cell_type": "code",
   "execution_count": 198,
   "metadata": {},
   "outputs": [],
   "source": [
    "tickers = [\"TSLA\", \"NVDA\", \"AMZN\", \"META\", \"RIVN\", \"INTC\", \"AMD\"] # Initial asset universe\n",
    "start_date = '2013-01-01'\n",
    "end_date = '2024-01-01'"
   ]
  },
  {
   "cell_type": "code",
   "execution_count": 199,
   "metadata": {},
   "outputs": [
    {
     "name": "stderr",
     "output_type": "stream",
     "text": [
      "[*********************100%***********************]  7 of 7 completed\n"
     ]
    },
    {
     "data": {
      "text/html": [
       "<div>\n",
       "<style scoped>\n",
       "    .dataframe tbody tr th:only-of-type {\n",
       "        vertical-align: middle;\n",
       "    }\n",
       "\n",
       "    .dataframe tbody tr th {\n",
       "        vertical-align: top;\n",
       "    }\n",
       "\n",
       "    .dataframe thead th {\n",
       "        text-align: right;\n",
       "    }\n",
       "</style>\n",
       "<table border=\"1\" class=\"dataframe\">\n",
       "  <thead>\n",
       "    <tr style=\"text-align: right;\">\n",
       "      <th>Ticker</th>\n",
       "      <th>AMD</th>\n",
       "      <th>AMZN</th>\n",
       "      <th>INTC</th>\n",
       "      <th>META</th>\n",
       "      <th>NVDA</th>\n",
       "      <th>RIVN</th>\n",
       "      <th>TSLA</th>\n",
       "    </tr>\n",
       "    <tr>\n",
       "      <th>Date</th>\n",
       "      <th></th>\n",
       "      <th></th>\n",
       "      <th></th>\n",
       "      <th></th>\n",
       "      <th></th>\n",
       "      <th></th>\n",
       "      <th></th>\n",
       "    </tr>\n",
       "  </thead>\n",
       "  <tbody>\n",
       "    <tr>\n",
       "      <th>2023-12-22 00:00:00+00:00</th>\n",
       "      <td>139.600006</td>\n",
       "      <td>153.419998</td>\n",
       "      <td>47.365639</td>\n",
       "      <td>352.329163</td>\n",
       "      <td>48.819527</td>\n",
       "      <td>23.209999</td>\n",
       "      <td>252.539993</td>\n",
       "    </tr>\n",
       "    <tr>\n",
       "      <th>2023-12-26 00:00:00+00:00</th>\n",
       "      <td>143.410004</td>\n",
       "      <td>153.410004</td>\n",
       "      <td>49.832600</td>\n",
       "      <td>353.764832</td>\n",
       "      <td>49.268425</td>\n",
       "      <td>23.590000</td>\n",
       "      <td>256.609985</td>\n",
       "    </tr>\n",
       "    <tr>\n",
       "      <th>2023-12-27 00:00:00+00:00</th>\n",
       "      <td>146.070007</td>\n",
       "      <td>153.339996</td>\n",
       "      <td>50.089161</td>\n",
       "      <td>356.755829</td>\n",
       "      <td>49.406395</td>\n",
       "      <td>23.730000</td>\n",
       "      <td>261.440002</td>\n",
       "    </tr>\n",
       "    <tr>\n",
       "      <th>2023-12-28 00:00:00+00:00</th>\n",
       "      <td>148.759995</td>\n",
       "      <td>153.380005</td>\n",
       "      <td>49.724056</td>\n",
       "      <td>357.244354</td>\n",
       "      <td>49.511375</td>\n",
       "      <td>23.540001</td>\n",
       "      <td>253.179993</td>\n",
       "    </tr>\n",
       "    <tr>\n",
       "      <th>2023-12-29 00:00:00+00:00</th>\n",
       "      <td>147.410004</td>\n",
       "      <td>151.940002</td>\n",
       "      <td>49.585903</td>\n",
       "      <td>352.897491</td>\n",
       "      <td>49.511375</td>\n",
       "      <td>23.459999</td>\n",
       "      <td>248.479996</td>\n",
       "    </tr>\n",
       "  </tbody>\n",
       "</table>\n",
       "</div>"
      ],
      "text/plain": [
       "Ticker                            AMD        AMZN       INTC        META  \\\n",
       "Date                                                                       \n",
       "2023-12-22 00:00:00+00:00  139.600006  153.419998  47.365639  352.329163   \n",
       "2023-12-26 00:00:00+00:00  143.410004  153.410004  49.832600  353.764832   \n",
       "2023-12-27 00:00:00+00:00  146.070007  153.339996  50.089161  356.755829   \n",
       "2023-12-28 00:00:00+00:00  148.759995  153.380005  49.724056  357.244354   \n",
       "2023-12-29 00:00:00+00:00  147.410004  151.940002  49.585903  352.897491   \n",
       "\n",
       "Ticker                          NVDA       RIVN        TSLA  \n",
       "Date                                                         \n",
       "2023-12-22 00:00:00+00:00  48.819527  23.209999  252.539993  \n",
       "2023-12-26 00:00:00+00:00  49.268425  23.590000  256.609985  \n",
       "2023-12-27 00:00:00+00:00  49.406395  23.730000  261.440002  \n",
       "2023-12-28 00:00:00+00:00  49.511375  23.540001  253.179993  \n",
       "2023-12-29 00:00:00+00:00  49.511375  23.459999  248.479996  "
      ]
     },
     "execution_count": 199,
     "metadata": {},
     "output_type": "execute_result"
    }
   ],
   "source": [
    "data = yf.download(tickers, start=start_date, end=end_date)\n",
    "data.to_csv(\"./Data/historical_data.csv\")\n",
    "\n",
    "closing_prices = data[\"Adj Close\"]\n",
    "\n",
    "returns = np.log(closing_prices / closing_prices.shift(1).dropna())\n",
    "\n",
    "def get_market_prices_and_caps(tickers, start_date, end_date):\n",
    "    # VOO is Vanguard S&P 500 ETF\n",
    "    market_prices = yf.download(\"VOO\", start=start_date, end=end_date)[\"Adj Close\"]\n",
    "    # market_returns = np.log(market_prices / market_prices.shift(1)).dropna() \n",
    "\n",
    "    market_caps = {}\n",
    "    for ticker in tickers:\n",
    "        stock = yf.Ticker(ticker)\n",
    "        market_caps[ticker] = stock.info.get(\"marketCap\", None)  # Get market cap, with None if missing\n",
    "\n",
    "    return market_prices, market_caps\n",
    "\n",
    "closing_prices.tail()"
   ]
  },
  {
   "cell_type": "code",
   "execution_count": 200,
   "metadata": {},
   "outputs": [
    {
     "data": {
      "text/plain": [
       "<Axes: >"
      ]
     },
     "execution_count": 200,
     "metadata": {},
     "output_type": "execute_result"
    },
    {
     "data": {
      "image/png": "[encoded data removed]",
      "text/plain": [
       "<Figure size 640x480 with 2 Axes>"
      ]
     },
     "metadata": {},
     "output_type": "display_data"
    }
   ],
   "source": [
    "covariance_matrix = returns.cov()\n",
    "plotting.plot_covariance(covariance_matrix, plot_correlation=True)"
   ]
  },
  {
   "cell_type": "code",
   "execution_count": 201,
   "metadata": {},
   "outputs": [
    {
     "data": {
      "text/html": [
       "<div>\n",
       "<style scoped>\n",
       "    .dataframe tbody tr th:only-of-type {\n",
       "        vertical-align: middle;\n",
       "    }\n",
       "\n",
       "    .dataframe tbody tr th {\n",
       "        vertical-align: top;\n",
       "    }\n",
       "\n",
       "    .dataframe thead th {\n",
       "        text-align: right;\n",
       "    }\n",
       "</style>\n",
       "<table border=\"1\" class=\"dataframe\">\n",
       "  <thead>\n",
       "    <tr style=\"text-align: right;\">\n",
       "      <th>Ticker</th>\n",
       "      <th>AMD</th>\n",
       "      <th>AMZN</th>\n",
       "      <th>INTC</th>\n",
       "      <th>META</th>\n",
       "      <th>NVDA</th>\n",
       "      <th>RIVN</th>\n",
       "      <th>TSLA</th>\n",
       "    </tr>\n",
       "    <tr>\n",
       "      <th>Ticker</th>\n",
       "      <th></th>\n",
       "      <th></th>\n",
       "      <th></th>\n",
       "      <th></th>\n",
       "      <th></th>\n",
       "      <th></th>\n",
       "      <th></th>\n",
       "    </tr>\n",
       "  </thead>\n",
       "  <tbody>\n",
       "    <tr>\n",
       "      <th>AMD</th>\n",
       "      <td>0.001181</td>\n",
       "      <td>0.000547</td>\n",
       "      <td>0.000489</td>\n",
       "      <td>0.000602</td>\n",
       "      <td>0.000990</td>\n",
       "      <td>0.000892</td>\n",
       "      <td>0.000709</td>\n",
       "    </tr>\n",
       "    <tr>\n",
       "      <th>AMZN</th>\n",
       "      <td>0.000547</td>\n",
       "      <td>0.000687</td>\n",
       "      <td>0.000286</td>\n",
       "      <td>0.000529</td>\n",
       "      <td>0.000567</td>\n",
       "      <td>0.000604</td>\n",
       "      <td>0.000501</td>\n",
       "    </tr>\n",
       "    <tr>\n",
       "      <th>INTC</th>\n",
       "      <td>0.000489</td>\n",
       "      <td>0.000286</td>\n",
       "      <td>0.000563</td>\n",
       "      <td>0.000376</td>\n",
       "      <td>0.000436</td>\n",
       "      <td>0.000425</td>\n",
       "      <td>0.000348</td>\n",
       "    </tr>\n",
       "    <tr>\n",
       "      <th>META</th>\n",
       "      <td>0.000602</td>\n",
       "      <td>0.000529</td>\n",
       "      <td>0.000376</td>\n",
       "      <td>0.001150</td>\n",
       "      <td>0.000633</td>\n",
       "      <td>0.000644</td>\n",
       "      <td>0.000476</td>\n",
       "    </tr>\n",
       "    <tr>\n",
       "      <th>NVDA</th>\n",
       "      <td>0.000990</td>\n",
       "      <td>0.000567</td>\n",
       "      <td>0.000436</td>\n",
       "      <td>0.000633</td>\n",
       "      <td>0.001252</td>\n",
       "      <td>0.000897</td>\n",
       "      <td>0.000791</td>\n",
       "    </tr>\n",
       "    <tr>\n",
       "      <th>RIVN</th>\n",
       "      <td>0.000892</td>\n",
       "      <td>0.000604</td>\n",
       "      <td>0.000425</td>\n",
       "      <td>0.000644</td>\n",
       "      <td>0.000897</td>\n",
       "      <td>0.002920</td>\n",
       "      <td>0.001124</td>\n",
       "    </tr>\n",
       "    <tr>\n",
       "      <th>TSLA</th>\n",
       "      <td>0.000709</td>\n",
       "      <td>0.000501</td>\n",
       "      <td>0.000348</td>\n",
       "      <td>0.000476</td>\n",
       "      <td>0.000791</td>\n",
       "      <td>0.001124</td>\n",
       "      <td>0.001462</td>\n",
       "    </tr>\n",
       "  </tbody>\n",
       "</table>\n",
       "</div>"
      ],
      "text/plain": [
       "Ticker       AMD      AMZN      INTC      META      NVDA      RIVN      TSLA\n",
       "Ticker                                                                      \n",
       "AMD     0.001181  0.000547  0.000489  0.000602  0.000990  0.000892  0.000709\n",
       "AMZN    0.000547  0.000687  0.000286  0.000529  0.000567  0.000604  0.000501\n",
       "INTC    0.000489  0.000286  0.000563  0.000376  0.000436  0.000425  0.000348\n",
       "META    0.000602  0.000529  0.000376  0.001150  0.000633  0.000644  0.000476\n",
       "NVDA    0.000990  0.000567  0.000436  0.000633  0.001252  0.000897  0.000791\n",
       "RIVN    0.000892  0.000604  0.000425  0.000644  0.000897  0.002920  0.001124\n",
       "TSLA    0.000709  0.000501  0.000348  0.000476  0.000791  0.001124  0.001462"
      ]
     },
     "execution_count": 201,
     "metadata": {},
     "output_type": "execute_result"
    }
   ],
   "source": [
    "covariance_matrix"
   ]
  },
  {
   "cell_type": "code",
   "execution_count": 202,
   "metadata": {},
   "outputs": [
    {
     "name": "stderr",
     "output_type": "stream",
     "text": [
      "[*********************100%***********************]  1 of 1 completed\n"
     ]
    },
    {
     "data": {
      "text/plain": [
       "<Axes: ylabel='Ticker'>"
      ]
     },
     "execution_count": 202,
     "metadata": {},
     "output_type": "execute_result"
    },
    {
     "data": {
      "image/png": "[encoded data removed]",
      "text/plain": [
       "<Figure size 800x400 with 1 Axes>"
      ]
     },
     "metadata": {},
     "output_type": "display_data"
    }
   ],
   "source": [
    "# Standard delta and prior\n",
    "market_prices, market_caps = get_market_prices_and_caps(tickers, start_date, end_date)\n",
    "delta = black_litterman.market_implied_risk_aversion(market_prices)\n",
    "prior = black_litterman.market_implied_prior_returns(market_caps, delta, covariance_matrix)\n",
    "\n",
    "market_caps\n",
    "market_prices\n",
    "prior.plot.barh(figsize=(8,4))"
   ]
  },
  {
   "cell_type": "code",
   "execution_count": null,
   "metadata": {},
   "outputs": [],
   "source": [
    "view_dict = {\"TSLA\": 0.015, \"NVDA\": 0.03, \"AMZN\": -0.15, \"META\": 0.095, \"RIVN\": -0.055, \"INTC\": -0.035, \"AMD\": 0.025} # these must equate to 1 you idiot\n",
    "view_confidences = [0.3, 0.2, 0.4, 0.3, 0.2, 0.4, 0.3, 0.4]\n",
    "\n",
    "bl = BlackLittermanModel(covariance_matrix, pi=prior, absolute_views=view_dict, view_confidences=view_confidences)"
   ]
  },
  {
   "cell_type": "code",
   "execution_count": 204,
   "metadata": {},
   "outputs": [
    {
     "data": {
      "image/png": "[encoded data removed]",
      "text/plain": [
       "<Figure size 500x500 with 1 Axes>"
      ]
     },
     "metadata": {},
     "output_type": "display_data"
    },
    {
     "data": {
      "text/plain": [
       "array([7.31113491e-05, 6.25891904e-05, 3.43527873e-05, 5.75077685e-05,\n",
       "       1.46022028e-04, 2.81348375e-05, 5.90619222e-05])"
      ]
     },
     "execution_count": 204,
     "metadata": {},
     "output_type": "execute_result"
    }
   ],
   "source": [
    "fig, ax = plt.subplots(figsize=(5,5))\n",
    "im = ax.imshow(bl.omega)\n",
    "\n",
    "ax.set_xticks(np.arange(len(bl.tickers)))\n",
    "ax.set_yticks(np.arange(len(bl.tickers)))\n",
    "\n",
    "ax.set_xticklabels(bl.tickers)\n",
    "ax.set_yticklabels(bl.tickers)\n",
    "plt.show()\n",
    "\n",
    "np.diag(bl.omega)"
   ]
  },
  {
   "cell_type": "code",
   "execution_count": 205,
   "metadata": {},
   "outputs": [
    {
     "data": {
      "text/plain": [
       "Ticker\n",
       "AMD     0.004588\n",
       "AMZN   -0.041284\n",
       "INTC   -0.011061\n",
       "META    0.020238\n",
       "NVDA    0.012372\n",
       "RIVN   -0.008401\n",
       "TSLA    0.047674\n",
       "dtype: float64"
      ]
     },
     "execution_count": 205,
     "metadata": {},
     "output_type": "execute_result"
    }
   ],
   "source": [
    "bl = BlackLittermanModel(\n",
    "    covariance_matrix, \n",
    "    pi=\"market\", \n",
    "    market_caps=market_caps, \n",
    "    risk_aversion=delta, \n",
    "    absolute_views=view_dict, \n",
    "    omega=bl.omega\n",
    ")\n",
    "\n",
    "bl_returns = bl.bl_returns()\n",
    "bl_returns"
   ]
  },
  {
   "cell_type": "code",
   "execution_count": 206,
   "metadata": {},
   "outputs": [
    {
     "data": {
      "text/html": [
       "<div>\n",
       "<style scoped>\n",
       "    .dataframe tbody tr th:only-of-type {\n",
       "        vertical-align: middle;\n",
       "    }\n",
       "\n",
       "    .dataframe tbody tr th {\n",
       "        vertical-align: top;\n",
       "    }\n",
       "\n",
       "    .dataframe thead th {\n",
       "        text-align: right;\n",
       "    }\n",
       "</style>\n",
       "<table border=\"1\" class=\"dataframe\">\n",
       "  <thead>\n",
       "    <tr style=\"text-align: right;\">\n",
       "      <th></th>\n",
       "      <th>Prior</th>\n",
       "      <th>Posterior</th>\n",
       "      <th>Views</th>\n",
       "    </tr>\n",
       "  </thead>\n",
       "  <tbody>\n",
       "    <tr>\n",
       "      <th>AMD</th>\n",
       "      <td>0.023153</td>\n",
       "      <td>0.004588</td>\n",
       "      <td>0.025</td>\n",
       "    </tr>\n",
       "    <tr>\n",
       "      <th>AMZN</th>\n",
       "      <td>0.022365</td>\n",
       "      <td>-0.041284</td>\n",
       "      <td>-0.150</td>\n",
       "    </tr>\n",
       "    <tr>\n",
       "      <th>INTC</th>\n",
       "      <td>0.021548</td>\n",
       "      <td>-0.011061</td>\n",
       "      <td>-0.035</td>\n",
       "    </tr>\n",
       "    <tr>\n",
       "      <th>META</th>\n",
       "      <td>0.022742</td>\n",
       "      <td>0.020238</td>\n",
       "      <td>0.095</td>\n",
       "    </tr>\n",
       "    <tr>\n",
       "      <th>NVDA</th>\n",
       "      <td>0.023644</td>\n",
       "      <td>0.012372</td>\n",
       "      <td>0.030</td>\n",
       "    </tr>\n",
       "    <tr>\n",
       "      <th>RIVN</th>\n",
       "      <td>0.023288</td>\n",
       "      <td>-0.008401</td>\n",
       "      <td>-0.055</td>\n",
       "    </tr>\n",
       "    <tr>\n",
       "      <th>TSLA</th>\n",
       "      <td>0.023035</td>\n",
       "      <td>0.047674</td>\n",
       "      <td>0.150</td>\n",
       "    </tr>\n",
       "  </tbody>\n",
       "</table>\n",
       "</div>"
      ],
      "text/plain": [
       "         Prior  Posterior  Views\n",
       "AMD   0.023153   0.004588  0.025\n",
       "AMZN  0.022365  -0.041284 -0.150\n",
       "INTC  0.021548  -0.011061 -0.035\n",
       "META  0.022742   0.020238  0.095\n",
       "NVDA  0.023644   0.012372  0.030\n",
       "RIVN  0.023288  -0.008401 -0.055\n",
       "TSLA  0.023035   0.047674  0.150"
      ]
     },
     "execution_count": 206,
     "metadata": {},
     "output_type": "execute_result"
    }
   ],
   "source": [
    "returns_df = pd.DataFrame([prior, bl_returns, pd.Series(view_dict)], index=[\"Prior\", \"Posterior\", \"Views\"]).T\n",
    "returns_df"
   ]
  },
  {
   "cell_type": "code",
   "execution_count": 207,
   "metadata": {},
   "outputs": [
    {
     "data": {
      "text/plain": [
       "<Axes: >"
      ]
     },
     "execution_count": 207,
     "metadata": {},
     "output_type": "execute_result"
    },
    {
     "data": {
      "image/png": "[encoded data removed]",
      "text/plain": [
       "<Figure size 640x480 with 1 Axes>"
      ]
     },
     "metadata": {},
     "output_type": "display_data"
    },
    {
     "data": {
      "image/png": "[encoded data removed]",
      "text/plain": [
       "<Figure size 640x480 with 2 Axes>"
      ]
     },
     "metadata": {},
     "output_type": "display_data"
    }
   ],
   "source": [
    "# visualisation of above\n",
    "returns_df.plot.bar()\n",
    "\n",
    "# Standard posterior covariance matrix\n",
    "posterior_cov = bl.bl_cov()\n",
    "plotting.plot_covariance(posterior_cov)"
   ]
  },
  {
   "cell_type": "code",
   "execution_count": 208,
   "metadata": {},
   "outputs": [
    {
     "name": "stdout",
     "output_type": "stream",
     "text": [
      "OrderedDict([('AMD', 3.906460013e-07), ('AMZN', -8.9685965689e-06), ('INTC', -3.2834590756e-06), ('META', 3.0627057027e-06), ('NVDA', 2.0285295156e-06), ('RIVN', -1.2584686344e-06), ('TSLA', 1.0000080274211194)])\n",
      "OrderedDict([('AMD', 0.0), ('AMZN', 0.0), ('INTC', 0.0), ('META', 0.0), ('NVDA', 0.0), ('RIVN', 0.0), ('TSLA', 1.00001)])\n"
     ]
    }
   ],
   "source": [
    "# Standard efficient frontier and cleaned weights\n",
    "ef = EfficientFrontier(bl_returns, posterior_cov)\n",
    "# min_vol_weights = ef.min_volatility() # max_sharpe not working. look into this\n",
    "max_sharpe_weights = ef.max_sharpe()\n",
    "\n",
    "cleaned_weights = ef.clean_weights()\n",
    "print(max_sharpe_weights)\n",
    "print(cleaned_weights)"
   ]
  },
  {
   "cell_type": "code",
   "execution_count": 210,
   "metadata": {},
   "outputs": [
    {
     "data": {
      "image/png": "[encoded data removed]",
      "text/plain": [
       "<Figure size 640x480 with 1 Axes>"
      ]
     },
     "metadata": {},
     "output_type": "display_data"
    }
   ],
   "source": [
    "model_1_allocations = pd.Series(cleaned_weights).plot.pie()"
   ]
  },
  {
   "cell_type": "code",
   "execution_count": null,
   "metadata": {},
   "outputs": [],
   "source": []
  }
 ],
 "metadata": {
  "kernelspec": {
   "display_name": "env",
   "language": "python",
   "name": "python3"
  },
  "language_info": {
   "codemirror_mode": {
    "name": "ipython",
    "version": 3
   },
   "file_extension": ".py",
   "mimetype": "text/x-python",
   "name": "python",
   "nbconvert_exporter": "python",
   "pygments_lexer": "ipython3",
   "version": "3.10.11"
  }
 },
 "nbformat": 4,
 "nbformat_minor": 2
}
